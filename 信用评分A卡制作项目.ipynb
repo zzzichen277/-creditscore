{
 "cells": [
  {
   "cell_type": "markdown",
   "metadata": {
    "toc": true
   },
   "source": [
    "<h1>目录<span class=\"tocSkip\"></span></h1>\n",
    "<div class=\"toc\"><ul class=\"toc-item\"><li><span><a href=\"#导入相关库\" data-toc-modified-id=\"导入相关库-1\"><span class=\"toc-item-num\">1&nbsp;&nbsp;</span>导入相关库</a></span></li><li><span><a href=\"#读数据\" data-toc-modified-id=\"读数据-2\"><span class=\"toc-item-num\">2&nbsp;&nbsp;</span>读数据</a></span><ul class=\"toc-item\"><li><span><a href=\"#修改列名\" data-toc-modified-id=\"修改列名-2.1\"><span class=\"toc-item-num\">2.1&nbsp;&nbsp;</span>修改列名</a></span></li></ul></li><li><span><a href=\"#描述数据\" data-toc-modified-id=\"描述数据-3\"><span class=\"toc-item-num\">3&nbsp;&nbsp;</span>描述数据</a></span><ul class=\"toc-item\"><li><span><a href=\"#查看个别异常值数据\" data-toc-modified-id=\"查看个别异常值数据-3.1\"><span class=\"toc-item-num\">3.1&nbsp;&nbsp;</span>查看个别异常值数据</a></span></li><li><span><a href=\"#查看各列缺失值占比\" data-toc-modified-id=\"查看各列缺失值占比-3.2\"><span class=\"toc-item-num\">3.2&nbsp;&nbsp;</span>查看各列缺失值占比</a></span></li><li><span><a href=\"#去重\" data-toc-modified-id=\"去重-3.3\"><span class=\"toc-item-num\">3.3&nbsp;&nbsp;</span>去重</a></span></li></ul></li><li><span><a href=\"#划分数据集\" data-toc-modified-id=\"划分数据集-4\"><span class=\"toc-item-num\">4&nbsp;&nbsp;</span>划分数据集</a></span></li><li><span><a href=\"#缺失值处理\" data-toc-modified-id=\"缺失值处理-5\"><span class=\"toc-item-num\">5&nbsp;&nbsp;</span>缺失值处理</a></span><ul class=\"toc-item\"><li><span><a href=\"#查看缺失值分布情况\" data-toc-modified-id=\"查看缺失值分布情况-5.1\"><span class=\"toc-item-num\">5.1&nbsp;&nbsp;</span>查看缺失值分布情况</a></span></li><li><span><a href=\"#单一值替换\" data-toc-modified-id=\"单一值替换-5.2\"><span class=\"toc-item-num\">5.2&nbsp;&nbsp;</span>单一值替换</a></span></li></ul></li><li><span><a href=\"#异常值处理\" data-toc-modified-id=\"异常值处理-6\"><span class=\"toc-item-num\">6&nbsp;&nbsp;</span>异常值处理</a></span><ul class=\"toc-item\"><li><span><a href=\"#定义盖帽法函数\" data-toc-modified-id=\"定义盖帽法函数-6.1\"><span class=\"toc-item-num\">6.1&nbsp;&nbsp;</span>定义盖帽法函数</a></span></li><li><span><a href=\"#互换y中的0,1\" data-toc-modified-id=\"互换y中的0,1-6.2\"><span class=\"toc-item-num\">6.2&nbsp;&nbsp;</span>互换y中的0,1</a></span></li></ul></li><li><span><a href=\"#自定义函数\" data-toc-modified-id=\"自定义函数-7\"><span class=\"toc-item-num\">7&nbsp;&nbsp;</span>自定义函数</a></span><ul class=\"toc-item\"><li><span><a href=\"#定义清洗数据函数\" data-toc-modified-id=\"定义清洗数据函数-7.1\"><span class=\"toc-item-num\">7.1&nbsp;&nbsp;</span>定义清洗数据函数</a></span></li><li><span><a href=\"#定义树结构显示函数\" data-toc-modified-id=\"定义树结构显示函数-7.2\"><span class=\"toc-item-num\">7.2&nbsp;&nbsp;</span>定义树结构显示函数</a></span></li><li><span><a href=\"#定义分箱函数——依据最优分割点\" data-toc-modified-id=\"定义分箱函数——依据最优分割点-7.3\"><span class=\"toc-item-num\">7.3&nbsp;&nbsp;</span>定义分箱函数——依据最优分割点</a></span></li><li><span><a href=\"#定义最优分箱函数——有监督分箱\" data-toc-modified-id=\"定义最优分箱函数——有监督分箱-7.4\"><span class=\"toc-item-num\">7.4&nbsp;&nbsp;</span>定义最优分箱函数——有监督分箱</a></span></li><li><span><a href=\"#定义生成含WOE变量的数据框函数\" data-toc-modified-id=\"定义生成含WOE变量的数据框函数-7.5\"><span class=\"toc-item-num\">7.5&nbsp;&nbsp;</span>定义生成含WOE变量的数据框函数</a></span></li><li><span><a href=\"#定义计算评分函数\" data-toc-modified-id=\"定义计算评分函数-7.6\"><span class=\"toc-item-num\">7.6&nbsp;&nbsp;</span>定义计算评分函数</a></span></li><li><span><a href=\"#定义计算用户总得分函数\" data-toc-modified-id=\"定义计算用户总得分函数-7.7\"><span class=\"toc-item-num\">7.7&nbsp;&nbsp;</span>定义计算用户总得分函数</a></span></li><li><span><a href=\"#定义二分类模型评估函数\" data-toc-modified-id=\"定义二分类模型评估函数-7.8\"><span class=\"toc-item-num\">7.8&nbsp;&nbsp;</span>定义二分类模型评估函数</a></span></li></ul></li><li><span><a href=\"#对每个x生成分箱对象\" data-toc-modified-id=\"对每个x生成分箱对象-8\"><span class=\"toc-item-num\">8&nbsp;&nbsp;</span>对每个x生成分箱对象</a></span><ul class=\"toc-item\"><li><span><a href=\"#RevolvingUtilizationOfUnsecuredLines\" data-toc-modified-id=\"RevolvingUtilizationOfUnsecuredLines-8.1\"><span class=\"toc-item-num\">8.1&nbsp;&nbsp;</span>RevolvingUtilizationOfUnsecuredLines</a></span></li><li><span><a href=\"#age\" data-toc-modified-id=\"age-8.2\"><span class=\"toc-item-num\">8.2&nbsp;&nbsp;</span>age</a></span></li><li><span><a href=\"#NumberOfTime30_59DaysPastDueNotWorse\" data-toc-modified-id=\"NumberOfTime30_59DaysPastDueNotWorse-8.3\"><span class=\"toc-item-num\">8.3&nbsp;&nbsp;</span>NumberOfTime30_59DaysPastDueNotWorse</a></span></li><li><span><a href=\"#DebtRatio\" data-toc-modified-id=\"DebtRatio-8.4\"><span class=\"toc-item-num\">8.4&nbsp;&nbsp;</span>DebtRatio</a></span></li><li><span><a href=\"#MonthlyIncome\" data-toc-modified-id=\"MonthlyIncome-8.5\"><span class=\"toc-item-num\">8.5&nbsp;&nbsp;</span>MonthlyIncome</a></span></li><li><span><a href=\"#NumberOfOpenCreditLinesAndLoans\" data-toc-modified-id=\"NumberOfOpenCreditLinesAndLoans-8.6\"><span class=\"toc-item-num\">8.6&nbsp;&nbsp;</span>NumberOfOpenCreditLinesAndLoans</a></span></li><li><span><a href=\"#NumberOfTimes90DaysLate\" data-toc-modified-id=\"NumberOfTimes90DaysLate-8.7\"><span class=\"toc-item-num\">8.7&nbsp;&nbsp;</span>NumberOfTimes90DaysLate</a></span></li><li><span><a href=\"#NumberRealEstateLoansOrLines\" data-toc-modified-id=\"NumberRealEstateLoansOrLines-8.8\"><span class=\"toc-item-num\">8.8&nbsp;&nbsp;</span>NumberRealEstateLoansOrLines</a></span></li><li><span><a href=\"#NumberOfTime60_89DaysPastDueNotWorse\" data-toc-modified-id=\"NumberOfTime60_89DaysPastDueNotWorse-8.9\"><span class=\"toc-item-num\">8.9&nbsp;&nbsp;</span>NumberOfTime60_89DaysPastDueNotWorse</a></span></li><li><span><a href=\"#NumberOfDependents\" data-toc-modified-id=\"NumberOfDependents-8.10\"><span class=\"toc-item-num\">8.10&nbsp;&nbsp;</span>NumberOfDependents</a></span></li></ul></li><li><span><a href=\"#查看所有变量IV值\" data-toc-modified-id=\"查看所有变量IV值-9\"><span class=\"toc-item-num\">9&nbsp;&nbsp;</span>查看所有变量IV值</a></span></li><li><span><a href=\"#生成WOE数据\" data-toc-modified-id=\"生成WOE数据-10\"><span class=\"toc-item-num\">10&nbsp;&nbsp;</span>生成WOE数据</a></span></li><li><span><a href=\"#建模\" data-toc-modified-id=\"建模-11\"><span class=\"toc-item-num\">11&nbsp;&nbsp;</span>建模</a></span><ul class=\"toc-item\"><li><span><a href=\"#初步建模\" data-toc-modified-id=\"初步建模-11.1\"><span class=\"toc-item-num\">11.1&nbsp;&nbsp;</span>初步建模</a></span></li><li><span><a href=\"#删除不重要的特征\" data-toc-modified-id=\"删除不重要的特征-11.2\"><span class=\"toc-item-num\">11.2&nbsp;&nbsp;</span>删除不重要的特征</a></span></li><li><span><a href=\"#重新建模\" data-toc-modified-id=\"重新建模-11.3\"><span class=\"toc-item-num\">11.3&nbsp;&nbsp;</span>重新建模</a></span></li><li><span><a href=\"#查看共线性\" data-toc-modified-id=\"查看共线性-11.4\"><span class=\"toc-item-num\">11.4&nbsp;&nbsp;</span>查看共线性</a></span></li></ul></li><li><span><a href=\"#生成评分卡\" data-toc-modified-id=\"生成评分卡-12\"><span class=\"toc-item-num\">12&nbsp;&nbsp;</span>生成评分卡</a></span></li><li><span><a href=\"#模型评估\" data-toc-modified-id=\"模型评估-13\"><span class=\"toc-item-num\">13&nbsp;&nbsp;</span>模型评估</a></span></li><li><span><a href=\"#新数据预测\" data-toc-modified-id=\"新数据预测-14\"><span class=\"toc-item-num\">14&nbsp;&nbsp;</span>新数据预测</a></span></li></ul></div>"
   ]
  },
  {
   "cell_type": "markdown",
   "metadata": {},
   "source": [
    "**评分卡制作**"
   ]
  },
  {
   "cell_type": "markdown",
   "metadata": {},
   "source": [
    "该数据是信贷数据,来自kaggle2011年的竞赛数据:[Give Me Some Credit](https://www.kaggle.com/c/GiveMeSomeCredit/overview),评判指标是AUC\n",
    "\n",
    "- SeriousDlqin2yrs:出现90天或更长时间的逾期行为(即定义好坏客户)\n",
    "- RevolvingUtilizationOfUnsecuredLines:贷款以及信用卡可用额度与总额度比例\n",
    "- age:借款人借款年龄\n",
    "- NumberOfTime30-59DaysPastDueNotWorse:过去两年内出现35-59天逾期但是没有发展的更坏的次数\n",
    "- DebtRatio:每月偿还债务,赡养费,生活费用除以月总收入\n",
    "- MonthlyIncome:月收入\n",
    "- NumberOfOpenCreditLinesAndLoans:开放式贷款和信贷数量\n",
    "- NumberOfTimes90DaysLate:借款者有90天或更高逾期的次数\n",
    "- NumberRealEstateLoansOrLines:抵押贷款和房地产贷款数量,包括房屋净值信贷额度\n",
    "- NumberOfTime60-89DaysPastDueNotWorse:过去两年内出现60-89天逾期但是没有发展的更坏的次数\n",
    "- NumberOfDependents:家庭中不包括自身的家属人数(配偶,子女等)"
   ]
  },
  {
   "cell_type": "markdown",
   "metadata": {},
   "source": [
    "## 1.导入相关库"
   ]
  },
  {
   "cell_type": "code",
   "execution_count": 1,
   "metadata": {},
   "outputs": [],
   "source": [
    "%matplotlib inline    \n",
    "import matplotlib.pyplot as plt\n",
    "import numpy as np\n",
    "import pandas as pd\n",
    "import os\n",
    "\n",
    "from collections import Counter                         #计数器，返回的结果是字典#collections:高性能容量数据类型库\n",
    "from sklearn.model_selection import train_test_split\n",
    "import scipy.stats as stats                             #scipy.stats:统计分析包,包含各种分布\n",
    "import seaborn as sns\n",
    "import statsmodels.api as sm                            #标准回归模型库\n",
    "from statsmodels.stats.outliers_influence import variance_inflation_factor\n",
    "# statsmodels:用于拟合多种统计模型，执行统计测试以及数据探索和可视化\n",
    "# variance_inflation_factor:方差膨胀系数(VIF)计算方法"
   ]
  },
  {
   "cell_type": "code",
   "execution_count": 2,
   "metadata": {},
   "outputs": [],
   "source": [
    "import warnings\n",
    "warnings.filterwarnings(action='ignore')  #忽略所有警告信息\n",
    "\n",
    "from IPython.core.interactiveshell import InteractiveShell #输出多行结果\n",
    "InteractiveShell.ast_node_interactivity = \"all\" "
   ]
  },
  {
   "cell_type": "markdown",
   "metadata": {},
   "source": [
    "## 2.读入数据"
   ]
  },
  {
   "cell_type": "code",
   "execution_count": 3,
   "metadata": {},
   "outputs": [
    {
     "data": {
      "text/html": [
       "<div>\n",
       "<style scoped>\n",
       "    .dataframe tbody tr th:only-of-type {\n",
       "        vertical-align: middle;\n",
       "    }\n",
       "\n",
       "    .dataframe tbody tr th {\n",
       "        vertical-align: top;\n",
       "    }\n",
       "\n",
       "    .dataframe thead th {\n",
       "        text-align: right;\n",
       "    }\n",
       "</style>\n",
       "<table border=\"1\" class=\"dataframe\">\n",
       "  <thead>\n",
       "    <tr style=\"text-align: right;\">\n",
       "      <th></th>\n",
       "      <th>SeriousDlqin2yrs</th>\n",
       "      <th>RevolvingUtilizationOfUnsecuredLines</th>\n",
       "      <th>age</th>\n",
       "      <th>NumberOfTime30-59DaysPastDueNotWorse</th>\n",
       "      <th>DebtRatio</th>\n",
       "      <th>MonthlyIncome</th>\n",
       "      <th>NumberOfOpenCreditLinesAndLoans</th>\n",
       "      <th>NumberOfTimes90DaysLate</th>\n",
       "      <th>NumberRealEstateLoansOrLines</th>\n",
       "      <th>NumberOfTime60-89DaysPastDueNotWorse</th>\n",
       "      <th>NumberOfDependents</th>\n",
       "    </tr>\n",
       "  </thead>\n",
       "  <tbody>\n",
       "    <tr>\n",
       "      <th>1</th>\n",
       "      <td>1</td>\n",
       "      <td>0.766127</td>\n",
       "      <td>45</td>\n",
       "      <td>2</td>\n",
       "      <td>0.802982</td>\n",
       "      <td>9120.0</td>\n",
       "      <td>13</td>\n",
       "      <td>0</td>\n",
       "      <td>6</td>\n",
       "      <td>0</td>\n",
       "      <td>2.0</td>\n",
       "    </tr>\n",
       "    <tr>\n",
       "      <th>2</th>\n",
       "      <td>0</td>\n",
       "      <td>0.957151</td>\n",
       "      <td>40</td>\n",
       "      <td>0</td>\n",
       "      <td>0.121876</td>\n",
       "      <td>2600.0</td>\n",
       "      <td>4</td>\n",
       "      <td>0</td>\n",
       "      <td>0</td>\n",
       "      <td>0</td>\n",
       "      <td>1.0</td>\n",
       "    </tr>\n",
       "    <tr>\n",
       "      <th>3</th>\n",
       "      <td>0</td>\n",
       "      <td>0.658180</td>\n",
       "      <td>38</td>\n",
       "      <td>1</td>\n",
       "      <td>0.085113</td>\n",
       "      <td>3042.0</td>\n",
       "      <td>2</td>\n",
       "      <td>1</td>\n",
       "      <td>0</td>\n",
       "      <td>0</td>\n",
       "      <td>0.0</td>\n",
       "    </tr>\n",
       "    <tr>\n",
       "      <th>4</th>\n",
       "      <td>0</td>\n",
       "      <td>0.233810</td>\n",
       "      <td>30</td>\n",
       "      <td>0</td>\n",
       "      <td>0.036050</td>\n",
       "      <td>3300.0</td>\n",
       "      <td>5</td>\n",
       "      <td>0</td>\n",
       "      <td>0</td>\n",
       "      <td>0</td>\n",
       "      <td>0.0</td>\n",
       "    </tr>\n",
       "    <tr>\n",
       "      <th>5</th>\n",
       "      <td>0</td>\n",
       "      <td>0.907239</td>\n",
       "      <td>49</td>\n",
       "      <td>1</td>\n",
       "      <td>0.024926</td>\n",
       "      <td>63588.0</td>\n",
       "      <td>7</td>\n",
       "      <td>0</td>\n",
       "      <td>1</td>\n",
       "      <td>0</td>\n",
       "      <td>0.0</td>\n",
       "    </tr>\n",
       "  </tbody>\n",
       "</table>\n",
       "</div>"
      ],
      "text/plain": [
       "   SeriousDlqin2yrs  RevolvingUtilizationOfUnsecuredLines  age  \\\n",
       "1                 1                              0.766127   45   \n",
       "2                 0                              0.957151   40   \n",
       "3                 0                              0.658180   38   \n",
       "4                 0                              0.233810   30   \n",
       "5                 0                              0.907239   49   \n",
       "\n",
       "   NumberOfTime30-59DaysPastDueNotWorse  DebtRatio  MonthlyIncome  \\\n",
       "1                                     2   0.802982         9120.0   \n",
       "2                                     0   0.121876         2600.0   \n",
       "3                                     1   0.085113         3042.0   \n",
       "4                                     0   0.036050         3300.0   \n",
       "5                                     1   0.024926        63588.0   \n",
       "\n",
       "   NumberOfOpenCreditLinesAndLoans  NumberOfTimes90DaysLate  \\\n",
       "1                               13                        0   \n",
       "2                                4                        0   \n",
       "3                                2                        1   \n",
       "4                                5                        0   \n",
       "5                                7                        0   \n",
       "\n",
       "   NumberRealEstateLoansOrLines  NumberOfTime60-89DaysPastDueNotWorse  \\\n",
       "1                             6                                     0   \n",
       "2                             0                                     0   \n",
       "3                             0                                     0   \n",
       "4                             0                                     0   \n",
       "5                             1                                     0   \n",
       "\n",
       "   NumberOfDependents  \n",
       "1                 2.0  \n",
       "2                 1.0  \n",
       "3                 0.0  \n",
       "4                 0.0  \n",
       "5                 0.0  "
      ]
     },
     "execution_count": 3,
     "metadata": {},
     "output_type": "execute_result"
    },
    {
     "data": {
      "text/plain": [
       "(150000, 11)"
      ]
     },
     "execution_count": 3,
     "metadata": {},
     "output_type": "execute_result"
    },
    {
     "data": {
      "text/html": [
       "<div>\n",
       "<style scoped>\n",
       "    .dataframe tbody tr th:only-of-type {\n",
       "        vertical-align: middle;\n",
       "    }\n",
       "\n",
       "    .dataframe tbody tr th {\n",
       "        vertical-align: top;\n",
       "    }\n",
       "\n",
       "    .dataframe thead th {\n",
       "        text-align: right;\n",
       "    }\n",
       "</style>\n",
       "<table border=\"1\" class=\"dataframe\">\n",
       "  <thead>\n",
       "    <tr style=\"text-align: right;\">\n",
       "      <th></th>\n",
       "      <th>count</th>\n",
       "      <th>mean</th>\n",
       "      <th>std</th>\n",
       "      <th>min</th>\n",
       "      <th>50%</th>\n",
       "      <th>max</th>\n",
       "    </tr>\n",
       "  </thead>\n",
       "  <tbody>\n",
       "    <tr>\n",
       "      <th>SeriousDlqin2yrs</th>\n",
       "      <td>150000.0</td>\n",
       "      <td>0.07</td>\n",
       "      <td>0.25</td>\n",
       "      <td>0.0</td>\n",
       "      <td>0.00</td>\n",
       "      <td>1.0</td>\n",
       "    </tr>\n",
       "    <tr>\n",
       "      <th>RevolvingUtilizationOfUnsecuredLines</th>\n",
       "      <td>150000.0</td>\n",
       "      <td>6.05</td>\n",
       "      <td>249.76</td>\n",
       "      <td>0.0</td>\n",
       "      <td>0.15</td>\n",
       "      <td>50708.0</td>\n",
       "    </tr>\n",
       "    <tr>\n",
       "      <th>age</th>\n",
       "      <td>150000.0</td>\n",
       "      <td>52.30</td>\n",
       "      <td>14.77</td>\n",
       "      <td>0.0</td>\n",
       "      <td>52.00</td>\n",
       "      <td>109.0</td>\n",
       "    </tr>\n",
       "    <tr>\n",
       "      <th>NumberOfTime30-59DaysPastDueNotWorse</th>\n",
       "      <td>150000.0</td>\n",
       "      <td>0.42</td>\n",
       "      <td>4.19</td>\n",
       "      <td>0.0</td>\n",
       "      <td>0.00</td>\n",
       "      <td>98.0</td>\n",
       "    </tr>\n",
       "    <tr>\n",
       "      <th>DebtRatio</th>\n",
       "      <td>150000.0</td>\n",
       "      <td>353.01</td>\n",
       "      <td>2037.82</td>\n",
       "      <td>0.0</td>\n",
       "      <td>0.37</td>\n",
       "      <td>329664.0</td>\n",
       "    </tr>\n",
       "    <tr>\n",
       "      <th>MonthlyIncome</th>\n",
       "      <td>120269.0</td>\n",
       "      <td>6670.22</td>\n",
       "      <td>14384.67</td>\n",
       "      <td>0.0</td>\n",
       "      <td>5400.00</td>\n",
       "      <td>3008750.0</td>\n",
       "    </tr>\n",
       "    <tr>\n",
       "      <th>NumberOfOpenCreditLinesAndLoans</th>\n",
       "      <td>150000.0</td>\n",
       "      <td>8.45</td>\n",
       "      <td>5.15</td>\n",
       "      <td>0.0</td>\n",
       "      <td>8.00</td>\n",
       "      <td>58.0</td>\n",
       "    </tr>\n",
       "    <tr>\n",
       "      <th>NumberOfTimes90DaysLate</th>\n",
       "      <td>150000.0</td>\n",
       "      <td>0.27</td>\n",
       "      <td>4.17</td>\n",
       "      <td>0.0</td>\n",
       "      <td>0.00</td>\n",
       "      <td>98.0</td>\n",
       "    </tr>\n",
       "    <tr>\n",
       "      <th>NumberRealEstateLoansOrLines</th>\n",
       "      <td>150000.0</td>\n",
       "      <td>1.02</td>\n",
       "      <td>1.13</td>\n",
       "      <td>0.0</td>\n",
       "      <td>1.00</td>\n",
       "      <td>54.0</td>\n",
       "    </tr>\n",
       "    <tr>\n",
       "      <th>NumberOfTime60-89DaysPastDueNotWorse</th>\n",
       "      <td>150000.0</td>\n",
       "      <td>0.24</td>\n",
       "      <td>4.16</td>\n",
       "      <td>0.0</td>\n",
       "      <td>0.00</td>\n",
       "      <td>98.0</td>\n",
       "    </tr>\n",
       "    <tr>\n",
       "      <th>NumberOfDependents</th>\n",
       "      <td>146076.0</td>\n",
       "      <td>0.76</td>\n",
       "      <td>1.12</td>\n",
       "      <td>0.0</td>\n",
       "      <td>0.00</td>\n",
       "      <td>20.0</td>\n",
       "    </tr>\n",
       "  </tbody>\n",
       "</table>\n",
       "</div>"
      ],
      "text/plain": [
       "                                         count     mean       std  min  \\\n",
       "SeriousDlqin2yrs                      150000.0     0.07      0.25  0.0   \n",
       "RevolvingUtilizationOfUnsecuredLines  150000.0     6.05    249.76  0.0   \n",
       "age                                   150000.0    52.30     14.77  0.0   \n",
       "NumberOfTime30-59DaysPastDueNotWorse  150000.0     0.42      4.19  0.0   \n",
       "DebtRatio                             150000.0   353.01   2037.82  0.0   \n",
       "MonthlyIncome                         120269.0  6670.22  14384.67  0.0   \n",
       "NumberOfOpenCreditLinesAndLoans       150000.0     8.45      5.15  0.0   \n",
       "NumberOfTimes90DaysLate               150000.0     0.27      4.17  0.0   \n",
       "NumberRealEstateLoansOrLines          150000.0     1.02      1.13  0.0   \n",
       "NumberOfTime60-89DaysPastDueNotWorse  150000.0     0.24      4.16  0.0   \n",
       "NumberOfDependents                    146076.0     0.76      1.12  0.0   \n",
       "\n",
       "                                          50%        max  \n",
       "SeriousDlqin2yrs                         0.00        1.0  \n",
       "RevolvingUtilizationOfUnsecuredLines     0.15    50708.0  \n",
       "age                                     52.00      109.0  \n",
       "NumberOfTime30-59DaysPastDueNotWorse     0.00       98.0  \n",
       "DebtRatio                                0.37   329664.0  \n",
       "MonthlyIncome                         5400.00  3008750.0  \n",
       "NumberOfOpenCreditLinesAndLoans          8.00       58.0  \n",
       "NumberOfTimes90DaysLate                  0.00       98.0  \n",
       "NumberRealEstateLoansOrLines             1.00       54.0  \n",
       "NumberOfTime60-89DaysPastDueNotWorse     0.00       98.0  \n",
       "NumberOfDependents                       0.00       20.0  "
      ]
     },
     "execution_count": 3,
     "metadata": {},
     "output_type": "execute_result"
    }
   ],
   "source": [
    "train_data=pd.read_csv('cs-training.csv',index_col=0)  # index_col指明y的索引是第几列\n",
    "\n",
    "train_data.head()\n",
    "train_data.shape\n",
    "train_data.describe(include='all',percentiles=[0.5]).T.round(2)"
   ]
  },
  {
   "cell_type": "markdown",
   "metadata": {},
   "source": [
    "## 修改列名\n",
    "- 由于一些算法中,列名中的某些符号会带来问题甚至报错,例如这里的\"-\",会在回归公式中被认为是减号,所以换成\"_\""
   ]
  },
  {
   "cell_type": "code",
   "execution_count": 4,
   "metadata": {},
   "outputs": [
    {
     "data": {
      "text/plain": [
       "Index(['SeriousDlqin2yrs', 'RevolvingUtilizationOfUnsecuredLines', 'age',\n",
       "       'NumberOfTime30_59DaysPastDueNotWorse', 'DebtRatio', 'MonthlyIncome',\n",
       "       'NumberOfOpenCreditLinesAndLoans', 'NumberOfTimes90DaysLate',\n",
       "       'NumberRealEstateLoansOrLines', 'NumberOfTime60_89DaysPastDueNotWorse',\n",
       "       'NumberOfDependents'],\n",
       "      dtype='object')"
      ]
     },
     "execution_count": 4,
     "metadata": {},
     "output_type": "execute_result"
    }
   ],
   "source": [
    "train_data.columns=train_data.columns.map(lambda x:x.replace('-','_'))\n",
    "train_data.columns"
   ]
  },
  {
   "cell_type": "markdown",
   "metadata": {},
   "source": [
    "## 3.描述数据"
   ]
  },
  {
   "cell_type": "markdown",
   "metadata": {},
   "source": [
    "### 3.1查看个别异常值数据"
   ]
  },
  {
   "cell_type": "code",
   "execution_count": 5,
   "metadata": {},
   "outputs": [
    {
     "name": "stdout",
     "output_type": "stream",
     "text": [
      "NumberOfTime30_59DaysPastDueNotWorse =98.0 rows: 264\n",
      "NumberOfTimes90DaysLate =98.0 rows: 264\n",
      "NumberOfTime60_89DaysPastDueNotWorse =98.0 rows: 264\n"
     ]
    }
   ],
   "source": [
    "for col in ['NumberOfTime30_59DaysPastDueNotWorse', 'NumberOfTimes90DaysLate', 'NumberOfTime60_89DaysPastDueNotWorse']:\n",
    "    print(col,'=98.0 rows:',train_data[train_data[col]==98.0].shape[0])"
   ]
  },
  {
   "cell_type": "code",
   "execution_count": 6,
   "metadata": {},
   "outputs": [
    {
     "data": {
      "text/html": [
       "<div>\n",
       "<style scoped>\n",
       "    .dataframe tbody tr th:only-of-type {\n",
       "        vertical-align: middle;\n",
       "    }\n",
       "\n",
       "    .dataframe tbody tr th {\n",
       "        vertical-align: top;\n",
       "    }\n",
       "\n",
       "    .dataframe thead th {\n",
       "        text-align: right;\n",
       "    }\n",
       "</style>\n",
       "<table border=\"1\" class=\"dataframe\">\n",
       "  <thead>\n",
       "    <tr style=\"text-align: right;\">\n",
       "      <th></th>\n",
       "      <th>SeriousDlqin2yrs</th>\n",
       "      <th>RevolvingUtilizationOfUnsecuredLines</th>\n",
       "      <th>age</th>\n",
       "      <th>NumberOfTime30_59DaysPastDueNotWorse</th>\n",
       "      <th>DebtRatio</th>\n",
       "      <th>MonthlyIncome</th>\n",
       "      <th>NumberOfOpenCreditLinesAndLoans</th>\n",
       "      <th>NumberOfTimes90DaysLate</th>\n",
       "      <th>NumberRealEstateLoansOrLines</th>\n",
       "      <th>NumberOfTime60_89DaysPastDueNotWorse</th>\n",
       "      <th>NumberOfDependents</th>\n",
       "    </tr>\n",
       "  </thead>\n",
       "  <tbody>\n",
       "    <tr>\n",
       "      <th>1734</th>\n",
       "      <td>1</td>\n",
       "      <td>1.0</td>\n",
       "      <td>27</td>\n",
       "      <td>98</td>\n",
       "      <td>0.0</td>\n",
       "      <td>2700.0</td>\n",
       "      <td>0</td>\n",
       "      <td>98</td>\n",
       "      <td>0</td>\n",
       "      <td>98</td>\n",
       "      <td>0.0</td>\n",
       "    </tr>\n",
       "    <tr>\n",
       "      <th>2287</th>\n",
       "      <td>0</td>\n",
       "      <td>1.0</td>\n",
       "      <td>22</td>\n",
       "      <td>98</td>\n",
       "      <td>0.0</td>\n",
       "      <td>NaN</td>\n",
       "      <td>0</td>\n",
       "      <td>98</td>\n",
       "      <td>0</td>\n",
       "      <td>98</td>\n",
       "      <td>0.0</td>\n",
       "    </tr>\n",
       "    <tr>\n",
       "      <th>3885</th>\n",
       "      <td>0</td>\n",
       "      <td>1.0</td>\n",
       "      <td>38</td>\n",
       "      <td>98</td>\n",
       "      <td>12.0</td>\n",
       "      <td>NaN</td>\n",
       "      <td>0</td>\n",
       "      <td>98</td>\n",
       "      <td>0</td>\n",
       "      <td>98</td>\n",
       "      <td>0.0</td>\n",
       "    </tr>\n",
       "    <tr>\n",
       "      <th>4418</th>\n",
       "      <td>0</td>\n",
       "      <td>1.0</td>\n",
       "      <td>21</td>\n",
       "      <td>98</td>\n",
       "      <td>0.0</td>\n",
       "      <td>0.0</td>\n",
       "      <td>0</td>\n",
       "      <td>98</td>\n",
       "      <td>0</td>\n",
       "      <td>98</td>\n",
       "      <td>0.0</td>\n",
       "    </tr>\n",
       "    <tr>\n",
       "      <th>4706</th>\n",
       "      <td>0</td>\n",
       "      <td>1.0</td>\n",
       "      <td>21</td>\n",
       "      <td>98</td>\n",
       "      <td>0.0</td>\n",
       "      <td>2000.0</td>\n",
       "      <td>0</td>\n",
       "      <td>98</td>\n",
       "      <td>0</td>\n",
       "      <td>98</td>\n",
       "      <td>0.0</td>\n",
       "    </tr>\n",
       "    <tr>\n",
       "      <th>5074</th>\n",
       "      <td>0</td>\n",
       "      <td>1.0</td>\n",
       "      <td>33</td>\n",
       "      <td>98</td>\n",
       "      <td>0.0</td>\n",
       "      <td>1500.0</td>\n",
       "      <td>0</td>\n",
       "      <td>98</td>\n",
       "      <td>0</td>\n",
       "      <td>98</td>\n",
       "      <td>0.0</td>\n",
       "    </tr>\n",
       "    <tr>\n",
       "      <th>6281</th>\n",
       "      <td>1</td>\n",
       "      <td>1.0</td>\n",
       "      <td>51</td>\n",
       "      <td>98</td>\n",
       "      <td>0.0</td>\n",
       "      <td>7500.0</td>\n",
       "      <td>0</td>\n",
       "      <td>98</td>\n",
       "      <td>0</td>\n",
       "      <td>98</td>\n",
       "      <td>0.0</td>\n",
       "    </tr>\n",
       "    <tr>\n",
       "      <th>7033</th>\n",
       "      <td>1</td>\n",
       "      <td>1.0</td>\n",
       "      <td>29</td>\n",
       "      <td>98</td>\n",
       "      <td>0.0</td>\n",
       "      <td>1647.0</td>\n",
       "      <td>0</td>\n",
       "      <td>98</td>\n",
       "      <td>0</td>\n",
       "      <td>98</td>\n",
       "      <td>0.0</td>\n",
       "    </tr>\n",
       "    <tr>\n",
       "      <th>7118</th>\n",
       "      <td>1</td>\n",
       "      <td>1.0</td>\n",
       "      <td>25</td>\n",
       "      <td>98</td>\n",
       "      <td>21.0</td>\n",
       "      <td>NaN</td>\n",
       "      <td>0</td>\n",
       "      <td>98</td>\n",
       "      <td>0</td>\n",
       "      <td>98</td>\n",
       "      <td>NaN</td>\n",
       "    </tr>\n",
       "    <tr>\n",
       "      <th>7688</th>\n",
       "      <td>1</td>\n",
       "      <td>1.0</td>\n",
       "      <td>21</td>\n",
       "      <td>98</td>\n",
       "      <td>0.0</td>\n",
       "      <td>NaN</td>\n",
       "      <td>0</td>\n",
       "      <td>98</td>\n",
       "      <td>0</td>\n",
       "      <td>98</td>\n",
       "      <td>0.0</td>\n",
       "    </tr>\n",
       "  </tbody>\n",
       "</table>\n",
       "</div>"
      ],
      "text/plain": [
       "      SeriousDlqin2yrs  RevolvingUtilizationOfUnsecuredLines  age  \\\n",
       "1734                 1                                   1.0   27   \n",
       "2287                 0                                   1.0   22   \n",
       "3885                 0                                   1.0   38   \n",
       "4418                 0                                   1.0   21   \n",
       "4706                 0                                   1.0   21   \n",
       "5074                 0                                   1.0   33   \n",
       "6281                 1                                   1.0   51   \n",
       "7033                 1                                   1.0   29   \n",
       "7118                 1                                   1.0   25   \n",
       "7688                 1                                   1.0   21   \n",
       "\n",
       "      NumberOfTime30_59DaysPastDueNotWorse  DebtRatio  MonthlyIncome  \\\n",
       "1734                                    98        0.0         2700.0   \n",
       "2287                                    98        0.0            NaN   \n",
       "3885                                    98       12.0            NaN   \n",
       "4418                                    98        0.0            0.0   \n",
       "4706                                    98        0.0         2000.0   \n",
       "5074                                    98        0.0         1500.0   \n",
       "6281                                    98        0.0         7500.0   \n",
       "7033                                    98        0.0         1647.0   \n",
       "7118                                    98       21.0            NaN   \n",
       "7688                                    98        0.0            NaN   \n",
       "\n",
       "      NumberOfOpenCreditLinesAndLoans  NumberOfTimes90DaysLate  \\\n",
       "1734                                0                       98   \n",
       "2287                                0                       98   \n",
       "3885                                0                       98   \n",
       "4418                                0                       98   \n",
       "4706                                0                       98   \n",
       "5074                                0                       98   \n",
       "6281                                0                       98   \n",
       "7033                                0                       98   \n",
       "7118                                0                       98   \n",
       "7688                                0                       98   \n",
       "\n",
       "      NumberRealEstateLoansOrLines  NumberOfTime60_89DaysPastDueNotWorse  \\\n",
       "1734                             0                                    98   \n",
       "2287                             0                                    98   \n",
       "3885                             0                                    98   \n",
       "4418                             0                                    98   \n",
       "4706                             0                                    98   \n",
       "5074                             0                                    98   \n",
       "6281                             0                                    98   \n",
       "7033                             0                                    98   \n",
       "7118                             0                                    98   \n",
       "7688                             0                                    98   \n",
       "\n",
       "      NumberOfDependents  \n",
       "1734                 0.0  \n",
       "2287                 0.0  \n",
       "3885                 0.0  \n",
       "4418                 0.0  \n",
       "4706                 0.0  \n",
       "5074                 0.0  \n",
       "6281                 0.0  \n",
       "7033                 0.0  \n",
       "7118                 NaN  \n",
       "7688                 0.0  "
      ]
     },
     "execution_count": 6,
     "metadata": {},
     "output_type": "execute_result"
    }
   ],
   "source": [
    "train_data[train_data['NumberOfTime30_59DaysPastDueNotWorse']==98.0].head(10)"
   ]
  },
  {
   "cell_type": "markdown",
   "metadata": {},
   "source": [
    "### 3.2查看各列缺失值占比"
   ]
  },
  {
   "cell_type": "code",
   "execution_count": 7,
   "metadata": {},
   "outputs": [
    {
     "data": {
      "text/plain": [
       "SeriousDlqin2yrs                        0.000000\n",
       "RevolvingUtilizationOfUnsecuredLines    0.000000\n",
       "age                                     0.000000\n",
       "NumberOfTime30_59DaysPastDueNotWorse    0.000000\n",
       "DebtRatio                               0.000000\n",
       "MonthlyIncome                           0.198207\n",
       "NumberOfOpenCreditLinesAndLoans         0.000000\n",
       "NumberOfTimes90DaysLate                 0.000000\n",
       "NumberRealEstateLoansOrLines            0.000000\n",
       "NumberOfTime60_89DaysPastDueNotWorse    0.000000\n",
       "NumberOfDependents                      0.026160\n",
       "dtype: float64"
      ]
     },
     "execution_count": 7,
     "metadata": {},
     "output_type": "execute_result"
    }
   ],
   "source": [
    "train_data.isnull().mean()"
   ]
  },
  {
   "cell_type": "markdown",
   "metadata": {},
   "source": [
    "### 3.3去重复行\n",
    "- 对于一般模型影响不大,容易导致回归系数标准误降低,使得对应p值减小  - 可见数据中存在重复行"
   ]
  },
  {
   "cell_type": "code",
   "execution_count": 8,
   "metadata": {},
   "outputs": [
    {
     "data": {
      "text/plain": [
       "(149391, 11)"
      ]
     },
     "execution_count": 8,
     "metadata": {},
     "output_type": "execute_result"
    }
   ],
   "source": [
    "train_data.drop_duplicates(inplace=True)  #原数据有150000行\n",
    "train_data.shape"
   ]
  },
  {
   "cell_type": "code",
   "execution_count": 9,
   "metadata": {},
   "outputs": [
    {
     "data": {
      "text/plain": [
       "SeriousDlqin2yrs                        0.000000\n",
       "RevolvingUtilizationOfUnsecuredLines    0.000000\n",
       "age                                     0.000000\n",
       "NumberOfTime30_59DaysPastDueNotWorse    0.000000\n",
       "DebtRatio                               0.000000\n",
       "MonthlyIncome                           0.195601\n",
       "NumberOfOpenCreditLinesAndLoans         0.000000\n",
       "NumberOfTimes90DaysLate                 0.000000\n",
       "NumberRealEstateLoansOrLines            0.000000\n",
       "NumberOfTime60_89DaysPastDueNotWorse    0.000000\n",
       "NumberOfDependents                      0.025624\n",
       "dtype: float64"
      ]
     },
     "execution_count": 9,
     "metadata": {},
     "output_type": "execute_result"
    }
   ],
   "source": [
    "train_data.isnull().mean()"
   ]
  },
  {
   "cell_type": "markdown",
   "metadata": {},
   "source": [
    "## 4.划分数据集"
   ]
  },
  {
   "cell_type": "code",
   "execution_count": 10,
   "metadata": {},
   "outputs": [
    {
     "data": {
      "text/html": [
       "<div>\n",
       "<style scoped>\n",
       "    .dataframe tbody tr th:only-of-type {\n",
       "        vertical-align: middle;\n",
       "    }\n",
       "\n",
       "    .dataframe tbody tr th {\n",
       "        vertical-align: top;\n",
       "    }\n",
       "\n",
       "    .dataframe thead th {\n",
       "        text-align: right;\n",
       "    }\n",
       "</style>\n",
       "<table border=\"1\" class=\"dataframe\">\n",
       "  <thead>\n",
       "    <tr style=\"text-align: right;\">\n",
       "      <th></th>\n",
       "      <th>SeriousDlqin2yrs</th>\n",
       "      <th>RevolvingUtilizationOfUnsecuredLines</th>\n",
       "      <th>age</th>\n",
       "      <th>NumberOfTime30_59DaysPastDueNotWorse</th>\n",
       "      <th>DebtRatio</th>\n",
       "      <th>MonthlyIncome</th>\n",
       "      <th>NumberOfOpenCreditLinesAndLoans</th>\n",
       "      <th>NumberOfTimes90DaysLate</th>\n",
       "      <th>NumberRealEstateLoansOrLines</th>\n",
       "      <th>NumberOfTime60_89DaysPastDueNotWorse</th>\n",
       "      <th>NumberOfDependents</th>\n",
       "    </tr>\n",
       "  </thead>\n",
       "  <tbody>\n",
       "    <tr>\n",
       "      <th>1</th>\n",
       "      <td>1</td>\n",
       "      <td>0.766127</td>\n",
       "      <td>45</td>\n",
       "      <td>2</td>\n",
       "      <td>0.802982</td>\n",
       "      <td>9120.0</td>\n",
       "      <td>13</td>\n",
       "      <td>0</td>\n",
       "      <td>6</td>\n",
       "      <td>0</td>\n",
       "      <td>2.0</td>\n",
       "    </tr>\n",
       "    <tr>\n",
       "      <th>2</th>\n",
       "      <td>0</td>\n",
       "      <td>0.957151</td>\n",
       "      <td>40</td>\n",
       "      <td>0</td>\n",
       "      <td>0.121876</td>\n",
       "      <td>2600.0</td>\n",
       "      <td>4</td>\n",
       "      <td>0</td>\n",
       "      <td>0</td>\n",
       "      <td>0</td>\n",
       "      <td>1.0</td>\n",
       "    </tr>\n",
       "    <tr>\n",
       "      <th>3</th>\n",
       "      <td>0</td>\n",
       "      <td>0.658180</td>\n",
       "      <td>38</td>\n",
       "      <td>1</td>\n",
       "      <td>0.085113</td>\n",
       "      <td>3042.0</td>\n",
       "      <td>2</td>\n",
       "      <td>1</td>\n",
       "      <td>0</td>\n",
       "      <td>0</td>\n",
       "      <td>0.0</td>\n",
       "    </tr>\n",
       "    <tr>\n",
       "      <th>4</th>\n",
       "      <td>0</td>\n",
       "      <td>0.233810</td>\n",
       "      <td>30</td>\n",
       "      <td>0</td>\n",
       "      <td>0.036050</td>\n",
       "      <td>3300.0</td>\n",
       "      <td>5</td>\n",
       "      <td>0</td>\n",
       "      <td>0</td>\n",
       "      <td>0</td>\n",
       "      <td>0.0</td>\n",
       "    </tr>\n",
       "    <tr>\n",
       "      <th>5</th>\n",
       "      <td>0</td>\n",
       "      <td>0.907239</td>\n",
       "      <td>49</td>\n",
       "      <td>1</td>\n",
       "      <td>0.024926</td>\n",
       "      <td>63588.0</td>\n",
       "      <td>7</td>\n",
       "      <td>0</td>\n",
       "      <td>1</td>\n",
       "      <td>0</td>\n",
       "      <td>0.0</td>\n",
       "    </tr>\n",
       "  </tbody>\n",
       "</table>\n",
       "</div>"
      ],
      "text/plain": [
       "   SeriousDlqin2yrs  RevolvingUtilizationOfUnsecuredLines  age  \\\n",
       "1                 1                              0.766127   45   \n",
       "2                 0                              0.957151   40   \n",
       "3                 0                              0.658180   38   \n",
       "4                 0                              0.233810   30   \n",
       "5                 0                              0.907239   49   \n",
       "\n",
       "   NumberOfTime30_59DaysPastDueNotWorse  DebtRatio  MonthlyIncome  \\\n",
       "1                                     2   0.802982         9120.0   \n",
       "2                                     0   0.121876         2600.0   \n",
       "3                                     1   0.085113         3042.0   \n",
       "4                                     0   0.036050         3300.0   \n",
       "5                                     1   0.024926        63588.0   \n",
       "\n",
       "   NumberOfOpenCreditLinesAndLoans  NumberOfTimes90DaysLate  \\\n",
       "1                               13                        0   \n",
       "2                                4                        0   \n",
       "3                                2                        1   \n",
       "4                                5                        0   \n",
       "5                                7                        0   \n",
       "\n",
       "   NumberRealEstateLoansOrLines  NumberOfTime60_89DaysPastDueNotWorse  \\\n",
       "1                             6                                     0   \n",
       "2                             0                                     0   \n",
       "3                             0                                     0   \n",
       "4                             0                                     0   \n",
       "5                             1                                     0   \n",
       "\n",
       "   NumberOfDependents  \n",
       "1                 2.0  \n",
       "2                 1.0  \n",
       "3                 0.0  \n",
       "4                 0.0  \n",
       "5                 0.0  "
      ]
     },
     "execution_count": 10,
     "metadata": {},
     "output_type": "execute_result"
    }
   ],
   "source": [
    "train_data.head()"
   ]
  },
  {
   "cell_type": "code",
   "execution_count": 11,
   "metadata": {},
   "outputs": [],
   "source": [
    "Xtrain,Xtest,Ytrain,Ytest=train_test_split(train_data.iloc[:,1:] , train_data['SeriousDlqin2yrs'],\n",
    "                                           test_size=0.3,random_state=1221)"
   ]
  },
  {
   "cell_type": "code",
   "execution_count": 12,
   "metadata": {},
   "outputs": [
    {
     "data": {
      "text/plain": [
       "((104573, 10), (44818, 10))"
      ]
     },
     "execution_count": 12,
     "metadata": {},
     "output_type": "execute_result"
    },
    {
     "data": {
      "text/plain": [
       "((104573,), (44818,))"
      ]
     },
     "execution_count": 12,
     "metadata": {},
     "output_type": "execute_result"
    },
    {
     "data": {
      "text/html": [
       "<div>\n",
       "<style scoped>\n",
       "    .dataframe tbody tr th:only-of-type {\n",
       "        vertical-align: middle;\n",
       "    }\n",
       "\n",
       "    .dataframe tbody tr th {\n",
       "        vertical-align: top;\n",
       "    }\n",
       "\n",
       "    .dataframe thead th {\n",
       "        text-align: right;\n",
       "    }\n",
       "</style>\n",
       "<table border=\"1\" class=\"dataframe\">\n",
       "  <thead>\n",
       "    <tr style=\"text-align: right;\">\n",
       "      <th></th>\n",
       "      <th>RevolvingUtilizationOfUnsecuredLines</th>\n",
       "      <th>age</th>\n",
       "      <th>NumberOfTime30_59DaysPastDueNotWorse</th>\n",
       "      <th>DebtRatio</th>\n",
       "      <th>MonthlyIncome</th>\n",
       "      <th>NumberOfOpenCreditLinesAndLoans</th>\n",
       "      <th>NumberOfTimes90DaysLate</th>\n",
       "      <th>NumberRealEstateLoansOrLines</th>\n",
       "      <th>NumberOfTime60_89DaysPastDueNotWorse</th>\n",
       "      <th>NumberOfDependents</th>\n",
       "    </tr>\n",
       "  </thead>\n",
       "  <tbody>\n",
       "    <tr>\n",
       "      <th>60563</th>\n",
       "      <td>0.000000</td>\n",
       "      <td>27</td>\n",
       "      <td>0</td>\n",
       "      <td>0.063974</td>\n",
       "      <td>2500.0</td>\n",
       "      <td>3</td>\n",
       "      <td>0</td>\n",
       "      <td>0</td>\n",
       "      <td>0</td>\n",
       "      <td>0.0</td>\n",
       "    </tr>\n",
       "    <tr>\n",
       "      <th>106313</th>\n",
       "      <td>0.000000</td>\n",
       "      <td>37</td>\n",
       "      <td>0</td>\n",
       "      <td>0.460616</td>\n",
       "      <td>2500.0</td>\n",
       "      <td>5</td>\n",
       "      <td>0</td>\n",
       "      <td>1</td>\n",
       "      <td>0</td>\n",
       "      <td>0.0</td>\n",
       "    </tr>\n",
       "    <tr>\n",
       "      <th>82817</th>\n",
       "      <td>0.783495</td>\n",
       "      <td>32</td>\n",
       "      <td>0</td>\n",
       "      <td>0.788692</td>\n",
       "      <td>6667.0</td>\n",
       "      <td>10</td>\n",
       "      <td>0</td>\n",
       "      <td>1</td>\n",
       "      <td>0</td>\n",
       "      <td>0.0</td>\n",
       "    </tr>\n",
       "    <tr>\n",
       "      <th>137557</th>\n",
       "      <td>0.028468</td>\n",
       "      <td>53</td>\n",
       "      <td>0</td>\n",
       "      <td>1935.000000</td>\n",
       "      <td>NaN</td>\n",
       "      <td>7</td>\n",
       "      <td>0</td>\n",
       "      <td>1</td>\n",
       "      <td>0</td>\n",
       "      <td>0.0</td>\n",
       "    </tr>\n",
       "    <tr>\n",
       "      <th>51853</th>\n",
       "      <td>0.778910</td>\n",
       "      <td>58</td>\n",
       "      <td>1</td>\n",
       "      <td>0.133248</td>\n",
       "      <td>1560.0</td>\n",
       "      <td>2</td>\n",
       "      <td>1</td>\n",
       "      <td>0</td>\n",
       "      <td>0</td>\n",
       "      <td>2.0</td>\n",
       "    </tr>\n",
       "  </tbody>\n",
       "</table>\n",
       "</div>"
      ],
      "text/plain": [
       "        RevolvingUtilizationOfUnsecuredLines  age  \\\n",
       "60563                               0.000000   27   \n",
       "106313                              0.000000   37   \n",
       "82817                               0.783495   32   \n",
       "137557                              0.028468   53   \n",
       "51853                               0.778910   58   \n",
       "\n",
       "        NumberOfTime30_59DaysPastDueNotWorse    DebtRatio  MonthlyIncome  \\\n",
       "60563                                      0     0.063974         2500.0   \n",
       "106313                                     0     0.460616         2500.0   \n",
       "82817                                      0     0.788692         6667.0   \n",
       "137557                                     0  1935.000000            NaN   \n",
       "51853                                      1     0.133248         1560.0   \n",
       "\n",
       "        NumberOfOpenCreditLinesAndLoans  NumberOfTimes90DaysLate  \\\n",
       "60563                                 3                        0   \n",
       "106313                                5                        0   \n",
       "82817                                10                        0   \n",
       "137557                                7                        0   \n",
       "51853                                 2                        1   \n",
       "\n",
       "        NumberRealEstateLoansOrLines  NumberOfTime60_89DaysPastDueNotWorse  \\\n",
       "60563                              0                                     0   \n",
       "106313                             1                                     0   \n",
       "82817                              1                                     0   \n",
       "137557                             1                                     0   \n",
       "51853                              0                                     0   \n",
       "\n",
       "        NumberOfDependents  \n",
       "60563                  0.0  \n",
       "106313                 0.0  \n",
       "82817                  0.0  \n",
       "137557                 0.0  \n",
       "51853                  2.0  "
      ]
     },
     "execution_count": 12,
     "metadata": {},
     "output_type": "execute_result"
    }
   ],
   "source": [
    "Xtrain.shape,Xtest.shape\n",
    "Ytrain.shape,Ytest.shape\n",
    "Xtrain.head()"
   ]
  },
  {
   "cell_type": "markdown",
   "metadata": {},
   "source": [
    "## 5缺失值处理"
   ]
  },
  {
   "cell_type": "markdown",
   "metadata": {},
   "source": [
    "缺失值处理方法的选择,主要依据是业务逻辑和缺失值占比,在对预测结果的影响尽可能小的情况下,对缺失值进行处理以满足算法需求,所以要理解每个缺失值处理方法带来的影响,下面的缺失值处理方法没有特殊说明均是对特征(列)的处理:\n",
    "\n",
    "1. 占比较多:如80%以上:删除缺失值所在的列\n",
    "    - 如果某些行缺失值占比较多,或者缺失值所在字段是苛刻的必须有值的,删除行\n",
    "2. 占比一般:如30%-80%:将缺失值作为单独的一个分类\n",
    "    - 如果特征是连续的,则其他已有值分箱\n",
    "    - 如果特征是分类的,考虑其他分类是否需要重分箱\n",
    "3. 占比少:10%-30%:多重插补:认为若干特征之间有相关性,则可以相互预测缺失值\n",
    "    - 需满足的假设:MAR:Missing At Random:数据缺失的概率仅和已观测的数据相关,即缺失的概率与未知的数据无关,即与变量的具体数值无关\n",
    "    - 迭代(循环)次数可能的话超过40,选择所有的变量甚至额外的辅助变量\n",
    "    - 详细的计算过程参考:[Multiple Imputation by Chained Equations: What is it and how does it work?](https://www.ncbi.nlm.nih.gov/pmc/articles/PMC3074241/)\n",
    "4. 占比较少:10%以下:单一值替换,如中位数,众数\n",
    "5. 在决策树中可以将缺失值处理融合到算法里:按比重分配\n",
    "\n",
    "这里的占比并不是固定的,例如缺失值占比只有5%,仍可以用第二种方法,主要依据业务逻辑和算法需求"
   ]
  },
  {
   "cell_type": "markdown",
   "metadata": {},
   "source": [
    "### 5.1查看缺失值分布情况"
   ]
  },
  {
   "cell_type": "code",
   "execution_count": 13,
   "metadata": {},
   "outputs": [
    {
     "data": {
      "text/plain": [
       "<AxesSubplot:>"
      ]
     },
     "execution_count": 13,
     "metadata": {},
     "output_type": "execute_result"
    },
    {
     "data": {
      "image/png": "[encoded data removed]",
      "text/plain": [
       "<Figure size 1800x720 with 2 Axes>"
      ]
     },
     "metadata": {
      "needs_background": "light"
     },
     "output_type": "display_data"
    },
    {
     "data": {
      "text/plain": [
       "<AxesSubplot:>"
      ]
     },
     "execution_count": 13,
     "metadata": {},
     "output_type": "execute_result"
    },
    {
     "data": {
      "image/png": "[encoded data removed]",
      "text/plain": [
       "<Figure size 1800x720 with 2 Axes>"
      ]
     },
     "metadata": {
      "needs_background": "light"
     },
     "output_type": "display_data"
    }
   ],
   "source": [
    "import missingno as msno\n",
    "# 处理缺失值的包,需要安装\n",
    "msno.matrix(Xtrain)\n",
    "plt.show()\n",
    "\n",
    "msno.matrix(Xtest)\n",
    "plt.show()"
   ]
  },
  {
   "cell_type": "markdown",
   "metadata": {},
   "source": [
    "本数据的缺失值处理逻辑:\n",
    "\n",
    "- 对于信用评分卡来说,由于所有变量都需要分箱,故这里缺失值作为单独的箱子即可\n",
    "- 对于最后一列NumberOfDependents,缺失值占比只有2.56%,作为单独的箱子信息不够,故做单一值填补,这列表示家庭人口数,有右偏的倾向,且属于计数的数据,故使用中位数填补"
   ]
  },
  {
   "cell_type": "markdown",
   "metadata": {},
   "source": [
    "### 5.2单一值替换\n",
    "- 将最后一列NumberOfDependents的缺失值替换成中位数"
   ]
  },
  {
   "cell_type": "code",
   "execution_count": 14,
   "metadata": {},
   "outputs": [],
   "source": [
    "NOD_median=Xtrain['NumberOfDependents'].median()\n",
    "Xtrain['NumberOfDependents'].fillna(NOD_median,inplace=True)\n",
    "\n",
    "#同步处理测试集数据\n",
    "Xtest['NumberOfDependents'].fillna(NOD_median,inplace=True)"
   ]
  },
  {
   "cell_type": "markdown",
   "metadata": {},
   "source": [
    "## 6.异常值处理"
   ]
  },
  {
   "cell_type": "markdown",
   "metadata": {},
   "source": [
    "异常值常见的处理方法:\n",
    "\n",
    "1. 删除所在的行\n",
    "2. 替换成缺失值,与缺失值一起处理\n",
    "3. 盖帽法处理\n",
    "\n",
    "结合业务逻辑和算法需求判断是否需要处理异常值以及如何处理,一般情况下盖帽法即可,即将极端异常的值改成不那么异常的极值,当然一些算法例如决策树中连续变量的异常值也可以不做处理"
   ]
  },
  {
   "cell_type": "markdown",
   "metadata": {},
   "source": [
    "### 6.1定义盖帽法函数"
   ]
  },
  {
   "cell_type": "code",
   "execution_count": 15,
   "metadata": {},
   "outputs": [],
   "source": [
    "def block(train_x,new_x=False):\n",
    "# x是输入的Series对象,lower表示是否替换1%分位数,upper表示是否替换99%分位数\n",
    "#train_x是训练集的特征集合，new_x是测试集或新数据的特征集合\n",
    "    ql=train_x.quantile(0.01)\n",
    "    qu=train_x.quantile(0.99)\n",
    "    \n",
    "    if new_x:\n",
    "        new_x=new_x.mask(new_x<ql,ql)\n",
    "        new_x=new_x.mask(new_x>qu,qu)\n",
    "        x=new_x.copy()\n",
    "    else:\n",
    "        train_x=train_x.mask(train_x<ql,ql)\n",
    "        train_x=train_x.mask(train_x>qu,qu)\n",
    "        x=train_x.copy()        \n",
    "    return x"
   ]
  },
  {
   "cell_type": "markdown",
   "metadata": {},
   "source": [
    "## 互换y中的0,1           ？？？？\n",
    "- 把违约人标记为0,不违约人标记为1"
   ]
  },
  {
   "cell_type": "code",
   "execution_count": 16,
   "metadata": {},
   "outputs": [],
   "source": [
    "Ytrain=1-Ytrain\n",
    "Ytest=1-Ytest"
   ]
  },
  {
   "cell_type": "markdown",
   "metadata": {},
   "source": [
    "## 7.自定义函数：- 输出树结构函数、分箱函数、生成WOE变量函数"
   ]
  },
  {
   "cell_type": "markdown",
   "metadata": {},
   "source": [
    "### 7.1定义清洗数据函数 - 汇总清洗过程，新数据按测试集数据方式同步\n"
   ]
  },
  {
   "cell_type": "code",
   "execution_count": 17,
   "metadata": {},
   "outputs": [],
   "source": [
    "def datacleaning(testdata,include_y=False):\n",
    "    testdata.columns=testdata.columns.map(lambda x:x.replace('-','_'))\n",
    "    testdata['NumberOfDependents'].fillna(NOD_median,inplace=True)      #新数据的缺失值需要用训练集的填充方式处理\n",
    "    if include_y:\n",
    "        testdata[\"SeriousDlqin2yrs\"]=1-testdata.SeriousDlqin2yrs  #sklearn的pipeline或独热编码方式处理\n",
    "    return testdata"
   ]
  },
  {
   "cell_type": "markdown",
   "metadata": {},
   "source": [
    "### 7.2定义树结构显示函数"
   ]
  },
  {
   "cell_type": "code",
   "execution_count": 18,
   "metadata": {},
   "outputs": [],
   "source": [
    "def tree_structure(estimator,colnames,rounds=2):\n",
    "    \"\"\"\n",
    "    函数说明：需要拟合完训练数据的CART树对象 \\输出描述树结构的字符串 \\ 打印输出\n",
    "    参数：    estimator：CART树对象    colnames：列名    rounds:分割点的有效位数\n",
    "    输出：    树结构的字符串\n",
    "    \"\"\"\n",
    "    import numpy as np\n",
    "    \n",
    "    n_nodes=estimator.tree_.node_count\n",
    "    children_left=estimator.tree_.children_left\n",
    "    children_right=estimator.tree_.children_right\n",
    "    \n",
    "    feature=estimator.tree_.feature\n",
    "    threshold=estimator.tree_.threshold.round(rounds)\n",
    "    \n",
    "    node_depth=np.zeros(n_nodes,int) # 用于计算每个节点的深度\n",
    "    is_leaves=np.zeros(n_nodes,bool)    # 用于判断每个节点是否为叶节点\n",
    "    stack=[(0,-1)]   # 用于存放节点的id及其父节点的深度,起始为根节点\n",
    "    \n",
    "    while len(stack):\n",
    "        node_id,parent_depth=stack.pop()\n",
    "        node_depth[node_id]=parent_depth+1\n",
    "        \n",
    "        #如果是内部节点\n",
    "        if(children_left[node_id]!=children_right[node_id]):\n",
    "            stack.append((children_right[node_id],parent_depth+1))\n",
    "            stack.append((children_left[node_id],parent_depth+1))\n",
    "        else:\n",
    "            is_leaves[node_id]=True\n",
    "    out=\"The CART tree structure has \"+ str(n_nodes)+ \" nodes, tree structure: \\n\"\n",
    "    for i in range(n_nodes):\n",
    "        if is_leaves[i]:\n",
    "            out +=node_depth[i]*\"\\t\"+\"node = \"+str(i)+\" leaf node.\\n\"\n",
    "        else:\n",
    "            if (type(colnames) !=str):\n",
    "                col=colnames['feature[i]']\n",
    "            else:\n",
    "                col=colnames\n",
    "            out+=node_depth[i]*\"\\t\"+\"node = \"+str(i)+\" test node:go  to node \"+str(children_left[i])+\\\n",
    "                \" if \"+str(col)+\" <= \"+str(threshold[i])+\" else to node \"+str(children_right[i])+\".\\n\"\n",
    "    return out"
   ]
  },
  {
   "cell_type": "markdown",
   "metadata": {},
   "source": [
    "### 7.3定义分箱函数——依据最优分割点"
   ]
  },
  {
   "attachments": {
    "%E5%9B%BE%E7%89%87.png": {
     "image/png": "[encoded data removed]"
    }
   },
   "cell_type": "markdown",
   "metadata": {},
   "source": [
    "- 某特征的WOE和IV计算公式\n",
    "![%E5%9B%BE%E7%89%87.png](attachment:%E5%9B%BE%E7%89%87.png)"
   ]
  },
  {
   "cell_type": "code",
   "execution_count": 19,
   "metadata": {},
   "outputs": [],
   "source": [
    "def smbin_cu(df,y,x,cutpoints=None,category=False,plot_method=True):\n",
    "    \"\"\"\n",
    "    函数说明：自定义分箱函数,用户自定义分割点  \\ y是二元响应变量,1表示好,0表示坏\n",
    "    \n",
    "    参数：\n",
    "    df:训练集特征数据框    y:二元因变量    x:连续型特征的名字    cutpoints:用户自定义的分割点(已排序,包含最大最小值)\n",
    "    category:x是否是一个分类变量    plot_method:.是否画WOE图\n",
    "    \n",
    "    输出：\n",
    "     一个pandas序列:\n",
    "        IVtable:IV表格,包含WOE和IV值        IV:IV值        Xname:x的列名        \n",
    "        Dict:箱子和WOE值的对应关系生成字典        Xbin:分箱后的x        Cutpoints:最优分割点   \n",
    "    \"\"\"\n",
    "    import pandas as pd \n",
    "    import numpy as np\n",
    "    import matplotlib.pyplot as plt\n",
    "    \n",
    "    # 创建IVtable,包含WOE和IV值信息\n",
    "    if category:\n",
    "        bins=df[x].astype('category')\n",
    "    else:\n",
    "        bins=pd.cut(df[x],cutpoints,include_lowest=True)\n",
    "    CutRec=bins.value_counts(dropna=False,sort=False)\n",
    "    IVtable=pd.DataFrame({\"Bins\":CutRec.index.astype(str),\n",
    "                          \"CntRec\":CutRec.values})\n",
    "    IVtable['CntGood']=bins[y==1].value_counts(dropna=False,sort=False).values\n",
    "    IVtable['CntBad']=bins[y==0].value_counts(dropna=False,sort=False).values\n",
    "    IVtable=IVtable.append(IVtable.sum(axis=0),ignore_index=True)\n",
    "    IVtable.iloc[-1,0]='Total'\n",
    "    \n",
    "    IVtable['PctRec']=IVtable['CntRec']/IVtable['CntRec'].iloc[-1]\n",
    "    IVtable['PctGood']=IVtable['CntGood']/IVtable['CntGood'].iloc[-1]\n",
    "    IVtable['PctBad']=IVtable['CntBad']/IVtable['CntBad'].iloc[-1]\n",
    "    \n",
    "    IVtable['WOE']=np.log(IVtable['PctGood']/IVtable['PctBad']).round(4)\n",
    "    IVtable['IV']=((IVtable['PctGood']-IVtable['PctBad'])*IVtable['WOE']).round(4)\n",
    "    IVtable['WOE'].iat[-1]=np.nan\n",
    "    #IVtable['WOE'].iat[-1]相当于IVtable['WOE'].iloc[-1]\n",
    "    IVtable['IV'].iat[-1]=IVtable['IV'].iloc[:-1].sum()\n",
    "    \n",
    "    IV=IVtable['IV'].iloc[-1]  #提取IV值\n",
    "    Xname=x    #x的列名\n",
    "    \n",
    "    # 箱子和WOE值的对应关系生成字典\n",
    "    Dict=dict(zip(IVtable['Bins'].iloc[:-1],IVtable['WOE'].iloc[:-1]))\n",
    "    \n",
    "    #画WOE图\n",
    "    if plot_method:\n",
    "        pd.DataFrame(Dict,index=['WOE']).T.plot(kind=\"bar\",figsize=(16,10))\n",
    "        plt.show()\n",
    "    if category:\n",
    "        cutpoints=np.array(IVtable[\"Bins\"][:-1])\n",
    "    \n",
    "    # 组合结果输出\n",
    "    out=pd.Series({\"IVtable\":IVtable,\"IV\":IV,\"Xname\":Xname,\"Dict\":Dict,\n",
    "                  \"Xbin\":bins,\"Cutpoints\":np.array(cutpoints)})\n",
    "    return out"
   ]
  },
  {
   "cell_type": "markdown",
   "metadata": {},
   "source": [
    "### 7.4定义最优分箱函数——有监督分箱"
   ]
  },
  {
   "cell_type": "code",
   "execution_count": 72,
   "metadata": {},
   "outputs": [],
   "source": [
    "def smbin(df,y,x,p=0.01,max_bin=20,plot_method=True):\n",
    "    \"\"\"\n",
    "    函数说明：最优分箱函数,有监督分箱\n",
    "    算法基于CART树,建树的时候排除缺失值\n",
    "    缺失值作为单独的一个箱子\n",
    "    y是二元响应变量,1表示好,0表示坏\n",
    "    \n",
    "    参数：\n",
    "    df:训练集特征数据框  y:二元因变量    x:连续型特征的名字 p:叶子包含观测数的最小占比(0<p<0.5)\n",
    "    max_bin:最大箱子数(大于2)    plot_method:.是否画WOE图\n",
    "    \n",
    "    输出:\n",
    "    一个pandas序列:\n",
    "        IVtable:IV表格,包含WOE和IV值        IV:IV值\n",
    "        Xname:x的列名        Dict:箱子和WOE值的对应关系生成字典\n",
    "        Xbin:分箱后的x        Tree_structure:输出描述树结构的字符串\n",
    "    \"\"\"\n",
    "    from sklearn.tree import DecisionTreeClassifier\n",
    "    from sklearn.model_selection import GridSearchCV\n",
    "    import numpy as np\n",
    "    import pandas as pd \n",
    "    \n",
    "    # 指明X和Y变量数据,排除NA值\n",
    "    X=np.array(df[x][df[x].notna()]).reshape(-1,1)\n",
    "    Y=y[df[x].notna()]\n",
    "    \n",
    "    # 调参,得到最合适的叶节点观测占比\n",
    "    gini_impure=np.linspace(0,0.001,50)\n",
    "    param_grid={'min_impurity_decrease':gini_impure}\n",
    "    Es=GridSearchCV(DecisionTreeClassifier(),param_grid=param_grid,cv=5)\n",
    "    Es.fit(X,Y)\n",
    "    \n",
    "    # 使用最优参数构建树模型\n",
    "    ES=DecisionTreeClassifier(min_impurity_decrease=Es.best_params_['min_impurity_decrease'],\n",
    "                              max_leaf_nodes=max_bin,\n",
    "                              min_samples_leaf=p)\n",
    "    ES.fit(X,Y)\n",
    "    \n",
    "    \n",
    "    TS = tree_structure(ES,x)  # 输出树结构\n",
    "    TH=ES.tree_.threshold[ES.tree_.children_left!=ES.tree_.children_right]  #抽取测试节点的阈值\n",
    "    \n",
    "    #CP=np.append(TH,np.array([X.max(),X.min()]))  \n",
    "    CP=np.append(TH,np.array([np.inf,-np.inf]))    #计算最优分割点\n",
    "    CP.sort()   #先划分数据集后处理数据，建议用此方法\n",
    "    \n",
    "    #使用自定义分箱函数\n",
    "    smbin_cust=smbin_cu(df,y,x,cutpoints=CP)\n",
    "    \n",
    "    out=smbin_cust.append(pd.Series({'Tree_structure':TS}))\n",
    "    \n",
    "    return out"
   ]
  },
  {
   "cell_type": "markdown",
   "metadata": {},
   "source": [
    "### 7.5定义生成含WOE变量的数据框函数"
   ]
  },
  {
   "cell_type": "code",
   "execution_count": 74,
   "metadata": {},
   "outputs": [],
   "source": [
    "def smgen(df,xlist,isnewdata=False):\n",
    "    \"\"\"\n",
    "    函数说明：使用WOE值生成的新变量得到一个数据框\n",
    "    输入可用对象的列表,对象由smbin或smbin_cu得到\n",
    "    使用的数据必须与在smbin或smbin_cu中使用的数据相同\n",
    "    y是二元响应变量,1表示好,0表示坏\n",
    "    \n",
    "    参数：\n",
    "    df:训练集特征数据框    xlist:输入可用对象的列表,对象由smbin或smbin_cu得到   \n",
    "    isnewdata:默认为False,是为训练集数据生成woe列；设置为True,是为新数据生成woe列\n",
    "    输出:    包含由WOE值组成的新列的数据框  \n",
    "    \"\"\"\n",
    "    \n",
    "    import numpy as np\n",
    "    import pandas as pd \n",
    "    \n",
    "    name_append='_woe'    \n",
    "    out=df.copy()\n",
    "    \n",
    "    # 依据xlist，将x匹配到范围,再到woe\n",
    "    def x_to_woe(x):\n",
    "        ind=list( np.all( [(i.Cutpoints[:-1]-float(x))<=0.,(i.Cutpoints[1:]-float(x))>=0.],axis=0) )\n",
    "#        若smbin函数计算分割点是取得训练集的数据，则需要执行下面的语句把新数据中不存在的数据加入\n",
    "#        if x<i.Cutpoints[0]:\n",
    "#             ind[0]=True\n",
    "#        if x>i.Cutpoints[-1]:\n",
    "#             ind[-1]=True\n",
    "        woe=[*i.Dict.values()][ind.index(True)]\n",
    "        return woe    \n",
    "    \n",
    "    if isnewdata:\n",
    "        #为新数据生成由WOE值组成的新列\n",
    "        for i in xlist:\n",
    "            if type(i.Cutpoints[0])==str:  \n",
    "                out[i.Xname+name_append]= out[i.Xname].astype(str).replace(i.Dict)   #若是分类变量，直接替换\n",
    "            else:\n",
    "                if out[i.Xname].isna().sum()>0:   #若存在缺失值,不存在缺失值数据直接调用x_to_woe函数处理；否则直接调用i.Dict['nan']赋值\n",
    "                    ind0=out[i.Xname].notna()\n",
    "                    out.loc[ind0,i.Xname+name_append]=list( map(x_to_woe,list(out.loc[ind0,i.Xname])) )\n",
    "                    out.loc[out[i.Xname].isna(),i.Xname+name_append]=i.Dict.get('nan')                    \n",
    "                else:\n",
    "                    #若不存在缺失值，直接调用x_to_woe函数处理\n",
    "                    out[i.Xname+name_append]=list( map(x_to_woe,list(out[i.Xname])) )\n",
    "    else:\n",
    "        #为训练集数据生成由WOE值组成的新列\n",
    "        for i_list in xlist:\n",
    "            out[i_list.Xname+name_append]=i_list.Xbin.astype(str).replace(i_list.Dict)\n",
    "        \n",
    "    return out    "
   ]
  },
  {
   "cell_type": "markdown",
   "metadata": {},
   "source": [
    "### 7.6定义计算评分函数"
   ]
  },
  {
   "attachments": {
    "%E5%9B%BE%E7%89%87.png": {
     "image/png": "[encoded data removed]"
    }
   },
   "cell_type": "markdown",
   "metadata": {},
   "source": [
    "- 评分计算公式\n",
    "\n",
    "![%E5%9B%BE%E7%89%87.png](attachment:%E5%9B%BE%E7%89%87.png)"
   ]
  },
  {
   "cell_type": "code",
   "execution_count": 22,
   "metadata": {},
   "outputs": [],
   "source": [
    "def smscale(logitmodel,xlist,pdo=20,score=720,odds=50):\n",
    "    \"\"\"\n",
    "    函数说明：将给定的逻辑回归的参数转化为评分,基于给定的三个参数:pdo,score和odds\n",
    "    \n",
    "    参数：\n",
    "    logitmodel:逻辑回归模型        xlist:输入可用对象的列表,对象由smbin或smbin_cu得到  \n",
    "    pdo:优比变成二倍增加的分数    score:一个指定的分数    odds:一个指定的优比\n",
    "    \n",
    "    输出:\n",
    "    一个pandas序列:\n",
    "        ScoreCard：评分卡        ScoreCardFull:包含woe和系数的评分卡\n",
    "        minmaxscore:最小和最大分值(通过这个数据与业务提供的数据对比，反向调整pdo,score和odds参数)\n",
    "        factor:优比转换成分数时使用的参数        offset:优比转换成分数时使用的参数\n",
    "    \"\"\"\n",
    "    \n",
    "    import numpy as np\n",
    "    import pandas as pd \n",
    "    \n",
    "    # 相关参数\n",
    "    factor=pdo/np.log(2)\n",
    "    offset=score-factor*np.log(odds)\n",
    "    \n",
    "    n=len(xlist)\n",
    "    coef=logitmodel.params[1:]\n",
    "    beta0=logitmodel.params[0]\n",
    "    Score=pd.DataFrame()\n",
    "    j=0\n",
    "    \n",
    "    # 评分卡表格,计算分类评分\n",
    "    for x in xlist:\n",
    "        Score_a=pd.DataFrame({\"Characteristic\":x.Xname,\"Attribute\":list(x.Dict.keys()),\"WOE\":list(x.Dict.values()),\"Coef\":coef[j]})\n",
    "        j+=1\n",
    "        Score=Score.append(Score_a,ignore_index=True)\n",
    "    Score['Points']=offset/n +  (factor * (beta0/n + Score['Coef']*Score['WOE']))\n",
    "    \n",
    "    #公式没有互换0，1：减号-  ；本项目互换了0，1：是加+;\n",
    "    Score['Points']=Score['Points'].astype(int)\n",
    "    \n",
    "    # 计算最高最低分,从而与业务范围对比调整pdo,score和odds参数，直到一致为止\n",
    "    ScoreMax=Score[[\"Characteristic\",\"Points\"]].groupby(\"Characteristic\",sort=False).max().sum()\n",
    "    ScoreMin=Score[[\"Characteristic\",\"Points\"]].groupby(\"Characteristic\",sort=False).min().sum()\n",
    "    minmaxscore=[*ScoreMin,*ScoreMax]\n",
    "    \n",
    "    # 输出结果\n",
    "    out=pd.Series({\"ScoreCard\":Score.iloc[:,[0,1,-1]],\"ScoreCardFull\":Score,\n",
    "                  \"minmaxscore\":minmaxscore,\"factor\":factor,\"offset\":offset})\n",
    "    \n",
    "    return out"
   ]
  },
  {
   "cell_type": "markdown",
   "metadata": {},
   "source": [
    "### 7.7定义计算用户总得分函数"
   ]
  },
  {
   "cell_type": "code",
   "execution_count": 23,
   "metadata": {},
   "outputs": [],
   "source": [
    "def smscoregen(smscale,dataset):\n",
    "    \"\"\"\n",
    "    函数说明：创建一个总得分的数据框    包含每个特征的得分\n",
    "    参数： smscale:smscale函数得到的对象     dataset:需要打分的数据 \n",
    "    输出:   得分组成的新列的数据框\n",
    "    \"\"\" \n",
    "    import numpy as np\n",
    "    import pandas as pd \n",
    "    \n",
    "    out=dataset.copy()\n",
    "    n_col=out.shape[1]\n",
    "    name_append=\"_woe\"\n",
    "    \n",
    "    #获取评分表数据用元组保存并封装在列表中\n",
    "    scorelist=list(smscale.ScoreCardFull.groupby(\"Characteristic\",sort=False))\n",
    "    \n",
    "    #遍历列表并通过WOE值把得分加入dataset中\n",
    "    for score_i in scorelist:\n",
    "        right=pd.DataFrame({score_i[0]+name_append:score_i[1]['WOE'],\n",
    "                           score_i[0]+\"_Score\":score_i[1][\"Points\"]})\n",
    "        out=pd.merge(out,right,how='left',on=score_i[0]+name_append)\n",
    "     \n",
    "    #计算每行总得分\n",
    "    out['Score']=out.iloc[:,n_col:].sum(axis=1)\n",
    "    \n",
    "    return out\n",
    "    "
   ]
  },
  {
   "cell_type": "markdown",
   "metadata": {},
   "source": [
    "### 7.8定义二分类模型评估函数"
   ]
  },
  {
   "cell_type": "code",
   "execution_count": 24,
   "metadata": {},
   "outputs": [],
   "source": [
    "def evaluate01(y_true,score,index='acc',beta=1,plot_method=None,isreported=True):\n",
    "    \"\"\"\n",
    "    函数说明：创建用于评估二分类分类模型的数据框\n",
    "    \n",
    "    参数：\n",
    "    y_true:真实y值(0/1) \n",
    "    score:分类算法预测结果 \n",
    "    index:计算最优阈值的指标:\"acc\",\"ks\"或\"f\"\n",
    "    beta:F统计量中用到的beta值\n",
    "    plot_method:绘制的曲线:\"roc\"或\"ks\"\n",
    "    isreport:是否显示报告;默认是显示\n",
    "    \n",
    "    输出:\n",
    "    一个pandas序列:\n",
    "        evatable：包含如下新列的数据框:\n",
    "                TP:真正例  FP:假正例  FN:假负例   TN:正负例\n",
    "                rpp:预测为正例比例                tpr:真阳性率/灵敏度/召回率\n",
    "                fpr:假阳性率/1-特异度                ppv:精确度\n",
    "                acc:准确率                f_measure:F统计量\n",
    "                ks:ks统计量                lift:lift指标\n",
    "        AUC:ROC曲线下的面积\n",
    "        optimal_cutoff:选择指标对应的最优阈值,以及其他度量的序列\n",
    "        cutoff:最优阈值   \n",
    "    \"\"\"\n",
    "    \n",
    "    import pandas as pd\n",
    "    import numpy as np\n",
    "    import matplotlib.pyplot as plt\n",
    "    \n",
    "    # 分数排序\n",
    "    eva=pd.DataFrame({\"y\":y_true.values,\"Score\":score.values})\n",
    "    eva=eva.sort_values(by='Score',ascending=False)\n",
    "    eva.index=np.arange(eva.shape[0])#重置索引\n",
    "    \n",
    "    # 添加特征\n",
    "    \n",
    "    P=eva['y'][eva['y']==1].shape[0]  #或eva['y'].value_counts()[1]  # 正例个数\n",
    "    N=eva['y'][eva['y']==0].shape[0]  #或eva['y'].value_counts()[0]  # 负例个数\n",
    "    A=P+N       # 总个数\n",
    "    \n",
    "    # 计算各指标\n",
    "   \n",
    "    Prevalance=P/A   # 流行率/患病率\n",
    "   \n",
    "    eva['TP']=eva['y'].cumsum()      #真正例\n",
    "    eva['FP']=(1-eva['y']).cumsum() #假正例\n",
    "    eva['FN']=P-eva['TP']    #假负例\n",
    "    eva['TN']=N-eva['FP']   #真负例 \n",
    "    eva['rpp']=[*(eva.index+1)]  #预测为正例比例\n",
    "    eva['rpp']=eva['rpp']/eva.shape[0]\n",
    "  \n",
    "    eva['tpr']=eva['TP']/P    #真阳性率/灵敏度/召回率\n",
    "    eva['fpr']=eva['FP']/N  #假阳性率/1-特异度\n",
    "   \n",
    "    eva['ppv']=eva['TP']/(eva['TP']+eva['FP'])  #精确度\n",
    "    eva['acc']=(eva['TP']+eva['TN'])/A    #准确率\n",
    "    eva['f_measure']=((1+beta**2)*eva['ppv']*eva['tpr'])/(beta**2*eva['ppv']+eva['tpr'])  #F统计量\n",
    "    eva['ks']=eva['tpr']-eva['fpr']   #ks统计量\n",
    "    eva['lift']=eva['ppv']/Prevalance   # lift指标\n",
    "    \n",
    "    # 计算auc值\n",
    "    auc0=eva[['tpr','fpr']].copy()\n",
    "    auc0['fpr_diff']=auc0['fpr'].diff()\n",
    "    auc0.at[0,'fpr_diff']=auc0.at[0,'fpr']\n",
    "    auc0['area']=auc0['tpr']*auc0['fpr_diff']\n",
    "    auc=auc0['area'].sum()\n",
    "    \n",
    "    #计算给定指标的最优阈值\n",
    "    optimal_cutoff=eva.loc[eva[index].idxmax()]    #idxmax返回第一个最大值的索引\n",
    "    optimal_cutoff=optimal_cutoff[1:]  #排除标签列数据\n",
    "    cutoff=optimal_cutoff.Score\n",
    "    \n",
    "    # 打印报告\n",
    "    if isreported:\n",
    "        #f的作用是转义；没有f,输出的是字符串\n",
    "        print(f\"The optimal cutoff(for {index}) is {optimal_cutoff.Score}\") \n",
    "        print(f\"The maximum value of {index} is: {optimal_cutoff[index].round(4)}\")\n",
    "        print(optimal_cutoff)\n",
    "    \n",
    "    # 绘制ROC曲线\n",
    "    if plot_method=='ROC':\n",
    "        plt.figure()\n",
    "        plt.plot(eva['fpr'],eva['tpr'],label=f\"Area Under Curve: {auc:.2f}\")\n",
    "        plt.plot([0,1],[0,1],'r--')\n",
    "        plt.xlabel('False Positive Rate')\n",
    "        plt.ylabel('True Positive Rate')\n",
    "        plt.title('Receiver operating characteristic')\n",
    "        plt.legend(loc='lower right')\n",
    "        plt.show()\n",
    "        \n",
    "    #绘制KS曲线\n",
    "    if plot_method=='ks':\n",
    "        kscut=eva.loc[eva['ks'].idxmax()]\n",
    "        plt.figure()\n",
    "        plt.plot(eva['rpp'],eva['tpr'],label='True Positive Rate')\n",
    "        plt.plot(eva['rpp'],eva['fpr'],label='False Positive Rate')\n",
    "        plt.plot([kscut['rpp'],kscut['rpp']],[kscut['fpr'],kscut['tpr']],'k--')\n",
    "        plt.legend(loc='lower right')\n",
    "        plt.text(kscut['rpp']-0.24,kscut['fpr']+kscut['ks']/2,f\"max ks:{kscut.ks.round(4)}\")\n",
    "        plt.xlabel('rate of positive predictions')\n",
    "        plt.title('K-S curve')\n",
    "        plt.show()\n",
    "        \n",
    "    #输出结果\n",
    "    out=pd.Series({\"evatable\":eva,\"AUC\":auc,\"optimal_cutoff\":optimal_cutoff,\n",
    "                   \"cutoff\":cutoff})\n",
    "    \n",
    "    return out"
   ]
  },
  {
   "cell_type": "markdown",
   "metadata": {},
   "source": [
    "## 8.对每个x生成分箱对象"
   ]
  },
  {
   "cell_type": "markdown",
   "metadata": {},
   "source": [
    "- 对每个x生成一个对象;记录IV值;生成WOE图\n",
    "- 定义y的名字\n",
    "- 初始化IV值对象"
   ]
  },
  {
   "cell_type": "code",
   "execution_count": 25,
   "metadata": {},
   "outputs": [],
   "source": [
    "y='SeriousDlqin2yrs'\n",
    "iv_all=pd.Series()"
   ]
  },
  {
   "cell_type": "markdown",
   "metadata": {},
   "source": [
    "## RevolvingUtilizationOfUnsecuredLines"
   ]
  },
  {
   "cell_type": "code",
   "execution_count": 26,
   "metadata": {
    "collapsed": true
   },
   "outputs": [
    {
     "data": {
      "image/png": "[encoded data removed]",
      "text/plain": [
       "<Figure size 1152x720 with 1 Axes>"
      ]
     },
     "metadata": {
      "needs_background": "light"
     },
     "output_type": "display_data"
    }
   ],
   "source": [
    "RUO=smbin(Xtrain,Ytrain,'RevolvingUtilizationOfUnsecuredLines')"
   ]
  },
  {
   "cell_type": "markdown",
   "metadata": {},
   "source": [
    "- 查看IVtable"
   ]
  },
  {
   "cell_type": "code",
   "execution_count": 27,
   "metadata": {
    "collapsed": true
   },
   "outputs": [
    {
     "data": {
      "text/html": [
       "<div>\n",
       "<style scoped>\n",
       "    .dataframe tbody tr th:only-of-type {\n",
       "        vertical-align: middle;\n",
       "    }\n",
       "\n",
       "    .dataframe tbody tr th {\n",
       "        vertical-align: top;\n",
       "    }\n",
       "\n",
       "    .dataframe thead th {\n",
       "        text-align: right;\n",
       "    }\n",
       "</style>\n",
       "<table border=\"1\" class=\"dataframe\">\n",
       "  <thead>\n",
       "    <tr style=\"text-align: right;\">\n",
       "      <th></th>\n",
       "      <th>Bins</th>\n",
       "      <th>CntRec</th>\n",
       "      <th>CntGood</th>\n",
       "      <th>CntBad</th>\n",
       "      <th>PctRec</th>\n",
       "      <th>PctGood</th>\n",
       "      <th>PctBad</th>\n",
       "      <th>WOE</th>\n",
       "      <th>IV</th>\n",
       "    </tr>\n",
       "  </thead>\n",
       "  <tbody>\n",
       "    <tr>\n",
       "      <th>0</th>\n",
       "      <td>(-inf, 0.137]</td>\n",
       "      <td>50315</td>\n",
       "      <td>49365</td>\n",
       "      <td>950</td>\n",
       "      <td>0.481147</td>\n",
       "      <td>0.506173</td>\n",
       "      <td>0.134809</td>\n",
       "      <td>1.3230</td>\n",
       "      <td>0.4913</td>\n",
       "    </tr>\n",
       "    <tr>\n",
       "      <th>1</th>\n",
       "      <td>(0.137, 0.301]</td>\n",
       "      <td>14641</td>\n",
       "      <td>14116</td>\n",
       "      <td>525</td>\n",
       "      <td>0.140007</td>\n",
       "      <td>0.144741</td>\n",
       "      <td>0.074500</td>\n",
       "      <td>0.6641</td>\n",
       "      <td>0.0466</td>\n",
       "    </tr>\n",
       "    <tr>\n",
       "      <th>2</th>\n",
       "      <td>(0.301, 0.495]</td>\n",
       "      <td>10736</td>\n",
       "      <td>10108</td>\n",
       "      <td>628</td>\n",
       "      <td>0.102665</td>\n",
       "      <td>0.103644</td>\n",
       "      <td>0.089116</td>\n",
       "      <td>0.1510</td>\n",
       "      <td>0.0022</td>\n",
       "    </tr>\n",
       "    <tr>\n",
       "      <th>3</th>\n",
       "      <td>(0.495, 0.678]</td>\n",
       "      <td>7402</td>\n",
       "      <td>6687</td>\n",
       "      <td>715</td>\n",
       "      <td>0.070783</td>\n",
       "      <td>0.068566</td>\n",
       "      <td>0.101462</td>\n",
       "      <td>-0.3919</td>\n",
       "      <td>0.0129</td>\n",
       "    </tr>\n",
       "    <tr>\n",
       "      <th>4</th>\n",
       "      <td>(0.678, 0.863]</td>\n",
       "      <td>6322</td>\n",
       "      <td>5439</td>\n",
       "      <td>883</td>\n",
       "      <td>0.060455</td>\n",
       "      <td>0.055770</td>\n",
       "      <td>0.125302</td>\n",
       "      <td>-0.8095</td>\n",
       "      <td>0.0563</td>\n",
       "    </tr>\n",
       "    <tr>\n",
       "      <th>5</th>\n",
       "      <td>(0.863, 1.002]</td>\n",
       "      <td>12927</td>\n",
       "      <td>10452</td>\n",
       "      <td>2475</td>\n",
       "      <td>0.123617</td>\n",
       "      <td>0.107171</td>\n",
       "      <td>0.351213</td>\n",
       "      <td>-1.1870</td>\n",
       "      <td>0.2897</td>\n",
       "    </tr>\n",
       "    <tr>\n",
       "      <th>6</th>\n",
       "      <td>(1.002, inf]</td>\n",
       "      <td>2230</td>\n",
       "      <td>1359</td>\n",
       "      <td>871</td>\n",
       "      <td>0.021325</td>\n",
       "      <td>0.013935</td>\n",
       "      <td>0.123599</td>\n",
       "      <td>-2.1827</td>\n",
       "      <td>0.2394</td>\n",
       "    </tr>\n",
       "    <tr>\n",
       "      <th>7</th>\n",
       "      <td>Total</td>\n",
       "      <td>104573</td>\n",
       "      <td>97526</td>\n",
       "      <td>7047</td>\n",
       "      <td>1.000000</td>\n",
       "      <td>1.000000</td>\n",
       "      <td>1.000000</td>\n",
       "      <td>NaN</td>\n",
       "      <td>1.1384</td>\n",
       "    </tr>\n",
       "  </tbody>\n",
       "</table>\n",
       "</div>"
      ],
      "text/plain": [
       "             Bins  CntRec  CntGood  CntBad    PctRec   PctGood    PctBad  \\\n",
       "0   (-inf, 0.137]   50315    49365     950  0.481147  0.506173  0.134809   \n",
       "1  (0.137, 0.301]   14641    14116     525  0.140007  0.144741  0.074500   \n",
       "2  (0.301, 0.495]   10736    10108     628  0.102665  0.103644  0.089116   \n",
       "3  (0.495, 0.678]    7402     6687     715  0.070783  0.068566  0.101462   \n",
       "4  (0.678, 0.863]    6322     5439     883  0.060455  0.055770  0.125302   \n",
       "5  (0.863, 1.002]   12927    10452    2475  0.123617  0.107171  0.351213   \n",
       "6    (1.002, inf]    2230     1359     871  0.021325  0.013935  0.123599   \n",
       "7           Total  104573    97526    7047  1.000000  1.000000  1.000000   \n",
       "\n",
       "      WOE      IV  \n",
       "0  1.3230  0.4913  \n",
       "1  0.6641  0.0466  \n",
       "2  0.1510  0.0022  \n",
       "3 -0.3919  0.0129  \n",
       "4 -0.8095  0.0563  \n",
       "5 -1.1870  0.2897  \n",
       "6 -2.1827  0.2394  \n",
       "7     NaN  1.1384  "
      ]
     },
     "execution_count": 27,
     "metadata": {},
     "output_type": "execute_result"
    }
   ],
   "source": [
    "RUO.IVtable"
   ]
  },
  {
   "cell_type": "markdown",
   "metadata": {},
   "source": [
    "- 查看树结构"
   ]
  },
  {
   "cell_type": "code",
   "execution_count": 28,
   "metadata": {},
   "outputs": [
    {
     "name": "stdout",
     "output_type": "stream",
     "text": [
      "The CART tree structure has 13 nodes, tree structure: \n",
      "node = 0 test node:go  to node 1 if RevolvingUtilizationOfUnsecuredLines <= 0.68 else to node 2.\n",
      "\tnode = 1 test node:go  to node 5 if RevolvingUtilizationOfUnsecuredLines <= 0.3 else to node 6.\n",
      "\tnode = 2 test node:go  to node 3 if RevolvingUtilizationOfUnsecuredLines <= 1.0 else to node 4.\n",
      "\t\tnode = 3 test node:go  to node 7 if RevolvingUtilizationOfUnsecuredLines <= 0.86 else to node 8.\n",
      "\t\tnode = 4 leaf node.\n",
      "\t\tnode = 5 test node:go  to node 11 if RevolvingUtilizationOfUnsecuredLines <= 0.14 else to node 12.\n",
      "\t\tnode = 6 test node:go  to node 9 if RevolvingUtilizationOfUnsecuredLines <= 0.49 else to node 10.\n",
      "\t\t\tnode = 7 leaf node.\n",
      "\t\t\tnode = 8 leaf node.\n",
      "\t\t\tnode = 9 leaf node.\n",
      "\t\t\tnode = 10 leaf node.\n",
      "\t\t\tnode = 11 leaf node.\n",
      "\t\t\tnode = 12 leaf node.\n",
      "\n"
     ]
    }
   ],
   "source": [
    "print(RUO.Tree_structure)"
   ]
  },
  {
   "cell_type": "markdown",
   "metadata": {},
   "source": [
    "- 保存IV值"
   ]
  },
  {
   "cell_type": "code",
   "execution_count": 29,
   "metadata": {},
   "outputs": [
    {
     "data": {
      "text/plain": [
       "RevolvingUtilizationOfUnsecuredLines    1.1384\n",
       "dtype: float64"
      ]
     },
     "execution_count": 29,
     "metadata": {},
     "output_type": "execute_result"
    }
   ],
   "source": [
    "iv_all=iv_all.append(pd.Series({RUO.Xname:RUO.IV}))\n",
    "iv_all"
   ]
  },
  {
   "cell_type": "markdown",
   "metadata": {},
   "source": [
    "## age"
   ]
  },
  {
   "cell_type": "code",
   "execution_count": 30,
   "metadata": {
    "collapsed": true
   },
   "outputs": [
    {
     "data": {
      "image/png": "[encoded data removed]",
      "text/plain": [
       "<Figure size 1152x720 with 1 Axes>"
      ]
     },
     "metadata": {
      "needs_background": "light"
     },
     "output_type": "display_data"
    }
   ],
   "source": [
    "age=smbin(Xtrain,Ytrain,'age')"
   ]
  },
  {
   "cell_type": "markdown",
   "metadata": {},
   "source": [
    "- 查看IVtable"
   ]
  },
  {
   "cell_type": "code",
   "execution_count": 31,
   "metadata": {
    "collapsed": true
   },
   "outputs": [
    {
     "data": {
      "text/html": [
       "<div>\n",
       "<style scoped>\n",
       "    .dataframe tbody tr th:only-of-type {\n",
       "        vertical-align: middle;\n",
       "    }\n",
       "\n",
       "    .dataframe tbody tr th {\n",
       "        vertical-align: top;\n",
       "    }\n",
       "\n",
       "    .dataframe thead th {\n",
       "        text-align: right;\n",
       "    }\n",
       "</style>\n",
       "<table border=\"1\" class=\"dataframe\">\n",
       "  <thead>\n",
       "    <tr style=\"text-align: right;\">\n",
       "      <th></th>\n",
       "      <th>Bins</th>\n",
       "      <th>CntRec</th>\n",
       "      <th>CntGood</th>\n",
       "      <th>CntBad</th>\n",
       "      <th>PctRec</th>\n",
       "      <th>PctGood</th>\n",
       "      <th>PctBad</th>\n",
       "      <th>WOE</th>\n",
       "      <th>IV</th>\n",
       "    </tr>\n",
       "  </thead>\n",
       "  <tbody>\n",
       "    <tr>\n",
       "      <th>0</th>\n",
       "      <td>(-inf, 28.5]</td>\n",
       "      <td>4861</td>\n",
       "      <td>4239</td>\n",
       "      <td>622</td>\n",
       "      <td>0.046484</td>\n",
       "      <td>0.043465</td>\n",
       "      <td>0.088265</td>\n",
       "      <td>-0.7084</td>\n",
       "      <td>0.0317</td>\n",
       "    </tr>\n",
       "    <tr>\n",
       "      <th>1</th>\n",
       "      <td>(28.5, 36.5]</td>\n",
       "      <td>11643</td>\n",
       "      <td>10391</td>\n",
       "      <td>1252</td>\n",
       "      <td>0.111338</td>\n",
       "      <td>0.106546</td>\n",
       "      <td>0.177664</td>\n",
       "      <td>-0.5113</td>\n",
       "      <td>0.0364</td>\n",
       "    </tr>\n",
       "    <tr>\n",
       "      <th>2</th>\n",
       "      <td>(36.5, 43.5]</td>\n",
       "      <td>14465</td>\n",
       "      <td>13163</td>\n",
       "      <td>1302</td>\n",
       "      <td>0.138324</td>\n",
       "      <td>0.134969</td>\n",
       "      <td>0.184759</td>\n",
       "      <td>-0.3140</td>\n",
       "      <td>0.0156</td>\n",
       "    </tr>\n",
       "    <tr>\n",
       "      <th>3</th>\n",
       "      <td>(43.5, 55.5]</td>\n",
       "      <td>30279</td>\n",
       "      <td>27963</td>\n",
       "      <td>2316</td>\n",
       "      <td>0.289549</td>\n",
       "      <td>0.286724</td>\n",
       "      <td>0.328650</td>\n",
       "      <td>-0.1365</td>\n",
       "      <td>0.0057</td>\n",
       "    </tr>\n",
       "    <tr>\n",
       "      <th>4</th>\n",
       "      <td>(55.5, 63.5]</td>\n",
       "      <td>19464</td>\n",
       "      <td>18514</td>\n",
       "      <td>950</td>\n",
       "      <td>0.186128</td>\n",
       "      <td>0.189837</td>\n",
       "      <td>0.134809</td>\n",
       "      <td>0.3423</td>\n",
       "      <td>0.0188</td>\n",
       "    </tr>\n",
       "    <tr>\n",
       "      <th>5</th>\n",
       "      <td>(63.5, inf]</td>\n",
       "      <td>23861</td>\n",
       "      <td>23256</td>\n",
       "      <td>605</td>\n",
       "      <td>0.228176</td>\n",
       "      <td>0.238459</td>\n",
       "      <td>0.085852</td>\n",
       "      <td>1.0216</td>\n",
       "      <td>0.1559</td>\n",
       "    </tr>\n",
       "    <tr>\n",
       "      <th>6</th>\n",
       "      <td>Total</td>\n",
       "      <td>104573</td>\n",
       "      <td>97526</td>\n",
       "      <td>7047</td>\n",
       "      <td>1.000000</td>\n",
       "      <td>1.000000</td>\n",
       "      <td>1.000000</td>\n",
       "      <td>NaN</td>\n",
       "      <td>0.2641</td>\n",
       "    </tr>\n",
       "  </tbody>\n",
       "</table>\n",
       "</div>"
      ],
      "text/plain": [
       "           Bins  CntRec  CntGood  CntBad    PctRec   PctGood    PctBad  \\\n",
       "0  (-inf, 28.5]    4861     4239     622  0.046484  0.043465  0.088265   \n",
       "1  (28.5, 36.5]   11643    10391    1252  0.111338  0.106546  0.177664   \n",
       "2  (36.5, 43.5]   14465    13163    1302  0.138324  0.134969  0.184759   \n",
       "3  (43.5, 55.5]   30279    27963    2316  0.289549  0.286724  0.328650   \n",
       "4  (55.5, 63.5]   19464    18514     950  0.186128  0.189837  0.134809   \n",
       "5   (63.5, inf]   23861    23256     605  0.228176  0.238459  0.085852   \n",
       "6         Total  104573    97526    7047  1.000000  1.000000  1.000000   \n",
       "\n",
       "      WOE      IV  \n",
       "0 -0.7084  0.0317  \n",
       "1 -0.5113  0.0364  \n",
       "2 -0.3140  0.0156  \n",
       "3 -0.1365  0.0057  \n",
       "4  0.3423  0.0188  \n",
       "5  1.0216  0.1559  \n",
       "6     NaN  0.2641  "
      ]
     },
     "execution_count": 31,
     "metadata": {},
     "output_type": "execute_result"
    }
   ],
   "source": [
    "age.IVtable"
   ]
  },
  {
   "cell_type": "markdown",
   "metadata": {},
   "source": [
    "- 保存IV值"
   ]
  },
  {
   "cell_type": "code",
   "execution_count": 32,
   "metadata": {},
   "outputs": [
    {
     "data": {
      "text/plain": [
       "RevolvingUtilizationOfUnsecuredLines    1.1384\n",
       "age                                     0.2641\n",
       "dtype: float64"
      ]
     },
     "execution_count": 32,
     "metadata": {},
     "output_type": "execute_result"
    }
   ],
   "source": [
    "iv_all=iv_all.append(pd.Series({age.Xname:age.IV}))\n",
    "iv_all"
   ]
  },
  {
   "cell_type": "markdown",
   "metadata": {},
   "source": [
    "## NumberOfTime30_59DaysPastDueNotWorse"
   ]
  },
  {
   "cell_type": "code",
   "execution_count": 33,
   "metadata": {
    "collapsed": true
   },
   "outputs": [
    {
     "data": {
      "image/png": "[encoded data removed]",
      "text/plain": [
       "<Figure size 1152x720 with 1 Axes>"
      ]
     },
     "metadata": {
      "needs_background": "light"
     },
     "output_type": "display_data"
    }
   ],
   "source": [
    "NO3059=smbin(Xtrain,Ytrain,'NumberOfTime30_59DaysPastDueNotWorse')"
   ]
  },
  {
   "cell_type": "code",
   "execution_count": 34,
   "metadata": {
    "collapsed": true
   },
   "outputs": [
    {
     "data": {
      "text/html": [
       "<div>\n",
       "<style scoped>\n",
       "    .dataframe tbody tr th:only-of-type {\n",
       "        vertical-align: middle;\n",
       "    }\n",
       "\n",
       "    .dataframe tbody tr th {\n",
       "        vertical-align: top;\n",
       "    }\n",
       "\n",
       "    .dataframe thead th {\n",
       "        text-align: right;\n",
       "    }\n",
       "</style>\n",
       "<table border=\"1\" class=\"dataframe\">\n",
       "  <thead>\n",
       "    <tr style=\"text-align: right;\">\n",
       "      <th></th>\n",
       "      <th>Bins</th>\n",
       "      <th>CntRec</th>\n",
       "      <th>CntGood</th>\n",
       "      <th>CntBad</th>\n",
       "      <th>PctRec</th>\n",
       "      <th>PctGood</th>\n",
       "      <th>PctBad</th>\n",
       "      <th>WOE</th>\n",
       "      <th>IV</th>\n",
       "    </tr>\n",
       "  </thead>\n",
       "  <tbody>\n",
       "    <tr>\n",
       "      <th>0</th>\n",
       "      <td>(-inf, 0.5]</td>\n",
       "      <td>87883</td>\n",
       "      <td>84327</td>\n",
       "      <td>3556</td>\n",
       "      <td>0.840399</td>\n",
       "      <td>0.864662</td>\n",
       "      <td>0.504612</td>\n",
       "      <td>0.5385</td>\n",
       "      <td>0.1939</td>\n",
       "    </tr>\n",
       "    <tr>\n",
       "      <th>1</th>\n",
       "      <td>(0.5, 1.5]</td>\n",
       "      <td>11185</td>\n",
       "      <td>9481</td>\n",
       "      <td>1704</td>\n",
       "      <td>0.106959</td>\n",
       "      <td>0.097215</td>\n",
       "      <td>0.241805</td>\n",
       "      <td>-0.9112</td>\n",
       "      <td>0.1318</td>\n",
       "    </tr>\n",
       "    <tr>\n",
       "      <th>2</th>\n",
       "      <td>(1.5, 2.5]</td>\n",
       "      <td>3193</td>\n",
       "      <td>2353</td>\n",
       "      <td>840</td>\n",
       "      <td>0.030534</td>\n",
       "      <td>0.024127</td>\n",
       "      <td>0.119200</td>\n",
       "      <td>-1.5975</td>\n",
       "      <td>0.1519</td>\n",
       "    </tr>\n",
       "    <tr>\n",
       "      <th>3</th>\n",
       "      <td>(2.5, 3.5]</td>\n",
       "      <td>1215</td>\n",
       "      <td>795</td>\n",
       "      <td>420</td>\n",
       "      <td>0.011619</td>\n",
       "      <td>0.008152</td>\n",
       "      <td>0.059600</td>\n",
       "      <td>-1.9894</td>\n",
       "      <td>0.1024</td>\n",
       "    </tr>\n",
       "    <tr>\n",
       "      <th>4</th>\n",
       "      <td>(3.5, inf]</td>\n",
       "      <td>1097</td>\n",
       "      <td>570</td>\n",
       "      <td>527</td>\n",
       "      <td>0.010490</td>\n",
       "      <td>0.005845</td>\n",
       "      <td>0.074784</td>\n",
       "      <td>-2.5491</td>\n",
       "      <td>0.1757</td>\n",
       "    </tr>\n",
       "    <tr>\n",
       "      <th>5</th>\n",
       "      <td>Total</td>\n",
       "      <td>104573</td>\n",
       "      <td>97526</td>\n",
       "      <td>7047</td>\n",
       "      <td>1.000000</td>\n",
       "      <td>1.000000</td>\n",
       "      <td>1.000000</td>\n",
       "      <td>NaN</td>\n",
       "      <td>0.7557</td>\n",
       "    </tr>\n",
       "  </tbody>\n",
       "</table>\n",
       "</div>"
      ],
      "text/plain": [
       "          Bins  CntRec  CntGood  CntBad    PctRec   PctGood    PctBad     WOE  \\\n",
       "0  (-inf, 0.5]   87883    84327    3556  0.840399  0.864662  0.504612  0.5385   \n",
       "1   (0.5, 1.5]   11185     9481    1704  0.106959  0.097215  0.241805 -0.9112   \n",
       "2   (1.5, 2.5]    3193     2353     840  0.030534  0.024127  0.119200 -1.5975   \n",
       "3   (2.5, 3.5]    1215      795     420  0.011619  0.008152  0.059600 -1.9894   \n",
       "4   (3.5, inf]    1097      570     527  0.010490  0.005845  0.074784 -2.5491   \n",
       "5        Total  104573    97526    7047  1.000000  1.000000  1.000000     NaN   \n",
       "\n",
       "       IV  \n",
       "0  0.1939  \n",
       "1  0.1318  \n",
       "2  0.1519  \n",
       "3  0.1024  \n",
       "4  0.1757  \n",
       "5  0.7557  "
      ]
     },
     "execution_count": 34,
     "metadata": {},
     "output_type": "execute_result"
    }
   ],
   "source": [
    "NO3059.IVtable"
   ]
  },
  {
   "cell_type": "code",
   "execution_count": 35,
   "metadata": {
    "collapsed": true
   },
   "outputs": [
    {
     "data": {
      "text/plain": [
       "RevolvingUtilizationOfUnsecuredLines    1.1384\n",
       "age                                     0.2641\n",
       "NumberOfTime30_59DaysPastDueNotWorse    0.7557\n",
       "dtype: float64"
      ]
     },
     "execution_count": 35,
     "metadata": {},
     "output_type": "execute_result"
    }
   ],
   "source": [
    "iv_all=iv_all.append(pd.Series({NO3059.Xname:NO3059.IV}))\n",
    "iv_all"
   ]
  },
  {
   "cell_type": "markdown",
   "metadata": {},
   "source": [
    "## DebtRatio"
   ]
  },
  {
   "cell_type": "code",
   "execution_count": 36,
   "metadata": {
    "collapsed": true
   },
   "outputs": [
    {
     "data": {
      "image/png": "[encoded data removed]",
      "text/plain": [
       "<Figure size 1152x720 with 1 Axes>"
      ]
     },
     "metadata": {
      "needs_background": "light"
     },
     "output_type": "display_data"
    }
   ],
   "source": [
    "DebtRatio=smbin(Xtrain,Ytrain,'DebtRatio',10)"
   ]
  },
  {
   "cell_type": "code",
   "execution_count": 37,
   "metadata": {
    "collapsed": true
   },
   "outputs": [
    {
     "data": {
      "text/html": [
       "<div>\n",
       "<style scoped>\n",
       "    .dataframe tbody tr th:only-of-type {\n",
       "        vertical-align: middle;\n",
       "    }\n",
       "\n",
       "    .dataframe tbody tr th {\n",
       "        vertical-align: top;\n",
       "    }\n",
       "\n",
       "    .dataframe thead th {\n",
       "        text-align: right;\n",
       "    }\n",
       "</style>\n",
       "<table border=\"1\" class=\"dataframe\">\n",
       "  <thead>\n",
       "    <tr style=\"text-align: right;\">\n",
       "      <th></th>\n",
       "      <th>Bins</th>\n",
       "      <th>CntRec</th>\n",
       "      <th>CntGood</th>\n",
       "      <th>CntBad</th>\n",
       "      <th>PctRec</th>\n",
       "      <th>PctGood</th>\n",
       "      <th>PctBad</th>\n",
       "      <th>WOE</th>\n",
       "      <th>IV</th>\n",
       "    </tr>\n",
       "  </thead>\n",
       "  <tbody>\n",
       "    <tr>\n",
       "      <th>0</th>\n",
       "      <td>(-inf, 0.416]</td>\n",
       "      <td>57656</td>\n",
       "      <td>54222</td>\n",
       "      <td>3434</td>\n",
       "      <td>0.551347</td>\n",
       "      <td>0.555975</td>\n",
       "      <td>0.487300</td>\n",
       "      <td>0.1318</td>\n",
       "      <td>0.0091</td>\n",
       "    </tr>\n",
       "    <tr>\n",
       "      <th>1</th>\n",
       "      <td>(0.416, 0.644]</td>\n",
       "      <td>15225</td>\n",
       "      <td>13981</td>\n",
       "      <td>1244</td>\n",
       "      <td>0.145592</td>\n",
       "      <td>0.143357</td>\n",
       "      <td>0.176529</td>\n",
       "      <td>-0.2081</td>\n",
       "      <td>0.0069</td>\n",
       "    </tr>\n",
       "    <tr>\n",
       "      <th>2</th>\n",
       "      <td>(0.644, 3.973]</td>\n",
       "      <td>10630</td>\n",
       "      <td>9396</td>\n",
       "      <td>1234</td>\n",
       "      <td>0.101651</td>\n",
       "      <td>0.096344</td>\n",
       "      <td>0.175110</td>\n",
       "      <td>-0.5975</td>\n",
       "      <td>0.0471</td>\n",
       "    </tr>\n",
       "    <tr>\n",
       "      <th>3</th>\n",
       "      <td>(3.973, inf]</td>\n",
       "      <td>21062</td>\n",
       "      <td>19927</td>\n",
       "      <td>1135</td>\n",
       "      <td>0.201410</td>\n",
       "      <td>0.204325</td>\n",
       "      <td>0.161061</td>\n",
       "      <td>0.2379</td>\n",
       "      <td>0.0103</td>\n",
       "    </tr>\n",
       "    <tr>\n",
       "      <th>4</th>\n",
       "      <td>Total</td>\n",
       "      <td>104573</td>\n",
       "      <td>97526</td>\n",
       "      <td>7047</td>\n",
       "      <td>1.000000</td>\n",
       "      <td>1.000000</td>\n",
       "      <td>1.000000</td>\n",
       "      <td>NaN</td>\n",
       "      <td>0.0734</td>\n",
       "    </tr>\n",
       "  </tbody>\n",
       "</table>\n",
       "</div>"
      ],
      "text/plain": [
       "             Bins  CntRec  CntGood  CntBad    PctRec   PctGood    PctBad  \\\n",
       "0   (-inf, 0.416]   57656    54222    3434  0.551347  0.555975  0.487300   \n",
       "1  (0.416, 0.644]   15225    13981    1244  0.145592  0.143357  0.176529   \n",
       "2  (0.644, 3.973]   10630     9396    1234  0.101651  0.096344  0.175110   \n",
       "3    (3.973, inf]   21062    19927    1135  0.201410  0.204325  0.161061   \n",
       "4           Total  104573    97526    7047  1.000000  1.000000  1.000000   \n",
       "\n",
       "      WOE      IV  \n",
       "0  0.1318  0.0091  \n",
       "1 -0.2081  0.0069  \n",
       "2 -0.5975  0.0471  \n",
       "3  0.2379  0.0103  \n",
       "4     NaN  0.0734  "
      ]
     },
     "execution_count": 37,
     "metadata": {},
     "output_type": "execute_result"
    }
   ],
   "source": [
    "DebtRatio.IVtable"
   ]
  },
  {
   "cell_type": "code",
   "execution_count": 38,
   "metadata": {
    "collapsed": true
   },
   "outputs": [
    {
     "data": {
      "text/plain": [
       "RevolvingUtilizationOfUnsecuredLines    1.1384\n",
       "age                                     0.2641\n",
       "NumberOfTime30_59DaysPastDueNotWorse    0.7557\n",
       "DebtRatio                               0.0734\n",
       "dtype: float64"
      ]
     },
     "execution_count": 38,
     "metadata": {},
     "output_type": "execute_result"
    }
   ],
   "source": [
    "iv_all=iv_all.append(pd.Series({DebtRatio.Xname:DebtRatio.IV}))\n",
    "iv_all"
   ]
  },
  {
   "cell_type": "markdown",
   "metadata": {},
   "source": [
    "## MonthlyIncome"
   ]
  },
  {
   "cell_type": "code",
   "execution_count": 39,
   "metadata": {
    "collapsed": true
   },
   "outputs": [
    {
     "data": {
      "image/png": "[encoded data removed]",
      "text/plain": [
       "<Figure size 1152x720 with 1 Axes>"
      ]
     },
     "metadata": {
      "needs_background": "light"
     },
     "output_type": "display_data"
    }
   ],
   "source": [
    "MonthlyIncome=smbin(Xtrain,Ytrain,'MonthlyIncome')"
   ]
  },
  {
   "cell_type": "code",
   "execution_count": 40,
   "metadata": {
    "collapsed": true
   },
   "outputs": [
    {
     "data": {
      "text/html": [
       "<div>\n",
       "<style scoped>\n",
       "    .dataframe tbody tr th:only-of-type {\n",
       "        vertical-align: middle;\n",
       "    }\n",
       "\n",
       "    .dataframe tbody tr th {\n",
       "        vertical-align: top;\n",
       "    }\n",
       "\n",
       "    .dataframe thead th {\n",
       "        text-align: right;\n",
       "    }\n",
       "</style>\n",
       "<table border=\"1\" class=\"dataframe\">\n",
       "  <thead>\n",
       "    <tr style=\"text-align: right;\">\n",
       "      <th></th>\n",
       "      <th>Bins</th>\n",
       "      <th>CntRec</th>\n",
       "      <th>CntGood</th>\n",
       "      <th>CntBad</th>\n",
       "      <th>PctRec</th>\n",
       "      <th>PctGood</th>\n",
       "      <th>PctBad</th>\n",
       "      <th>WOE</th>\n",
       "      <th>IV</th>\n",
       "    </tr>\n",
       "  </thead>\n",
       "  <tbody>\n",
       "    <tr>\n",
       "      <th>0</th>\n",
       "      <td>(-inf, 956.5]</td>\n",
       "      <td>2997.0</td>\n",
       "      <td>2850.0</td>\n",
       "      <td>147.0</td>\n",
       "      <td>0.028659</td>\n",
       "      <td>0.029223</td>\n",
       "      <td>0.020860</td>\n",
       "      <td>0.3371</td>\n",
       "      <td>0.0028</td>\n",
       "    </tr>\n",
       "    <tr>\n",
       "      <th>1</th>\n",
       "      <td>(956.5, 3332.5]</td>\n",
       "      <td>17157.0</td>\n",
       "      <td>15438.0</td>\n",
       "      <td>1719.0</td>\n",
       "      <td>0.164067</td>\n",
       "      <td>0.158296</td>\n",
       "      <td>0.243934</td>\n",
       "      <td>-0.4324</td>\n",
       "      <td>0.0370</td>\n",
       "    </tr>\n",
       "    <tr>\n",
       "      <th>2</th>\n",
       "      <td>(3332.5, 5320.5]</td>\n",
       "      <td>21262.0</td>\n",
       "      <td>19555.0</td>\n",
       "      <td>1707.0</td>\n",
       "      <td>0.203322</td>\n",
       "      <td>0.200511</td>\n",
       "      <td>0.242231</td>\n",
       "      <td>-0.1890</td>\n",
       "      <td>0.0079</td>\n",
       "    </tr>\n",
       "    <tr>\n",
       "      <th>3</th>\n",
       "      <td>(5320.5, 6643.5]</td>\n",
       "      <td>11262.0</td>\n",
       "      <td>10494.0</td>\n",
       "      <td>768.0</td>\n",
       "      <td>0.107695</td>\n",
       "      <td>0.107602</td>\n",
       "      <td>0.108983</td>\n",
       "      <td>-0.0127</td>\n",
       "      <td>0.0000</td>\n",
       "    </tr>\n",
       "    <tr>\n",
       "      <th>4</th>\n",
       "      <td>(6643.5, inf]</td>\n",
       "      <td>31417.0</td>\n",
       "      <td>29844.0</td>\n",
       "      <td>1573.0</td>\n",
       "      <td>0.300431</td>\n",
       "      <td>0.306011</td>\n",
       "      <td>0.223216</td>\n",
       "      <td>0.3155</td>\n",
       "      <td>0.0261</td>\n",
       "    </tr>\n",
       "    <tr>\n",
       "      <th>5</th>\n",
       "      <td>NaN</td>\n",
       "      <td>20478.0</td>\n",
       "      <td>19345.0</td>\n",
       "      <td>1133.0</td>\n",
       "      <td>0.195825</td>\n",
       "      <td>0.198357</td>\n",
       "      <td>0.160778</td>\n",
       "      <td>0.2100</td>\n",
       "      <td>0.0079</td>\n",
       "    </tr>\n",
       "    <tr>\n",
       "      <th>6</th>\n",
       "      <td>Total</td>\n",
       "      <td>104573.0</td>\n",
       "      <td>97526.0</td>\n",
       "      <td>7047.0</td>\n",
       "      <td>1.000000</td>\n",
       "      <td>1.000000</td>\n",
       "      <td>1.000000</td>\n",
       "      <td>NaN</td>\n",
       "      <td>0.0817</td>\n",
       "    </tr>\n",
       "  </tbody>\n",
       "</table>\n",
       "</div>"
      ],
      "text/plain": [
       "               Bins    CntRec  CntGood  CntBad    PctRec   PctGood    PctBad  \\\n",
       "0     (-inf, 956.5]    2997.0   2850.0   147.0  0.028659  0.029223  0.020860   \n",
       "1   (956.5, 3332.5]   17157.0  15438.0  1719.0  0.164067  0.158296  0.243934   \n",
       "2  (3332.5, 5320.5]   21262.0  19555.0  1707.0  0.203322  0.200511  0.242231   \n",
       "3  (5320.5, 6643.5]   11262.0  10494.0   768.0  0.107695  0.107602  0.108983   \n",
       "4     (6643.5, inf]   31417.0  29844.0  1573.0  0.300431  0.306011  0.223216   \n",
       "5               NaN   20478.0  19345.0  1133.0  0.195825  0.198357  0.160778   \n",
       "6             Total  104573.0  97526.0  7047.0  1.000000  1.000000  1.000000   \n",
       "\n",
       "      WOE      IV  \n",
       "0  0.3371  0.0028  \n",
       "1 -0.4324  0.0370  \n",
       "2 -0.1890  0.0079  \n",
       "3 -0.0127  0.0000  \n",
       "4  0.3155  0.0261  \n",
       "5  0.2100  0.0079  \n",
       "6     NaN  0.0817  "
      ]
     },
     "execution_count": 40,
     "metadata": {},
     "output_type": "execute_result"
    }
   ],
   "source": [
    "MonthlyIncome.IVtable"
   ]
  },
  {
   "cell_type": "code",
   "execution_count": 41,
   "metadata": {
    "collapsed": true
   },
   "outputs": [
    {
     "data": {
      "text/plain": [
       "RevolvingUtilizationOfUnsecuredLines    1.1384\n",
       "age                                     0.2641\n",
       "NumberOfTime30_59DaysPastDueNotWorse    0.7557\n",
       "DebtRatio                               0.0734\n",
       "MonthlyIncome                           0.0817\n",
       "dtype: float64"
      ]
     },
     "execution_count": 41,
     "metadata": {},
     "output_type": "execute_result"
    }
   ],
   "source": [
    "iv_all=iv_all.append(pd.Series({MonthlyIncome.Xname:MonthlyIncome.IV}))\n",
    "iv_all"
   ]
  },
  {
   "cell_type": "markdown",
   "metadata": {},
   "source": [
    "## NumberOfOpenCreditLinesAndLoans"
   ]
  },
  {
   "cell_type": "code",
   "execution_count": 42,
   "metadata": {
    "collapsed": true
   },
   "outputs": [
    {
     "data": {
      "image/png": "[encoded data removed]",
      "text/plain": [
       "<Figure size 1152x720 with 1 Axes>"
      ]
     },
     "metadata": {
      "needs_background": "light"
     },
     "output_type": "display_data"
    }
   ],
   "source": [
    "NOO=smbin(Xtrain,Ytrain,'NumberOfOpenCreditLinesAndLoans',max_bin=5)"
   ]
  },
  {
   "cell_type": "code",
   "execution_count": 43,
   "metadata": {
    "collapsed": true
   },
   "outputs": [
    {
     "data": {
      "text/html": [
       "<div>\n",
       "<style scoped>\n",
       "    .dataframe tbody tr th:only-of-type {\n",
       "        vertical-align: middle;\n",
       "    }\n",
       "\n",
       "    .dataframe tbody tr th {\n",
       "        vertical-align: top;\n",
       "    }\n",
       "\n",
       "    .dataframe thead th {\n",
       "        text-align: right;\n",
       "    }\n",
       "</style>\n",
       "<table border=\"1\" class=\"dataframe\">\n",
       "  <thead>\n",
       "    <tr style=\"text-align: right;\">\n",
       "      <th></th>\n",
       "      <th>Bins</th>\n",
       "      <th>CntRec</th>\n",
       "      <th>CntGood</th>\n",
       "      <th>CntBad</th>\n",
       "      <th>PctRec</th>\n",
       "      <th>PctGood</th>\n",
       "      <th>PctBad</th>\n",
       "      <th>WOE</th>\n",
       "      <th>IV</th>\n",
       "    </tr>\n",
       "  </thead>\n",
       "  <tbody>\n",
       "    <tr>\n",
       "      <th>0</th>\n",
       "      <td>(-inf, 0.5]</td>\n",
       "      <td>1198</td>\n",
       "      <td>878</td>\n",
       "      <td>320</td>\n",
       "      <td>0.011456</td>\n",
       "      <td>0.009003</td>\n",
       "      <td>0.045409</td>\n",
       "      <td>-1.6182</td>\n",
       "      <td>0.0589</td>\n",
       "    </tr>\n",
       "    <tr>\n",
       "      <th>1</th>\n",
       "      <td>(0.5, 1.5]</td>\n",
       "      <td>2906</td>\n",
       "      <td>2520</td>\n",
       "      <td>386</td>\n",
       "      <td>0.027789</td>\n",
       "      <td>0.025839</td>\n",
       "      <td>0.054775</td>\n",
       "      <td>-0.7513</td>\n",
       "      <td>0.0217</td>\n",
       "    </tr>\n",
       "    <tr>\n",
       "      <th>2</th>\n",
       "      <td>(1.5, 2.5]</td>\n",
       "      <td>4569</td>\n",
       "      <td>4143</td>\n",
       "      <td>426</td>\n",
       "      <td>0.043692</td>\n",
       "      <td>0.042481</td>\n",
       "      <td>0.060451</td>\n",
       "      <td>-0.3528</td>\n",
       "      <td>0.0063</td>\n",
       "    </tr>\n",
       "    <tr>\n",
       "      <th>3</th>\n",
       "      <td>(2.5, 3.5]</td>\n",
       "      <td>6319</td>\n",
       "      <td>5838</td>\n",
       "      <td>481</td>\n",
       "      <td>0.060427</td>\n",
       "      <td>0.059861</td>\n",
       "      <td>0.068256</td>\n",
       "      <td>-0.1312</td>\n",
       "      <td>0.0011</td>\n",
       "    </tr>\n",
       "    <tr>\n",
       "      <th>4</th>\n",
       "      <td>(3.5, inf]</td>\n",
       "      <td>89581</td>\n",
       "      <td>84147</td>\n",
       "      <td>5434</td>\n",
       "      <td>0.856636</td>\n",
       "      <td>0.862816</td>\n",
       "      <td>0.771108</td>\n",
       "      <td>0.1124</td>\n",
       "      <td>0.0103</td>\n",
       "    </tr>\n",
       "    <tr>\n",
       "      <th>5</th>\n",
       "      <td>Total</td>\n",
       "      <td>104573</td>\n",
       "      <td>97526</td>\n",
       "      <td>7047</td>\n",
       "      <td>1.000000</td>\n",
       "      <td>1.000000</td>\n",
       "      <td>1.000000</td>\n",
       "      <td>NaN</td>\n",
       "      <td>0.0983</td>\n",
       "    </tr>\n",
       "  </tbody>\n",
       "</table>\n",
       "</div>"
      ],
      "text/plain": [
       "          Bins  CntRec  CntGood  CntBad    PctRec   PctGood    PctBad     WOE  \\\n",
       "0  (-inf, 0.5]    1198      878     320  0.011456  0.009003  0.045409 -1.6182   \n",
       "1   (0.5, 1.5]    2906     2520     386  0.027789  0.025839  0.054775 -0.7513   \n",
       "2   (1.5, 2.5]    4569     4143     426  0.043692  0.042481  0.060451 -0.3528   \n",
       "3   (2.5, 3.5]    6319     5838     481  0.060427  0.059861  0.068256 -0.1312   \n",
       "4   (3.5, inf]   89581    84147    5434  0.856636  0.862816  0.771108  0.1124   \n",
       "5        Total  104573    97526    7047  1.000000  1.000000  1.000000     NaN   \n",
       "\n",
       "       IV  \n",
       "0  0.0589  \n",
       "1  0.0217  \n",
       "2  0.0063  \n",
       "3  0.0011  \n",
       "4  0.0103  \n",
       "5  0.0983  "
      ]
     },
     "execution_count": 43,
     "metadata": {},
     "output_type": "execute_result"
    }
   ],
   "source": [
    "NOO.IVtable"
   ]
  },
  {
   "cell_type": "code",
   "execution_count": 44,
   "metadata": {
    "collapsed": true
   },
   "outputs": [
    {
     "data": {
      "text/plain": [
       "RevolvingUtilizationOfUnsecuredLines    1.1384\n",
       "age                                     0.2641\n",
       "NumberOfTime30_59DaysPastDueNotWorse    0.7557\n",
       "DebtRatio                               0.0734\n",
       "MonthlyIncome                           0.0817\n",
       "NumberOfOpenCreditLinesAndLoans         0.0983\n",
       "dtype: float64"
      ]
     },
     "execution_count": 44,
     "metadata": {},
     "output_type": "execute_result"
    }
   ],
   "source": [
    "iv_all=iv_all.append(pd.Series({NOO.Xname:NOO.IV}))\n",
    "iv_all"
   ]
  },
  {
   "cell_type": "markdown",
   "metadata": {},
   "source": [
    "## NumberOfTimes90DaysLate"
   ]
  },
  {
   "cell_type": "code",
   "execution_count": 45,
   "metadata": {
    "collapsed": true
   },
   "outputs": [
    {
     "data": {
      "image/png": "[encoded data removed]",
      "text/plain": [
       "<Figure size 1152x720 with 1 Axes>"
      ]
     },
     "metadata": {
      "needs_background": "light"
     },
     "output_type": "display_data"
    }
   ],
   "source": [
    "NO90=smbin(Xtrain,Ytrain,'NumberOfTimes90DaysLate')"
   ]
  },
  {
   "cell_type": "code",
   "execution_count": 46,
   "metadata": {
    "collapsed": true
   },
   "outputs": [
    {
     "data": {
      "text/html": [
       "<div>\n",
       "<style scoped>\n",
       "    .dataframe tbody tr th:only-of-type {\n",
       "        vertical-align: middle;\n",
       "    }\n",
       "\n",
       "    .dataframe tbody tr th {\n",
       "        vertical-align: top;\n",
       "    }\n",
       "\n",
       "    .dataframe thead th {\n",
       "        text-align: right;\n",
       "    }\n",
       "</style>\n",
       "<table border=\"1\" class=\"dataframe\">\n",
       "  <thead>\n",
       "    <tr style=\"text-align: right;\">\n",
       "      <th></th>\n",
       "      <th>Bins</th>\n",
       "      <th>CntRec</th>\n",
       "      <th>CntGood</th>\n",
       "      <th>CntBad</th>\n",
       "      <th>PctRec</th>\n",
       "      <th>PctGood</th>\n",
       "      <th>PctBad</th>\n",
       "      <th>WOE</th>\n",
       "      <th>IV</th>\n",
       "    </tr>\n",
       "  </thead>\n",
       "  <tbody>\n",
       "    <tr>\n",
       "      <th>0</th>\n",
       "      <td>(-inf, 0.5]</td>\n",
       "      <td>98770</td>\n",
       "      <td>94179</td>\n",
       "      <td>4591</td>\n",
       "      <td>0.944508</td>\n",
       "      <td>0.965681</td>\n",
       "      <td>0.651483</td>\n",
       "      <td>0.3936</td>\n",
       "      <td>0.1237</td>\n",
       "    </tr>\n",
       "    <tr>\n",
       "      <th>1</th>\n",
       "      <td>(0.5, 1.5]</td>\n",
       "      <td>3664</td>\n",
       "      <td>2409</td>\n",
       "      <td>1255</td>\n",
       "      <td>0.035038</td>\n",
       "      <td>0.024701</td>\n",
       "      <td>0.178090</td>\n",
       "      <td>-1.9754</td>\n",
       "      <td>0.3030</td>\n",
       "    </tr>\n",
       "    <tr>\n",
       "      <th>2</th>\n",
       "      <td>(1.5, 2.5]</td>\n",
       "      <td>1090</td>\n",
       "      <td>540</td>\n",
       "      <td>550</td>\n",
       "      <td>0.010423</td>\n",
       "      <td>0.005537</td>\n",
       "      <td>0.078047</td>\n",
       "      <td>-2.6459</td>\n",
       "      <td>0.1919</td>\n",
       "    </tr>\n",
       "    <tr>\n",
       "      <th>3</th>\n",
       "      <td>(2.5, inf]</td>\n",
       "      <td>1049</td>\n",
       "      <td>398</td>\n",
       "      <td>651</td>\n",
       "      <td>0.010031</td>\n",
       "      <td>0.004081</td>\n",
       "      <td>0.092380</td>\n",
       "      <td>-3.1196</td>\n",
       "      <td>0.2755</td>\n",
       "    </tr>\n",
       "    <tr>\n",
       "      <th>4</th>\n",
       "      <td>Total</td>\n",
       "      <td>104573</td>\n",
       "      <td>97526</td>\n",
       "      <td>7047</td>\n",
       "      <td>1.000000</td>\n",
       "      <td>1.000000</td>\n",
       "      <td>1.000000</td>\n",
       "      <td>NaN</td>\n",
       "      <td>0.8941</td>\n",
       "    </tr>\n",
       "  </tbody>\n",
       "</table>\n",
       "</div>"
      ],
      "text/plain": [
       "          Bins  CntRec  CntGood  CntBad    PctRec   PctGood    PctBad     WOE  \\\n",
       "0  (-inf, 0.5]   98770    94179    4591  0.944508  0.965681  0.651483  0.3936   \n",
       "1   (0.5, 1.5]    3664     2409    1255  0.035038  0.024701  0.178090 -1.9754   \n",
       "2   (1.5, 2.5]    1090      540     550  0.010423  0.005537  0.078047 -2.6459   \n",
       "3   (2.5, inf]    1049      398     651  0.010031  0.004081  0.092380 -3.1196   \n",
       "4        Total  104573    97526    7047  1.000000  1.000000  1.000000     NaN   \n",
       "\n",
       "       IV  \n",
       "0  0.1237  \n",
       "1  0.3030  \n",
       "2  0.1919  \n",
       "3  0.2755  \n",
       "4  0.8941  "
      ]
     },
     "execution_count": 46,
     "metadata": {},
     "output_type": "execute_result"
    }
   ],
   "source": [
    "NO90.IVtable"
   ]
  },
  {
   "cell_type": "code",
   "execution_count": 47,
   "metadata": {
    "collapsed": true
   },
   "outputs": [
    {
     "data": {
      "text/plain": [
       "RevolvingUtilizationOfUnsecuredLines    1.1384\n",
       "age                                     0.2641\n",
       "NumberOfTime30_59DaysPastDueNotWorse    0.7557\n",
       "DebtRatio                               0.0734\n",
       "MonthlyIncome                           0.0817\n",
       "NumberOfOpenCreditLinesAndLoans         0.0983\n",
       "NumberOfTimes90DaysLate                 0.8941\n",
       "dtype: float64"
      ]
     },
     "execution_count": 47,
     "metadata": {},
     "output_type": "execute_result"
    }
   ],
   "source": [
    "iv_all=iv_all.append(pd.Series({NO90.Xname:NO90.IV}))\n",
    "iv_all"
   ]
  },
  {
   "cell_type": "markdown",
   "metadata": {},
   "source": [
    "## NumberRealEstateLoansOrLines"
   ]
  },
  {
   "cell_type": "code",
   "execution_count": 48,
   "metadata": {
    "collapsed": true
   },
   "outputs": [
    {
     "data": {
      "image/png": "[encoded data removed]",
      "text/plain": [
       "<Figure size 1152x720 with 1 Axes>"
      ]
     },
     "metadata": {
      "needs_background": "light"
     },
     "output_type": "display_data"
    }
   ],
   "source": [
    "NRE=smbin(Xtrain,Ytrain,'NumberRealEstateLoansOrLines')"
   ]
  },
  {
   "cell_type": "code",
   "execution_count": 49,
   "metadata": {
    "collapsed": true
   },
   "outputs": [
    {
     "data": {
      "text/html": [
       "<div>\n",
       "<style scoped>\n",
       "    .dataframe tbody tr th:only-of-type {\n",
       "        vertical-align: middle;\n",
       "    }\n",
       "\n",
       "    .dataframe tbody tr th {\n",
       "        vertical-align: top;\n",
       "    }\n",
       "\n",
       "    .dataframe thead th {\n",
       "        text-align: right;\n",
       "    }\n",
       "</style>\n",
       "<table border=\"1\" class=\"dataframe\">\n",
       "  <thead>\n",
       "    <tr style=\"text-align: right;\">\n",
       "      <th></th>\n",
       "      <th>Bins</th>\n",
       "      <th>CntRec</th>\n",
       "      <th>CntGood</th>\n",
       "      <th>CntBad</th>\n",
       "      <th>PctRec</th>\n",
       "      <th>PctGood</th>\n",
       "      <th>PctBad</th>\n",
       "      <th>WOE</th>\n",
       "      <th>IV</th>\n",
       "    </tr>\n",
       "  </thead>\n",
       "  <tbody>\n",
       "    <tr>\n",
       "      <th>0</th>\n",
       "      <td>(-inf, 0.5]</td>\n",
       "      <td>38858</td>\n",
       "      <td>35588</td>\n",
       "      <td>3270</td>\n",
       "      <td>0.371587</td>\n",
       "      <td>0.364908</td>\n",
       "      <td>0.464027</td>\n",
       "      <td>-0.2403</td>\n",
       "      <td>0.0238</td>\n",
       "    </tr>\n",
       "    <tr>\n",
       "      <th>1</th>\n",
       "      <td>(0.5, 2.5]</td>\n",
       "      <td>58778</td>\n",
       "      <td>55598</td>\n",
       "      <td>3180</td>\n",
       "      <td>0.562076</td>\n",
       "      <td>0.570084</td>\n",
       "      <td>0.451256</td>\n",
       "      <td>0.2337</td>\n",
       "      <td>0.0278</td>\n",
       "    </tr>\n",
       "    <tr>\n",
       "      <th>2</th>\n",
       "      <td>(2.5, 3.5]</td>\n",
       "      <td>4376</td>\n",
       "      <td>4068</td>\n",
       "      <td>308</td>\n",
       "      <td>0.041846</td>\n",
       "      <td>0.041712</td>\n",
       "      <td>0.043707</td>\n",
       "      <td>-0.0467</td>\n",
       "      <td>0.0001</td>\n",
       "    </tr>\n",
       "    <tr>\n",
       "      <th>3</th>\n",
       "      <td>(3.5, inf]</td>\n",
       "      <td>2561</td>\n",
       "      <td>2272</td>\n",
       "      <td>289</td>\n",
       "      <td>0.024490</td>\n",
       "      <td>0.023296</td>\n",
       "      <td>0.041010</td>\n",
       "      <td>-0.5655</td>\n",
       "      <td>0.0100</td>\n",
       "    </tr>\n",
       "    <tr>\n",
       "      <th>4</th>\n",
       "      <td>Total</td>\n",
       "      <td>104573</td>\n",
       "      <td>97526</td>\n",
       "      <td>7047</td>\n",
       "      <td>1.000000</td>\n",
       "      <td>1.000000</td>\n",
       "      <td>1.000000</td>\n",
       "      <td>NaN</td>\n",
       "      <td>0.0617</td>\n",
       "    </tr>\n",
       "  </tbody>\n",
       "</table>\n",
       "</div>"
      ],
      "text/plain": [
       "          Bins  CntRec  CntGood  CntBad    PctRec   PctGood    PctBad     WOE  \\\n",
       "0  (-inf, 0.5]   38858    35588    3270  0.371587  0.364908  0.464027 -0.2403   \n",
       "1   (0.5, 2.5]   58778    55598    3180  0.562076  0.570084  0.451256  0.2337   \n",
       "2   (2.5, 3.5]    4376     4068     308  0.041846  0.041712  0.043707 -0.0467   \n",
       "3   (3.5, inf]    2561     2272     289  0.024490  0.023296  0.041010 -0.5655   \n",
       "4        Total  104573    97526    7047  1.000000  1.000000  1.000000     NaN   \n",
       "\n",
       "       IV  \n",
       "0  0.0238  \n",
       "1  0.0278  \n",
       "2  0.0001  \n",
       "3  0.0100  \n",
       "4  0.0617  "
      ]
     },
     "execution_count": 49,
     "metadata": {},
     "output_type": "execute_result"
    }
   ],
   "source": [
    "NRE.IVtable"
   ]
  },
  {
   "cell_type": "code",
   "execution_count": 50,
   "metadata": {
    "collapsed": true
   },
   "outputs": [
    {
     "data": {
      "text/plain": [
       "RevolvingUtilizationOfUnsecuredLines    1.1384\n",
       "age                                     0.2641\n",
       "NumberOfTime30_59DaysPastDueNotWorse    0.7557\n",
       "DebtRatio                               0.0734\n",
       "MonthlyIncome                           0.0817\n",
       "NumberOfOpenCreditLinesAndLoans         0.0983\n",
       "NumberOfTimes90DaysLate                 0.8941\n",
       "NumberRealEstateLoansOrLines            0.0617\n",
       "dtype: float64"
      ]
     },
     "execution_count": 50,
     "metadata": {},
     "output_type": "execute_result"
    }
   ],
   "source": [
    "iv_all=iv_all.append(pd.Series({NRE.Xname:NRE.IV}))\n",
    "iv_all"
   ]
  },
  {
   "cell_type": "markdown",
   "metadata": {},
   "source": [
    "## NumberOfTime60_89DaysPastDueNotWorse"
   ]
  },
  {
   "cell_type": "code",
   "execution_count": 51,
   "metadata": {
    "collapsed": true
   },
   "outputs": [
    {
     "data": {
      "image/png": "[encoded data removed]",
      "text/plain": [
       "<Figure size 1152x720 with 1 Axes>"
      ]
     },
     "metadata": {
      "needs_background": "light"
     },
     "output_type": "display_data"
    }
   ],
   "source": [
    "NO6089=smbin(Xtrain,Ytrain,'NumberOfTime60_89DaysPastDueNotWorse')"
   ]
  },
  {
   "cell_type": "code",
   "execution_count": 52,
   "metadata": {
    "collapsed": true
   },
   "outputs": [
    {
     "data": {
      "text/html": [
       "<div>\n",
       "<style scoped>\n",
       "    .dataframe tbody tr th:only-of-type {\n",
       "        vertical-align: middle;\n",
       "    }\n",
       "\n",
       "    .dataframe tbody tr th {\n",
       "        vertical-align: top;\n",
       "    }\n",
       "\n",
       "    .dataframe thead th {\n",
       "        text-align: right;\n",
       "    }\n",
       "</style>\n",
       "<table border=\"1\" class=\"dataframe\">\n",
       "  <thead>\n",
       "    <tr style=\"text-align: right;\">\n",
       "      <th></th>\n",
       "      <th>Bins</th>\n",
       "      <th>CntRec</th>\n",
       "      <th>CntGood</th>\n",
       "      <th>CntBad</th>\n",
       "      <th>PctRec</th>\n",
       "      <th>PctGood</th>\n",
       "      <th>PctBad</th>\n",
       "      <th>WOE</th>\n",
       "      <th>IV</th>\n",
       "    </tr>\n",
       "  </thead>\n",
       "  <tbody>\n",
       "    <tr>\n",
       "      <th>0</th>\n",
       "      <td>(-inf, 0.5]</td>\n",
       "      <td>99220</td>\n",
       "      <td>94134</td>\n",
       "      <td>5086</td>\n",
       "      <td>0.948811</td>\n",
       "      <td>0.965220</td>\n",
       "      <td>0.721726</td>\n",
       "      <td>0.2907</td>\n",
       "      <td>0.0708</td>\n",
       "    </tr>\n",
       "    <tr>\n",
       "      <th>1</th>\n",
       "      <td>(0.5, 1.5]</td>\n",
       "      <td>4060</td>\n",
       "      <td>2801</td>\n",
       "      <td>1259</td>\n",
       "      <td>0.038825</td>\n",
       "      <td>0.028721</td>\n",
       "      <td>0.178658</td>\n",
       "      <td>-1.8279</td>\n",
       "      <td>0.2741</td>\n",
       "    </tr>\n",
       "    <tr>\n",
       "      <th>2</th>\n",
       "      <td>(1.5, inf]</td>\n",
       "      <td>1293</td>\n",
       "      <td>591</td>\n",
       "      <td>702</td>\n",
       "      <td>0.012365</td>\n",
       "      <td>0.006060</td>\n",
       "      <td>0.099617</td>\n",
       "      <td>-2.7996</td>\n",
       "      <td>0.2619</td>\n",
       "    </tr>\n",
       "    <tr>\n",
       "      <th>3</th>\n",
       "      <td>Total</td>\n",
       "      <td>104573</td>\n",
       "      <td>97526</td>\n",
       "      <td>7047</td>\n",
       "      <td>1.000000</td>\n",
       "      <td>1.000000</td>\n",
       "      <td>1.000000</td>\n",
       "      <td>NaN</td>\n",
       "      <td>0.6068</td>\n",
       "    </tr>\n",
       "  </tbody>\n",
       "</table>\n",
       "</div>"
      ],
      "text/plain": [
       "          Bins  CntRec  CntGood  CntBad    PctRec   PctGood    PctBad     WOE  \\\n",
       "0  (-inf, 0.5]   99220    94134    5086  0.948811  0.965220  0.721726  0.2907   \n",
       "1   (0.5, 1.5]    4060     2801    1259  0.038825  0.028721  0.178658 -1.8279   \n",
       "2   (1.5, inf]    1293      591     702  0.012365  0.006060  0.099617 -2.7996   \n",
       "3        Total  104573    97526    7047  1.000000  1.000000  1.000000     NaN   \n",
       "\n",
       "       IV  \n",
       "0  0.0708  \n",
       "1  0.2741  \n",
       "2  0.2619  \n",
       "3  0.6068  "
      ]
     },
     "execution_count": 52,
     "metadata": {},
     "output_type": "execute_result"
    }
   ],
   "source": [
    "NO6089.IVtable"
   ]
  },
  {
   "cell_type": "code",
   "execution_count": 53,
   "metadata": {
    "collapsed": true
   },
   "outputs": [
    {
     "data": {
      "text/plain": [
       "RevolvingUtilizationOfUnsecuredLines    1.1384\n",
       "age                                     0.2641\n",
       "NumberOfTime30_59DaysPastDueNotWorse    0.7557\n",
       "DebtRatio                               0.0734\n",
       "MonthlyIncome                           0.0817\n",
       "NumberOfOpenCreditLinesAndLoans         0.0983\n",
       "NumberOfTimes90DaysLate                 0.8941\n",
       "NumberRealEstateLoansOrLines            0.0617\n",
       "NumberOfTime60_89DaysPastDueNotWorse    0.6068\n",
       "dtype: float64"
      ]
     },
     "execution_count": 53,
     "metadata": {},
     "output_type": "execute_result"
    }
   ],
   "source": [
    "iv_all=iv_all.append(pd.Series({NO6089.Xname:NO6089.IV}))\n",
    "iv_all"
   ]
  },
  {
   "cell_type": "markdown",
   "metadata": {},
   "source": [
    "## NumberOfDependents"
   ]
  },
  {
   "cell_type": "code",
   "execution_count": 54,
   "metadata": {
    "collapsed": true
   },
   "outputs": [
    {
     "data": {
      "image/png": "[encoded data removed]",
      "text/plain": [
       "<Figure size 1152x720 with 1 Axes>"
      ]
     },
     "metadata": {
      "needs_background": "light"
     },
     "output_type": "display_data"
    }
   ],
   "source": [
    "NOD=smbin(Xtrain,Ytrain,'NumberOfDependents')"
   ]
  },
  {
   "cell_type": "code",
   "execution_count": 55,
   "metadata": {
    "collapsed": true
   },
   "outputs": [
    {
     "data": {
      "text/html": [
       "<div>\n",
       "<style scoped>\n",
       "    .dataframe tbody tr th:only-of-type {\n",
       "        vertical-align: middle;\n",
       "    }\n",
       "\n",
       "    .dataframe tbody tr th {\n",
       "        vertical-align: top;\n",
       "    }\n",
       "\n",
       "    .dataframe thead th {\n",
       "        text-align: right;\n",
       "    }\n",
       "</style>\n",
       "<table border=\"1\" class=\"dataframe\">\n",
       "  <thead>\n",
       "    <tr style=\"text-align: right;\">\n",
       "      <th></th>\n",
       "      <th>Bins</th>\n",
       "      <th>CntRec</th>\n",
       "      <th>CntGood</th>\n",
       "      <th>CntBad</th>\n",
       "      <th>PctRec</th>\n",
       "      <th>PctGood</th>\n",
       "      <th>PctBad</th>\n",
       "      <th>WOE</th>\n",
       "      <th>IV</th>\n",
       "    </tr>\n",
       "  </thead>\n",
       "  <tbody>\n",
       "    <tr>\n",
       "      <th>0</th>\n",
       "      <td>(-inf, 0.5]</td>\n",
       "      <td>63179</td>\n",
       "      <td>59486</td>\n",
       "      <td>3693</td>\n",
       "      <td>0.604162</td>\n",
       "      <td>0.609950</td>\n",
       "      <td>0.524053</td>\n",
       "      <td>0.1518</td>\n",
       "      <td>0.0130</td>\n",
       "    </tr>\n",
       "    <tr>\n",
       "      <th>1</th>\n",
       "      <td>(0.5, 1.5]</td>\n",
       "      <td>18271</td>\n",
       "      <td>16908</td>\n",
       "      <td>1363</td>\n",
       "      <td>0.174720</td>\n",
       "      <td>0.173369</td>\n",
       "      <td>0.193416</td>\n",
       "      <td>-0.1094</td>\n",
       "      <td>0.0022</td>\n",
       "    </tr>\n",
       "    <tr>\n",
       "      <th>2</th>\n",
       "      <td>(1.5, 2.5]</td>\n",
       "      <td>13762</td>\n",
       "      <td>12629</td>\n",
       "      <td>1133</td>\n",
       "      <td>0.131602</td>\n",
       "      <td>0.129494</td>\n",
       "      <td>0.160778</td>\n",
       "      <td>-0.2164</td>\n",
       "      <td>0.0068</td>\n",
       "    </tr>\n",
       "    <tr>\n",
       "      <th>3</th>\n",
       "      <td>(2.5, 3.5]</td>\n",
       "      <td>6685</td>\n",
       "      <td>6092</td>\n",
       "      <td>593</td>\n",
       "      <td>0.063927</td>\n",
       "      <td>0.062465</td>\n",
       "      <td>0.084149</td>\n",
       "      <td>-0.2980</td>\n",
       "      <td>0.0065</td>\n",
       "    </tr>\n",
       "    <tr>\n",
       "      <th>4</th>\n",
       "      <td>(3.5, inf]</td>\n",
       "      <td>2676</td>\n",
       "      <td>2411</td>\n",
       "      <td>265</td>\n",
       "      <td>0.025590</td>\n",
       "      <td>0.024722</td>\n",
       "      <td>0.037605</td>\n",
       "      <td>-0.4194</td>\n",
       "      <td>0.0054</td>\n",
       "    </tr>\n",
       "    <tr>\n",
       "      <th>5</th>\n",
       "      <td>Total</td>\n",
       "      <td>104573</td>\n",
       "      <td>97526</td>\n",
       "      <td>7047</td>\n",
       "      <td>1.000000</td>\n",
       "      <td>1.000000</td>\n",
       "      <td>1.000000</td>\n",
       "      <td>NaN</td>\n",
       "      <td>0.0339</td>\n",
       "    </tr>\n",
       "  </tbody>\n",
       "</table>\n",
       "</div>"
      ],
      "text/plain": [
       "          Bins  CntRec  CntGood  CntBad    PctRec   PctGood    PctBad     WOE  \\\n",
       "0  (-inf, 0.5]   63179    59486    3693  0.604162  0.609950  0.524053  0.1518   \n",
       "1   (0.5, 1.5]   18271    16908    1363  0.174720  0.173369  0.193416 -0.1094   \n",
       "2   (1.5, 2.5]   13762    12629    1133  0.131602  0.129494  0.160778 -0.2164   \n",
       "3   (2.5, 3.5]    6685     6092     593  0.063927  0.062465  0.084149 -0.2980   \n",
       "4   (3.5, inf]    2676     2411     265  0.025590  0.024722  0.037605 -0.4194   \n",
       "5        Total  104573    97526    7047  1.000000  1.000000  1.000000     NaN   \n",
       "\n",
       "       IV  \n",
       "0  0.0130  \n",
       "1  0.0022  \n",
       "2  0.0068  \n",
       "3  0.0065  \n",
       "4  0.0054  \n",
       "5  0.0339  "
      ]
     },
     "execution_count": 55,
     "metadata": {},
     "output_type": "execute_result"
    }
   ],
   "source": [
    "NOD.IVtable"
   ]
  },
  {
   "cell_type": "code",
   "execution_count": 56,
   "metadata": {
    "collapsed": true
   },
   "outputs": [
    {
     "data": {
      "text/plain": [
       "RevolvingUtilizationOfUnsecuredLines    1.1384\n",
       "age                                     0.2641\n",
       "NumberOfTime30_59DaysPastDueNotWorse    0.7557\n",
       "DebtRatio                               0.0734\n",
       "MonthlyIncome                           0.0817\n",
       "NumberOfOpenCreditLinesAndLoans         0.0983\n",
       "NumberOfTimes90DaysLate                 0.8941\n",
       "NumberRealEstateLoansOrLines            0.0617\n",
       "NumberOfTime60_89DaysPastDueNotWorse    0.6068\n",
       "NumberOfDependents                      0.0339\n",
       "dtype: float64"
      ]
     },
     "execution_count": 56,
     "metadata": {},
     "output_type": "execute_result"
    }
   ],
   "source": [
    "iv_all=iv_all.append(pd.Series({NOD.Xname:NOD.IV}))\n",
    "iv_all"
   ]
  },
  {
   "cell_type": "markdown",
   "metadata": {},
   "source": [
    "# 查看所有变量IV值"
   ]
  },
  {
   "cell_type": "markdown",
   "metadata": {},
   "source": [
    "- IV值用于筛选变量,删除小于0.02的变量"
   ]
  },
  {
   "cell_type": "code",
   "execution_count": 57,
   "metadata": {},
   "outputs": [
    {
     "data": {
      "text/plain": [
       "RevolvingUtilizationOfUnsecuredLines    1.1384\n",
       "NumberOfTimes90DaysLate                 0.8941\n",
       "NumberOfTime30_59DaysPastDueNotWorse    0.7557\n",
       "NumberOfTime60_89DaysPastDueNotWorse    0.6068\n",
       "age                                     0.2641\n",
       "NumberOfOpenCreditLinesAndLoans         0.0983\n",
       "MonthlyIncome                           0.0817\n",
       "DebtRatio                               0.0734\n",
       "NumberRealEstateLoansOrLines            0.0617\n",
       "NumberOfDependents                      0.0339\n",
       "dtype: float64"
      ]
     },
     "execution_count": 57,
     "metadata": {},
     "output_type": "execute_result"
    }
   ],
   "source": [
    "iv_all.sort_values(ascending=False)"
   ]
  },
  {
   "cell_type": "code",
   "execution_count": 58,
   "metadata": {},
   "outputs": [
    {
     "data": {
      "text/plain": [
       "<AxesSubplot:>"
      ]
     },
     "execution_count": 58,
     "metadata": {},
     "output_type": "execute_result"
    },
    {
     "data": {
      "image/png": "[encoded data removed]",
      "text/plain": [
       "<Figure size 432x288 with 1 Axes>"
      ]
     },
     "metadata": {
      "needs_background": "light"
     },
     "output_type": "display_data"
    }
   ],
   "source": [
    "iv_all.sort_values().plot(kind='barh')"
   ]
  },
  {
   "cell_type": "markdown",
   "metadata": {},
   "source": [
    "- 可见所有的IV值均大于0.02,故这里使用所有变量"
   ]
  },
  {
   "cell_type": "markdown",
   "metadata": {},
   "source": [
    "## 9.生成WOE数据"
   ]
  },
  {
   "cell_type": "code",
   "execution_count": 59,
   "metadata": {},
   "outputs": [],
   "source": [
    "#- 之前smbin和smbin_cu得到的对象根据IV值筛选后,放在一个列表中\n",
    "x_list=[RUO,age,NO3059,DebtRatio,MonthlyIncome,NOO,NO90,NRE,NO6089,NOD]"
   ]
  },
  {
   "cell_type": "code",
   "execution_count": 60,
   "metadata": {},
   "outputs": [],
   "source": [
    "#- 使用smgen函数根据得到的列表生成新数据\n",
    "X_woe=smgen(Xtrain,x_list)"
   ]
  },
  {
   "cell_type": "code",
   "execution_count": 61,
   "metadata": {},
   "outputs": [],
   "source": [
    "#- 抽取WOE列作为预测数据X- 加常数项列\n",
    "X=X_woe.iloc[:,-len(x_list):]\n",
    "X=sm.add_constant(X)"
   ]
  },
  {
   "cell_type": "code",
   "execution_count": 62,
   "metadata": {},
   "outputs": [
    {
     "data": {
      "text/html": [
       "<div>\n",
       "<style scoped>\n",
       "    .dataframe tbody tr th:only-of-type {\n",
       "        vertical-align: middle;\n",
       "    }\n",
       "\n",
       "    .dataframe tbody tr th {\n",
       "        vertical-align: top;\n",
       "    }\n",
       "\n",
       "    .dataframe thead th {\n",
       "        text-align: right;\n",
       "    }\n",
       "</style>\n",
       "<table border=\"1\" class=\"dataframe\">\n",
       "  <thead>\n",
       "    <tr style=\"text-align: right;\">\n",
       "      <th></th>\n",
       "      <th>const</th>\n",
       "      <th>RevolvingUtilizationOfUnsecuredLines_woe</th>\n",
       "      <th>age_woe</th>\n",
       "      <th>NumberOfTime30_59DaysPastDueNotWorse_woe</th>\n",
       "      <th>DebtRatio_woe</th>\n",
       "      <th>MonthlyIncome_woe</th>\n",
       "      <th>NumberOfOpenCreditLinesAndLoans_woe</th>\n",
       "      <th>NumberOfTimes90DaysLate_woe</th>\n",
       "      <th>NumberRealEstateLoansOrLines_woe</th>\n",
       "      <th>NumberOfTime60_89DaysPastDueNotWorse_woe</th>\n",
       "      <th>NumberOfDependents_woe</th>\n",
       "    </tr>\n",
       "  </thead>\n",
       "  <tbody>\n",
       "    <tr>\n",
       "      <th>60563</th>\n",
       "      <td>1.0</td>\n",
       "      <td>1.3230</td>\n",
       "      <td>-0.7084</td>\n",
       "      <td>0.5385</td>\n",
       "      <td>0.1318</td>\n",
       "      <td>-0.4324</td>\n",
       "      <td>-0.1312</td>\n",
       "      <td>0.3936</td>\n",
       "      <td>-0.2403</td>\n",
       "      <td>0.2907</td>\n",
       "      <td>0.1518</td>\n",
       "    </tr>\n",
       "    <tr>\n",
       "      <th>106313</th>\n",
       "      <td>1.0</td>\n",
       "      <td>1.3230</td>\n",
       "      <td>-0.3140</td>\n",
       "      <td>0.5385</td>\n",
       "      <td>-0.2081</td>\n",
       "      <td>-0.4324</td>\n",
       "      <td>0.1124</td>\n",
       "      <td>0.3936</td>\n",
       "      <td>0.2337</td>\n",
       "      <td>0.2907</td>\n",
       "      <td>0.1518</td>\n",
       "    </tr>\n",
       "    <tr>\n",
       "      <th>82817</th>\n",
       "      <td>1.0</td>\n",
       "      <td>-0.8095</td>\n",
       "      <td>-0.5113</td>\n",
       "      <td>0.5385</td>\n",
       "      <td>-0.5975</td>\n",
       "      <td>0.3155</td>\n",
       "      <td>0.1124</td>\n",
       "      <td>0.3936</td>\n",
       "      <td>0.2337</td>\n",
       "      <td>0.2907</td>\n",
       "      <td>0.1518</td>\n",
       "    </tr>\n",
       "    <tr>\n",
       "      <th>137557</th>\n",
       "      <td>1.0</td>\n",
       "      <td>1.3230</td>\n",
       "      <td>-0.1365</td>\n",
       "      <td>0.5385</td>\n",
       "      <td>0.2379</td>\n",
       "      <td>0.2100</td>\n",
       "      <td>0.1124</td>\n",
       "      <td>0.3936</td>\n",
       "      <td>0.2337</td>\n",
       "      <td>0.2907</td>\n",
       "      <td>0.1518</td>\n",
       "    </tr>\n",
       "    <tr>\n",
       "      <th>51853</th>\n",
       "      <td>1.0</td>\n",
       "      <td>-0.8095</td>\n",
       "      <td>0.3423</td>\n",
       "      <td>-0.9112</td>\n",
       "      <td>0.1318</td>\n",
       "      <td>-0.4324</td>\n",
       "      <td>-0.3528</td>\n",
       "      <td>-1.9754</td>\n",
       "      <td>-0.2403</td>\n",
       "      <td>0.2907</td>\n",
       "      <td>-0.2164</td>\n",
       "    </tr>\n",
       "  </tbody>\n",
       "</table>\n",
       "</div>"
      ],
      "text/plain": [
       "        const  RevolvingUtilizationOfUnsecuredLines_woe  age_woe  \\\n",
       "60563     1.0                                    1.3230  -0.7084   \n",
       "106313    1.0                                    1.3230  -0.3140   \n",
       "82817     1.0                                   -0.8095  -0.5113   \n",
       "137557    1.0                                    1.3230  -0.1365   \n",
       "51853     1.0                                   -0.8095   0.3423   \n",
       "\n",
       "        NumberOfTime30_59DaysPastDueNotWorse_woe  DebtRatio_woe  \\\n",
       "60563                                     0.5385         0.1318   \n",
       "106313                                    0.5385        -0.2081   \n",
       "82817                                     0.5385        -0.5975   \n",
       "137557                                    0.5385         0.2379   \n",
       "51853                                    -0.9112         0.1318   \n",
       "\n",
       "        MonthlyIncome_woe  NumberOfOpenCreditLinesAndLoans_woe  \\\n",
       "60563             -0.4324                              -0.1312   \n",
       "106313            -0.4324                               0.1124   \n",
       "82817              0.3155                               0.1124   \n",
       "137557             0.2100                               0.1124   \n",
       "51853             -0.4324                              -0.3528   \n",
       "\n",
       "        NumberOfTimes90DaysLate_woe  NumberRealEstateLoansOrLines_woe  \\\n",
       "60563                        0.3936                           -0.2403   \n",
       "106313                       0.3936                            0.2337   \n",
       "82817                        0.3936                            0.2337   \n",
       "137557                       0.3936                            0.2337   \n",
       "51853                       -1.9754                           -0.2403   \n",
       "\n",
       "        NumberOfTime60_89DaysPastDueNotWorse_woe  NumberOfDependents_woe  \n",
       "60563                                     0.2907                  0.1518  \n",
       "106313                                    0.2907                  0.1518  \n",
       "82817                                     0.2907                  0.1518  \n",
       "137557                                    0.2907                  0.1518  \n",
       "51853                                     0.2907                 -0.2164  "
      ]
     },
     "execution_count": 62,
     "metadata": {},
     "output_type": "execute_result"
    }
   ],
   "source": [
    "X.head()"
   ]
  },
  {
   "cell_type": "markdown",
   "metadata": {},
   "source": [
    "## 10.建立模型  - 建立逻辑回归模型,拟合数据,查看回归结果"
   ]
  },
  {
   "cell_type": "markdown",
   "metadata": {},
   "source": [
    "### 10.1初步建模"
   ]
  },
  {
   "cell_type": "code",
   "execution_count": 63,
   "metadata": {},
   "outputs": [],
   "source": [
    "glmodel=sm.GLM(Ytrain,X,family=sm.families.Binomial()).fit()"
   ]
  },
  {
   "cell_type": "code",
   "execution_count": 64,
   "metadata": {},
   "outputs": [
    {
     "data": {
      "text/html": [
       "<table class=\"simpletable\">\n",
       "<caption>Generalized Linear Model Regression Results</caption>\n",
       "<tr>\n",
       "  <th>Dep. Variable:</th>   <td>SeriousDlqin2yrs</td> <th>  No. Observations:  </th>  <td>104573</td> \n",
       "</tr>\n",
       "<tr>\n",
       "  <th>Model:</th>                  <td>GLM</td>       <th>  Df Residuals:      </th>  <td>104562</td> \n",
       "</tr>\n",
       "<tr>\n",
       "  <th>Model Family:</th>        <td>Binomial</td>     <th>  Df Model:          </th>  <td>    10</td> \n",
       "</tr>\n",
       "<tr>\n",
       "  <th>Link Function:</th>         <td>logit</td>      <th>  Scale:             </th> <td>  1.0000</td>\n",
       "</tr>\n",
       "<tr>\n",
       "  <th>Method:</th>                <td>IRLS</td>       <th>  Log-Likelihood:    </th> <td> -19146.</td>\n",
       "</tr>\n",
       "<tr>\n",
       "  <th>Date:</th>            <td>Tue, 12 Apr 2022</td> <th>  Deviance:          </th> <td>  38292.</td>\n",
       "</tr>\n",
       "<tr>\n",
       "  <th>Time:</th>                <td>17:39:12</td>     <th>  Pearson chi2:      </th> <td>9.02e+04</td>\n",
       "</tr>\n",
       "<tr>\n",
       "  <th>No. Iterations:</th>          <td>7</td>        <th>                     </th>     <td> </td>   \n",
       "</tr>\n",
       "<tr>\n",
       "  <th>Covariance Type:</th>     <td>nonrobust</td>    <th>                     </th>     <td> </td>   \n",
       "</tr>\n",
       "</table>\n",
       "<table class=\"simpletable\">\n",
       "<tr>\n",
       "                      <td></td>                        <th>coef</th>     <th>std err</th>      <th>z</th>      <th>P>|z|</th>  <th>[0.025</th>    <th>0.975]</th>  \n",
       "</tr>\n",
       "<tr>\n",
       "  <th>const</th>                                    <td>    2.5949</td> <td>    0.015</td> <td>  171.916</td> <td> 0.000</td> <td>    2.565</td> <td>    2.624</td>\n",
       "</tr>\n",
       "<tr>\n",
       "  <th>RevolvingUtilizationOfUnsecuredLines_woe</th> <td>    0.6043</td> <td>    0.014</td> <td>   41.701</td> <td> 0.000</td> <td>    0.576</td> <td>    0.633</td>\n",
       "</tr>\n",
       "<tr>\n",
       "  <th>age_woe</th>                                  <td>    0.4311</td> <td>    0.031</td> <td>   13.852</td> <td> 0.000</td> <td>    0.370</td> <td>    0.492</td>\n",
       "</tr>\n",
       "<tr>\n",
       "  <th>NumberOfTime30_59DaysPastDueNotWorse_woe</th> <td>    0.5008</td> <td>    0.016</td> <td>   31.828</td> <td> 0.000</td> <td>    0.470</td> <td>    0.532</td>\n",
       "</tr>\n",
       "<tr>\n",
       "  <th>DebtRatio_woe</th>                            <td>    0.8526</td> <td>    0.054</td> <td>   15.937</td> <td> 0.000</td> <td>    0.748</td> <td>    0.958</td>\n",
       "</tr>\n",
       "<tr>\n",
       "  <th>MonthlyIncome_woe</th>                        <td>    0.1231</td> <td>    0.051</td> <td>    2.410</td> <td> 0.016</td> <td>    0.023</td> <td>    0.223</td>\n",
       "</tr>\n",
       "<tr>\n",
       "  <th>NumberOfOpenCreditLinesAndLoans_woe</th>      <td>   -0.0221</td> <td>    0.046</td> <td>   -0.484</td> <td> 0.628</td> <td>   -0.111</td> <td>    0.067</td>\n",
       "</tr>\n",
       "<tr>\n",
       "  <th>NumberOfTimes90DaysLate_woe</th>              <td>    0.5352</td> <td>    0.014</td> <td>   38.630</td> <td> 0.000</td> <td>    0.508</td> <td>    0.562</td>\n",
       "</tr>\n",
       "<tr>\n",
       "  <th>NumberRealEstateLoansOrLines_woe</th>         <td>    0.6186</td> <td>    0.061</td> <td>   10.166</td> <td> 0.000</td> <td>    0.499</td> <td>    0.738</td>\n",
       "</tr>\n",
       "<tr>\n",
       "  <th>NumberOfTime60_89DaysPastDueNotWorse_woe</th> <td>    0.3726</td> <td>    0.017</td> <td>   21.970</td> <td> 0.000</td> <td>    0.339</td> <td>    0.406</td>\n",
       "</tr>\n",
       "<tr>\n",
       "  <th>NumberOfDependents_woe</th>                   <td>    0.2334</td> <td>    0.077</td> <td>    3.015</td> <td> 0.003</td> <td>    0.082</td> <td>    0.385</td>\n",
       "</tr>\n",
       "</table>"
      ],
      "text/plain": [
       "<class 'statsmodels.iolib.summary.Summary'>\n",
       "\"\"\"\n",
       "                 Generalized Linear Model Regression Results                  \n",
       "==============================================================================\n",
       "Dep. Variable:       SeriousDlqin2yrs   No. Observations:               104573\n",
       "Model:                            GLM   Df Residuals:                   104562\n",
       "Model Family:                Binomial   Df Model:                           10\n",
       "Link Function:                  logit   Scale:                          1.0000\n",
       "Method:                          IRLS   Log-Likelihood:                -19146.\n",
       "Date:                Tue, 12 Apr 2022   Deviance:                       38292.\n",
       "Time:                        17:39:12   Pearson chi2:                 9.02e+04\n",
       "No. Iterations:                     7                                         \n",
       "Covariance Type:            nonrobust                                         \n",
       "============================================================================================================\n",
       "                                               coef    std err          z      P>|z|      [0.025      0.975]\n",
       "------------------------------------------------------------------------------------------------------------\n",
       "const                                        2.5949      0.015    171.916      0.000       2.565       2.624\n",
       "RevolvingUtilizationOfUnsecuredLines_woe     0.6043      0.014     41.701      0.000       0.576       0.633\n",
       "age_woe                                      0.4311      0.031     13.852      0.000       0.370       0.492\n",
       "NumberOfTime30_59DaysPastDueNotWorse_woe     0.5008      0.016     31.828      0.000       0.470       0.532\n",
       "DebtRatio_woe                                0.8526      0.054     15.937      0.000       0.748       0.958\n",
       "MonthlyIncome_woe                            0.1231      0.051      2.410      0.016       0.023       0.223\n",
       "NumberOfOpenCreditLinesAndLoans_woe         -0.0221      0.046     -0.484      0.628      -0.111       0.067\n",
       "NumberOfTimes90DaysLate_woe                  0.5352      0.014     38.630      0.000       0.508       0.562\n",
       "NumberRealEstateLoansOrLines_woe             0.6186      0.061     10.166      0.000       0.499       0.738\n",
       "NumberOfTime60_89DaysPastDueNotWorse_woe     0.3726      0.017     21.970      0.000       0.339       0.406\n",
       "NumberOfDependents_woe                       0.2334      0.077      3.015      0.003       0.082       0.385\n",
       "============================================================================================================\n",
       "\"\"\""
      ]
     },
     "execution_count": 64,
     "metadata": {},
     "output_type": "execute_result"
    }
   ],
   "source": [
    "glmodel.summary()\n",
    "#可以查看系数(coef)、系数标准误(std err)\n",
    "#P>|z|,就是P检验，小于0.05说明显著，说明变量是重要变量"
   ]
  },
  {
   "cell_type": "markdown",
   "metadata": {},
   "source": [
    "### 10.2删除不重要的特征"
   ]
  },
  {
   "cell_type": "code",
   "execution_count": 65,
   "metadata": {},
   "outputs": [],
   "source": [
    "x_list = [RUO,age,NO3059,DebtRatio,MonthlyIncome,NO90,NRE,NO6089,NOD]\n",
    "del X['NumberOfOpenCreditLinesAndLoans_woe']"
   ]
  },
  {
   "cell_type": "markdown",
   "metadata": {},
   "source": [
    "### 10.3重新建模"
   ]
  },
  {
   "cell_type": "code",
   "execution_count": 66,
   "metadata": {},
   "outputs": [
    {
     "data": {
      "text/html": [
       "<table class=\"simpletable\">\n",
       "<caption>Generalized Linear Model Regression Results</caption>\n",
       "<tr>\n",
       "  <th>Dep. Variable:</th>   <td>SeriousDlqin2yrs</td> <th>  No. Observations:  </th>  <td>104573</td> \n",
       "</tr>\n",
       "<tr>\n",
       "  <th>Model:</th>                  <td>GLM</td>       <th>  Df Residuals:      </th>  <td>104563</td> \n",
       "</tr>\n",
       "<tr>\n",
       "  <th>Model Family:</th>        <td>Binomial</td>     <th>  Df Model:          </th>  <td>     9</td> \n",
       "</tr>\n",
       "<tr>\n",
       "  <th>Link Function:</th>         <td>logit</td>      <th>  Scale:             </th> <td>  1.0000</td>\n",
       "</tr>\n",
       "<tr>\n",
       "  <th>Method:</th>                <td>IRLS</td>       <th>  Log-Likelihood:    </th> <td> -19146.</td>\n",
       "</tr>\n",
       "<tr>\n",
       "  <th>Date:</th>            <td>Tue, 12 Apr 2022</td> <th>  Deviance:          </th> <td>  38293.</td>\n",
       "</tr>\n",
       "<tr>\n",
       "  <th>Time:</th>                <td>17:39:13</td>     <th>  Pearson chi2:      </th> <td>9.02e+04</td>\n",
       "</tr>\n",
       "<tr>\n",
       "  <th>No. Iterations:</th>          <td>7</td>        <th>                     </th>     <td> </td>   \n",
       "</tr>\n",
       "<tr>\n",
       "  <th>Covariance Type:</th>     <td>nonrobust</td>    <th>                     </th>     <td> </td>   \n",
       "</tr>\n",
       "</table>\n",
       "<table class=\"simpletable\">\n",
       "<tr>\n",
       "                      <td></td>                        <th>coef</th>     <th>std err</th>      <th>z</th>      <th>P>|z|</th>  <th>[0.025</th>    <th>0.975]</th>  \n",
       "</tr>\n",
       "<tr>\n",
       "  <th>const</th>                                    <td>    2.5949</td> <td>    0.015</td> <td>  171.919</td> <td> 0.000</td> <td>    2.565</td> <td>    2.624</td>\n",
       "</tr>\n",
       "<tr>\n",
       "  <th>RevolvingUtilizationOfUnsecuredLines_woe</th> <td>    0.6029</td> <td>    0.014</td> <td>   42.441</td> <td> 0.000</td> <td>    0.575</td> <td>    0.631</td>\n",
       "</tr>\n",
       "<tr>\n",
       "  <th>age_woe</th>                                  <td>    0.4303</td> <td>    0.031</td> <td>   13.849</td> <td> 0.000</td> <td>    0.369</td> <td>    0.491</td>\n",
       "</tr>\n",
       "<tr>\n",
       "  <th>NumberOfTime30_59DaysPastDueNotWorse_woe</th> <td>    0.5020</td> <td>    0.016</td> <td>   32.319</td> <td> 0.000</td> <td>    0.472</td> <td>    0.532</td>\n",
       "</tr>\n",
       "<tr>\n",
       "  <th>DebtRatio_woe</th>                            <td>    0.8566</td> <td>    0.053</td> <td>   16.206</td> <td> 0.000</td> <td>    0.753</td> <td>    0.960</td>\n",
       "</tr>\n",
       "<tr>\n",
       "  <th>MonthlyIncome_woe</th>                        <td>    0.1216</td> <td>    0.051</td> <td>    2.385</td> <td> 0.017</td> <td>    0.022</td> <td>    0.222</td>\n",
       "</tr>\n",
       "<tr>\n",
       "  <th>NumberOfTimes90DaysLate_woe</th>              <td>    0.5339</td> <td>    0.014</td> <td>   39.303</td> <td> 0.000</td> <td>    0.507</td> <td>    0.561</td>\n",
       "</tr>\n",
       "<tr>\n",
       "  <th>NumberRealEstateLoansOrLines_woe</th>         <td>    0.6132</td> <td>    0.060</td> <td>   10.246</td> <td> 0.000</td> <td>    0.496</td> <td>    0.730</td>\n",
       "</tr>\n",
       "<tr>\n",
       "  <th>NumberOfTime60_89DaysPastDueNotWorse_woe</th> <td>    0.3728</td> <td>    0.017</td> <td>   21.992</td> <td> 0.000</td> <td>    0.340</td> <td>    0.406</td>\n",
       "</tr>\n",
       "<tr>\n",
       "  <th>NumberOfDependents_woe</th>                   <td>    0.2360</td> <td>    0.077</td> <td>    3.056</td> <td> 0.002</td> <td>    0.085</td> <td>    0.387</td>\n",
       "</tr>\n",
       "</table>"
      ],
      "text/plain": [
       "<class 'statsmodels.iolib.summary.Summary'>\n",
       "\"\"\"\n",
       "                 Generalized Linear Model Regression Results                  \n",
       "==============================================================================\n",
       "Dep. Variable:       SeriousDlqin2yrs   No. Observations:               104573\n",
       "Model:                            GLM   Df Residuals:                   104563\n",
       "Model Family:                Binomial   Df Model:                            9\n",
       "Link Function:                  logit   Scale:                          1.0000\n",
       "Method:                          IRLS   Log-Likelihood:                -19146.\n",
       "Date:                Tue, 12 Apr 2022   Deviance:                       38293.\n",
       "Time:                        17:39:13   Pearson chi2:                 9.02e+04\n",
       "No. Iterations:                     7                                         \n",
       "Covariance Type:            nonrobust                                         \n",
       "============================================================================================================\n",
       "                                               coef    std err          z      P>|z|      [0.025      0.975]\n",
       "------------------------------------------------------------------------------------------------------------\n",
       "const                                        2.5949      0.015    171.919      0.000       2.565       2.624\n",
       "RevolvingUtilizationOfUnsecuredLines_woe     0.6029      0.014     42.441      0.000       0.575       0.631\n",
       "age_woe                                      0.4303      0.031     13.849      0.000       0.369       0.491\n",
       "NumberOfTime30_59DaysPastDueNotWorse_woe     0.5020      0.016     32.319      0.000       0.472       0.532\n",
       "DebtRatio_woe                                0.8566      0.053     16.206      0.000       0.753       0.960\n",
       "MonthlyIncome_woe                            0.1216      0.051      2.385      0.017       0.022       0.222\n",
       "NumberOfTimes90DaysLate_woe                  0.5339      0.014     39.303      0.000       0.507       0.561\n",
       "NumberRealEstateLoansOrLines_woe             0.6132      0.060     10.246      0.000       0.496       0.730\n",
       "NumberOfTime60_89DaysPastDueNotWorse_woe     0.3728      0.017     21.992      0.000       0.340       0.406\n",
       "NumberOfDependents_woe                       0.2360      0.077      3.056      0.002       0.085       0.387\n",
       "============================================================================================================\n",
       "\"\"\""
      ]
     },
     "execution_count": 66,
     "metadata": {},
     "output_type": "execute_result"
    }
   ],
   "source": [
    "glmodel=sm.GLM(Ytrain,X,family=sm.families.Binomial()).fit()\n",
    "glmodel.summary()"
   ]
  },
  {
   "cell_type": "markdown",
   "metadata": {},
   "source": [
    "### 10.4查看共线性"
   ]
  },
  {
   "cell_type": "markdown",
   "metadata": {},
   "source": [
    "- 计算每个预测变量的vif值,查看变量间是否存在共线性\n",
    "- VIF值越大，系数标准误会越来越大，置信区间就特别小\n",
    "- VIF在[1,3]之间，变量可以直接用；[3,7]之间，需稍微处理数据才能用；[7,10]之间，数据必须处理才能使用；大于10，出现共线性现象，需改变变量\n",
    "- 各变量VIF计算公式=1/(1-R方)，如计算X1的VIF时，把X1当Y,其他变量当X变量对X1做回归。"
   ]
  },
  {
   "cell_type": "code",
   "execution_count": 67,
   "metadata": {},
   "outputs": [
    {
     "name": "stdout",
     "output_type": "stream",
     "text": [
      "RevolvingUtilizationOfUnsecuredLines_woe    1.446980\n",
      "age_woe                                     1.200806\n",
      "NumberOfTime30_59DaysPastDueNotWorse_woe    1.347560\n",
      "DebtRatio_woe                               1.178914\n",
      "MonthlyIncome_woe                           1.163747\n",
      "NumberOfTimes90DaysLate_woe                 1.399231\n",
      "NumberRealEstateLoansOrLines_woe            1.094250\n",
      "NumberOfTime60_89DaysPastDueNotWorse_woe    1.345109\n",
      "NumberOfDependents_woe                      1.120908\n",
      "dtype: float64\n"
     ]
    }
   ],
   "source": [
    "vif=[variance_inflation_factor(X.iloc[:,1:].values,i)for i in range(X.shape[1]-1)]\n",
    "print(pd.Series(dict(zip(X.columns[1:],vif))))\n",
    "#- 可见不存在共线性"
   ]
  },
  {
   "cell_type": "markdown",
   "metadata": {},
   "source": [
    "## 11.生成评分卡"
   ]
  },
  {
   "cell_type": "markdown",
   "metadata": {},
   "source": [
    "- 根据逻辑回归模型和之前筛选得到的列表,给定参数,生成评分卡\n",
    "- 调整参数,使得评分卡分数范围满足需求"
   ]
  },
  {
   "cell_type": "code",
   "execution_count": 68,
   "metadata": {},
   "outputs": [
    {
     "data": {
      "text/plain": [
       "[301, 842]"
      ]
     },
     "execution_count": 68,
     "metadata": {},
     "output_type": "execute_result"
    }
   ],
   "source": [
    "scorecard=smscale(glmodel,x_list,pdo=42.35,score=790,odds=51.5)\n",
    "scorecard.minmaxscore     #分数的上下限\n",
    "\n",
    "#pdo、score、odds用于确定一条直线，即分数范围即offset,即scorecard.minmaxscore \n",
    "#pdo、score、odds三个参数是按业务给的scorecard.minmaxscore的值来调整\n",
    "#使pdo、score、odds满足minmaxscore=[301, 842]"
   ]
  },
  {
   "cell_type": "markdown",
   "metadata": {},
   "source": [
    "- 查看最终的评分卡"
   ]
  },
  {
   "cell_type": "code",
   "execution_count": 69,
   "metadata": {},
   "outputs": [
    {
     "data": {
      "text/html": [
       "<div>\n",
       "<style scoped>\n",
       "    .dataframe tbody tr th:only-of-type {\n",
       "        vertical-align: middle;\n",
       "    }\n",
       "\n",
       "    .dataframe tbody tr th {\n",
       "        vertical-align: top;\n",
       "    }\n",
       "\n",
       "    .dataframe thead th {\n",
       "        text-align: right;\n",
       "    }\n",
       "</style>\n",
       "<table border=\"1\" class=\"dataframe\">\n",
       "  <thead>\n",
       "    <tr style=\"text-align: right;\">\n",
       "      <th></th>\n",
       "      <th>Characteristic</th>\n",
       "      <th>Attribute</th>\n",
       "      <th>Points</th>\n",
       "    </tr>\n",
       "  </thead>\n",
       "  <tbody>\n",
       "    <tr>\n",
       "      <th>0</th>\n",
       "      <td>RevolvingUtilizationOfUnsecuredLines</td>\n",
       "      <td>(-inf, 0.137]</td>\n",
       "      <td>127</td>\n",
       "    </tr>\n",
       "    <tr>\n",
       "      <th>1</th>\n",
       "      <td>RevolvingUtilizationOfUnsecuredLines</td>\n",
       "      <td>(0.137, 0.301]</td>\n",
       "      <td>103</td>\n",
       "    </tr>\n",
       "    <tr>\n",
       "      <th>2</th>\n",
       "      <td>RevolvingUtilizationOfUnsecuredLines</td>\n",
       "      <td>(0.301, 0.495]</td>\n",
       "      <td>84</td>\n",
       "    </tr>\n",
       "    <tr>\n",
       "      <th>3</th>\n",
       "      <td>RevolvingUtilizationOfUnsecuredLines</td>\n",
       "      <td>(0.495, 0.678]</td>\n",
       "      <td>64</td>\n",
       "    </tr>\n",
       "    <tr>\n",
       "      <th>4</th>\n",
       "      <td>RevolvingUtilizationOfUnsecuredLines</td>\n",
       "      <td>(0.678, 0.863]</td>\n",
       "      <td>48</td>\n",
       "    </tr>\n",
       "    <tr>\n",
       "      <th>5</th>\n",
       "      <td>RevolvingUtilizationOfUnsecuredLines</td>\n",
       "      <td>(0.863, 1.002]</td>\n",
       "      <td>34</td>\n",
       "    </tr>\n",
       "    <tr>\n",
       "      <th>6</th>\n",
       "      <td>RevolvingUtilizationOfUnsecuredLines</td>\n",
       "      <td>(1.002, inf]</td>\n",
       "      <td>-1</td>\n",
       "    </tr>\n",
       "    <tr>\n",
       "      <th>7</th>\n",
       "      <td>age</td>\n",
       "      <td>(-inf, 28.5]</td>\n",
       "      <td>60</td>\n",
       "    </tr>\n",
       "    <tr>\n",
       "      <th>8</th>\n",
       "      <td>age</td>\n",
       "      <td>(28.5, 36.5]</td>\n",
       "      <td>65</td>\n",
       "    </tr>\n",
       "    <tr>\n",
       "      <th>9</th>\n",
       "      <td>age</td>\n",
       "      <td>(36.5, 43.5]</td>\n",
       "      <td>70</td>\n",
       "    </tr>\n",
       "    <tr>\n",
       "      <th>10</th>\n",
       "      <td>age</td>\n",
       "      <td>(43.5, 55.5]</td>\n",
       "      <td>75</td>\n",
       "    </tr>\n",
       "    <tr>\n",
       "      <th>11</th>\n",
       "      <td>age</td>\n",
       "      <td>(55.5, 63.5]</td>\n",
       "      <td>87</td>\n",
       "    </tr>\n",
       "    <tr>\n",
       "      <th>12</th>\n",
       "      <td>age</td>\n",
       "      <td>(63.5, inf]</td>\n",
       "      <td>105</td>\n",
       "    </tr>\n",
       "    <tr>\n",
       "      <th>13</th>\n",
       "      <td>NumberOfTime30_59DaysPastDueNotWorse</td>\n",
       "      <td>(-inf, 0.5]</td>\n",
       "      <td>95</td>\n",
       "    </tr>\n",
       "    <tr>\n",
       "      <th>14</th>\n",
       "      <td>NumberOfTime30_59DaysPastDueNotWorse</td>\n",
       "      <td>(0.5, 1.5]</td>\n",
       "      <td>50</td>\n",
       "    </tr>\n",
       "    <tr>\n",
       "      <th>15</th>\n",
       "      <td>NumberOfTime30_59DaysPastDueNotWorse</td>\n",
       "      <td>(1.5, 2.5]</td>\n",
       "      <td>29</td>\n",
       "    </tr>\n",
       "    <tr>\n",
       "      <th>16</th>\n",
       "      <td>NumberOfTime30_59DaysPastDueNotWorse</td>\n",
       "      <td>(2.5, 3.5]</td>\n",
       "      <td>17</td>\n",
       "    </tr>\n",
       "    <tr>\n",
       "      <th>17</th>\n",
       "      <td>NumberOfTime30_59DaysPastDueNotWorse</td>\n",
       "      <td>(3.5, inf]</td>\n",
       "      <td>0</td>\n",
       "    </tr>\n",
       "    <tr>\n",
       "      <th>18</th>\n",
       "      <td>DebtRatio</td>\n",
       "      <td>(-inf, 0.416]</td>\n",
       "      <td>85</td>\n",
       "    </tr>\n",
       "    <tr>\n",
       "      <th>19</th>\n",
       "      <td>DebtRatio</td>\n",
       "      <td>(0.416, 0.644]</td>\n",
       "      <td>67</td>\n",
       "    </tr>\n",
       "    <tr>\n",
       "      <th>20</th>\n",
       "      <td>DebtRatio</td>\n",
       "      <td>(0.644, 3.973]</td>\n",
       "      <td>47</td>\n",
       "    </tr>\n",
       "    <tr>\n",
       "      <th>21</th>\n",
       "      <td>DebtRatio</td>\n",
       "      <td>(3.973, inf]</td>\n",
       "      <td>91</td>\n",
       "    </tr>\n",
       "    <tr>\n",
       "      <th>22</th>\n",
       "      <td>MonthlyIncome</td>\n",
       "      <td>(-inf, 956.5]</td>\n",
       "      <td>81</td>\n",
       "    </tr>\n",
       "    <tr>\n",
       "      <th>23</th>\n",
       "      <td>MonthlyIncome</td>\n",
       "      <td>(956.5, 3332.5]</td>\n",
       "      <td>75</td>\n",
       "    </tr>\n",
       "    <tr>\n",
       "      <th>24</th>\n",
       "      <td>MonthlyIncome</td>\n",
       "      <td>(3332.5, 5320.5]</td>\n",
       "      <td>77</td>\n",
       "    </tr>\n",
       "    <tr>\n",
       "      <th>25</th>\n",
       "      <td>MonthlyIncome</td>\n",
       "      <td>(5320.5, 6643.5]</td>\n",
       "      <td>78</td>\n",
       "    </tr>\n",
       "    <tr>\n",
       "      <th>26</th>\n",
       "      <td>MonthlyIncome</td>\n",
       "      <td>(6643.5, inf]</td>\n",
       "      <td>80</td>\n",
       "    </tr>\n",
       "    <tr>\n",
       "      <th>27</th>\n",
       "      <td>MonthlyIncome</td>\n",
       "      <td>NaN</td>\n",
       "      <td>80</td>\n",
       "    </tr>\n",
       "    <tr>\n",
       "      <th>28</th>\n",
       "      <td>NumberOfTimes90DaysLate</td>\n",
       "      <td>(-inf, 0.5]</td>\n",
       "      <td>91</td>\n",
       "    </tr>\n",
       "    <tr>\n",
       "      <th>29</th>\n",
       "      <td>NumberOfTimes90DaysLate</td>\n",
       "      <td>(0.5, 1.5]</td>\n",
       "      <td>14</td>\n",
       "    </tr>\n",
       "    <tr>\n",
       "      <th>30</th>\n",
       "      <td>NumberOfTimes90DaysLate</td>\n",
       "      <td>(1.5, 2.5]</td>\n",
       "      <td>-7</td>\n",
       "    </tr>\n",
       "    <tr>\n",
       "      <th>31</th>\n",
       "      <td>NumberOfTimes90DaysLate</td>\n",
       "      <td>(2.5, inf]</td>\n",
       "      <td>-23</td>\n",
       "    </tr>\n",
       "    <tr>\n",
       "      <th>32</th>\n",
       "      <td>NumberRealEstateLoansOrLines</td>\n",
       "      <td>(-inf, 0.5]</td>\n",
       "      <td>69</td>\n",
       "    </tr>\n",
       "    <tr>\n",
       "      <th>33</th>\n",
       "      <td>NumberRealEstateLoansOrLines</td>\n",
       "      <td>(0.5, 2.5]</td>\n",
       "      <td>87</td>\n",
       "    </tr>\n",
       "    <tr>\n",
       "      <th>34</th>\n",
       "      <td>NumberRealEstateLoansOrLines</td>\n",
       "      <td>(2.5, 3.5]</td>\n",
       "      <td>76</td>\n",
       "    </tr>\n",
       "    <tr>\n",
       "      <th>35</th>\n",
       "      <td>NumberRealEstateLoansOrLines</td>\n",
       "      <td>(3.5, inf]</td>\n",
       "      <td>57</td>\n",
       "    </tr>\n",
       "    <tr>\n",
       "      <th>36</th>\n",
       "      <td>NumberOfTime60_89DaysPastDueNotWorse</td>\n",
       "      <td>(-inf, 0.5]</td>\n",
       "      <td>85</td>\n",
       "    </tr>\n",
       "    <tr>\n",
       "      <th>37</th>\n",
       "      <td>NumberOfTime60_89DaysPastDueNotWorse</td>\n",
       "      <td>(0.5, 1.5]</td>\n",
       "      <td>37</td>\n",
       "    </tr>\n",
       "    <tr>\n",
       "      <th>38</th>\n",
       "      <td>NumberOfTime60_89DaysPastDueNotWorse</td>\n",
       "      <td>(1.5, inf]</td>\n",
       "      <td>14</td>\n",
       "    </tr>\n",
       "    <tr>\n",
       "      <th>39</th>\n",
       "      <td>NumberOfDependents</td>\n",
       "      <td>(-inf, 0.5]</td>\n",
       "      <td>80</td>\n",
       "    </tr>\n",
       "    <tr>\n",
       "      <th>40</th>\n",
       "      <td>NumberOfDependents</td>\n",
       "      <td>(0.5, 1.5]</td>\n",
       "      <td>77</td>\n",
       "    </tr>\n",
       "    <tr>\n",
       "      <th>41</th>\n",
       "      <td>NumberOfDependents</td>\n",
       "      <td>(1.5, 2.5]</td>\n",
       "      <td>75</td>\n",
       "    </tr>\n",
       "    <tr>\n",
       "      <th>42</th>\n",
       "      <td>NumberOfDependents</td>\n",
       "      <td>(2.5, 3.5]</td>\n",
       "      <td>74</td>\n",
       "    </tr>\n",
       "    <tr>\n",
       "      <th>43</th>\n",
       "      <td>NumberOfDependents</td>\n",
       "      <td>(3.5, inf]</td>\n",
       "      <td>72</td>\n",
       "    </tr>\n",
       "  </tbody>\n",
       "</table>\n",
       "</div>"
      ],
      "text/plain": [
       "                          Characteristic         Attribute  Points\n",
       "0   RevolvingUtilizationOfUnsecuredLines     (-inf, 0.137]     127\n",
       "1   RevolvingUtilizationOfUnsecuredLines    (0.137, 0.301]     103\n",
       "2   RevolvingUtilizationOfUnsecuredLines    (0.301, 0.495]      84\n",
       "3   RevolvingUtilizationOfUnsecuredLines    (0.495, 0.678]      64\n",
       "4   RevolvingUtilizationOfUnsecuredLines    (0.678, 0.863]      48\n",
       "5   RevolvingUtilizationOfUnsecuredLines    (0.863, 1.002]      34\n",
       "6   RevolvingUtilizationOfUnsecuredLines      (1.002, inf]      -1\n",
       "7                                    age      (-inf, 28.5]      60\n",
       "8                                    age      (28.5, 36.5]      65\n",
       "9                                    age      (36.5, 43.5]      70\n",
       "10                                   age      (43.5, 55.5]      75\n",
       "11                                   age      (55.5, 63.5]      87\n",
       "12                                   age       (63.5, inf]     105\n",
       "13  NumberOfTime30_59DaysPastDueNotWorse       (-inf, 0.5]      95\n",
       "14  NumberOfTime30_59DaysPastDueNotWorse        (0.5, 1.5]      50\n",
       "15  NumberOfTime30_59DaysPastDueNotWorse        (1.5, 2.5]      29\n",
       "16  NumberOfTime30_59DaysPastDueNotWorse        (2.5, 3.5]      17\n",
       "17  NumberOfTime30_59DaysPastDueNotWorse        (3.5, inf]       0\n",
       "18                             DebtRatio     (-inf, 0.416]      85\n",
       "19                             DebtRatio    (0.416, 0.644]      67\n",
       "20                             DebtRatio    (0.644, 3.973]      47\n",
       "21                             DebtRatio      (3.973, inf]      91\n",
       "22                         MonthlyIncome     (-inf, 956.5]      81\n",
       "23                         MonthlyIncome   (956.5, 3332.5]      75\n",
       "24                         MonthlyIncome  (3332.5, 5320.5]      77\n",
       "25                         MonthlyIncome  (5320.5, 6643.5]      78\n",
       "26                         MonthlyIncome     (6643.5, inf]      80\n",
       "27                         MonthlyIncome               NaN      80\n",
       "28               NumberOfTimes90DaysLate       (-inf, 0.5]      91\n",
       "29               NumberOfTimes90DaysLate        (0.5, 1.5]      14\n",
       "30               NumberOfTimes90DaysLate        (1.5, 2.5]      -7\n",
       "31               NumberOfTimes90DaysLate        (2.5, inf]     -23\n",
       "32          NumberRealEstateLoansOrLines       (-inf, 0.5]      69\n",
       "33          NumberRealEstateLoansOrLines        (0.5, 2.5]      87\n",
       "34          NumberRealEstateLoansOrLines        (2.5, 3.5]      76\n",
       "35          NumberRealEstateLoansOrLines        (3.5, inf]      57\n",
       "36  NumberOfTime60_89DaysPastDueNotWorse       (-inf, 0.5]      85\n",
       "37  NumberOfTime60_89DaysPastDueNotWorse        (0.5, 1.5]      37\n",
       "38  NumberOfTime60_89DaysPastDueNotWorse        (1.5, inf]      14\n",
       "39                    NumberOfDependents       (-inf, 0.5]      80\n",
       "40                    NumberOfDependents        (0.5, 1.5]      77\n",
       "41                    NumberOfDependents        (1.5, 2.5]      75\n",
       "42                    NumberOfDependents        (2.5, 3.5]      74\n",
       "43                    NumberOfDependents        (3.5, inf]      72"
      ]
     },
     "execution_count": 69,
     "metadata": {},
     "output_type": "execute_result"
    }
   ],
   "source": [
    "scorecard.ScoreCard\n",
    "\n",
    "#pdo:=factor*ln2\n",
    "#无pdo时：score=offset+factor*ln(odds)\n",
    "#有pdo时，score+pdo=offset+factor*ln(2*odds)\n",
    "#所以，score=offset+(pdo/ln2)*ln(odds)\n",
    "#计算offset:offset=score-(pdo/ln2)*ln(odds)=1150-(43/ln2)*ln10\n",
    "#计算各woe的分值offset/n-factor*(β0/n+β*WOE值)，其中n是特征数，factor=pdo/ln2,β0是模型常数，β是对应特征在模型中的系数"
   ]
  },
  {
   "cell_type": "markdown",
   "metadata": {},
   "source": [
    "- 评分卡写出到csv文件"
   ]
  },
  {
   "cell_type": "code",
   "execution_count": 70,
   "metadata": {},
   "outputs": [],
   "source": [
    "if not os.path.exists('scorecard_result'):\n",
    "    os.makedirs('scorecard_result')\n",
    "    \n",
    "scorecard.ScoreCard.to_csv('scorecard_result/ScoreCard.csv',index=False)"
   ]
  },
  {
   "cell_type": "markdown",
   "metadata": {},
   "source": [
    "## 12 模型评估"
   ]
  },
  {
   "cell_type": "markdown",
   "metadata": {},
   "source": [
    "- 由之前得到的分箱对象生成包含woe列的数据"
   ]
  },
  {
   "cell_type": "code",
   "execution_count": 75,
   "metadata": {},
   "outputs": [],
   "source": [
    "X_test_woe=smgen(Xtest,x_list,isnewdata=True)\n",
    "X_test=X_test_woe.iloc[:,-len(x_list):]\n",
    "X_test=sm.add_constant(X_test)"
   ]
  },
  {
   "cell_type": "code",
   "execution_count": 76,
   "metadata": {},
   "outputs": [
    {
     "data": {
      "text/html": [
       "<div>\n",
       "<style scoped>\n",
       "    .dataframe tbody tr th:only-of-type {\n",
       "        vertical-align: middle;\n",
       "    }\n",
       "\n",
       "    .dataframe tbody tr th {\n",
       "        vertical-align: top;\n",
       "    }\n",
       "\n",
       "    .dataframe thead th {\n",
       "        text-align: right;\n",
       "    }\n",
       "</style>\n",
       "<table border=\"1\" class=\"dataframe\">\n",
       "  <thead>\n",
       "    <tr style=\"text-align: right;\">\n",
       "      <th></th>\n",
       "      <th>const</th>\n",
       "      <th>RevolvingUtilizationOfUnsecuredLines_woe</th>\n",
       "      <th>age_woe</th>\n",
       "      <th>NumberOfTime30_59DaysPastDueNotWorse_woe</th>\n",
       "      <th>DebtRatio_woe</th>\n",
       "      <th>MonthlyIncome_woe</th>\n",
       "      <th>NumberOfTimes90DaysLate_woe</th>\n",
       "      <th>NumberRealEstateLoansOrLines_woe</th>\n",
       "      <th>NumberOfTime60_89DaysPastDueNotWorse_woe</th>\n",
       "      <th>NumberOfDependents_woe</th>\n",
       "    </tr>\n",
       "  </thead>\n",
       "  <tbody>\n",
       "    <tr>\n",
       "      <th>28377</th>\n",
       "      <td>1.0</td>\n",
       "      <td>1.3230</td>\n",
       "      <td>-0.1365</td>\n",
       "      <td>-0.9112</td>\n",
       "      <td>0.1318</td>\n",
       "      <td>0.3155</td>\n",
       "      <td>0.3936</td>\n",
       "      <td>0.2337</td>\n",
       "      <td>0.2907</td>\n",
       "      <td>-0.2980</td>\n",
       "    </tr>\n",
       "    <tr>\n",
       "      <th>6608</th>\n",
       "      <td>1.0</td>\n",
       "      <td>1.3230</td>\n",
       "      <td>-0.3140</td>\n",
       "      <td>-0.9112</td>\n",
       "      <td>0.1318</td>\n",
       "      <td>0.3155</td>\n",
       "      <td>-1.9754</td>\n",
       "      <td>-0.0467</td>\n",
       "      <td>-1.8279</td>\n",
       "      <td>-0.1094</td>\n",
       "    </tr>\n",
       "    <tr>\n",
       "      <th>131491</th>\n",
       "      <td>1.0</td>\n",
       "      <td>1.3230</td>\n",
       "      <td>-0.1365</td>\n",
       "      <td>0.5385</td>\n",
       "      <td>0.1318</td>\n",
       "      <td>0.3155</td>\n",
       "      <td>0.3936</td>\n",
       "      <td>-0.2403</td>\n",
       "      <td>0.2907</td>\n",
       "      <td>-0.2980</td>\n",
       "    </tr>\n",
       "    <tr>\n",
       "      <th>123275</th>\n",
       "      <td>1.0</td>\n",
       "      <td>-0.8095</td>\n",
       "      <td>-0.3140</td>\n",
       "      <td>0.5385</td>\n",
       "      <td>-0.5975</td>\n",
       "      <td>0.3155</td>\n",
       "      <td>0.3936</td>\n",
       "      <td>-0.0467</td>\n",
       "      <td>0.2907</td>\n",
       "      <td>-0.2164</td>\n",
       "    </tr>\n",
       "    <tr>\n",
       "      <th>27812</th>\n",
       "      <td>1.0</td>\n",
       "      <td>1.3230</td>\n",
       "      <td>1.0216</td>\n",
       "      <td>0.5385</td>\n",
       "      <td>0.1318</td>\n",
       "      <td>-0.1890</td>\n",
       "      <td>0.3936</td>\n",
       "      <td>0.2337</td>\n",
       "      <td>0.2907</td>\n",
       "      <td>0.1518</td>\n",
       "    </tr>\n",
       "  </tbody>\n",
       "</table>\n",
       "</div>"
      ],
      "text/plain": [
       "        const  RevolvingUtilizationOfUnsecuredLines_woe  age_woe  \\\n",
       "28377     1.0                                    1.3230  -0.1365   \n",
       "6608      1.0                                    1.3230  -0.3140   \n",
       "131491    1.0                                    1.3230  -0.1365   \n",
       "123275    1.0                                   -0.8095  -0.3140   \n",
       "27812     1.0                                    1.3230   1.0216   \n",
       "\n",
       "        NumberOfTime30_59DaysPastDueNotWorse_woe  DebtRatio_woe  \\\n",
       "28377                                    -0.9112         0.1318   \n",
       "6608                                     -0.9112         0.1318   \n",
       "131491                                    0.5385         0.1318   \n",
       "123275                                    0.5385        -0.5975   \n",
       "27812                                     0.5385         0.1318   \n",
       "\n",
       "        MonthlyIncome_woe  NumberOfTimes90DaysLate_woe  \\\n",
       "28377              0.3155                       0.3936   \n",
       "6608               0.3155                      -1.9754   \n",
       "131491             0.3155                       0.3936   \n",
       "123275             0.3155                       0.3936   \n",
       "27812             -0.1890                       0.3936   \n",
       "\n",
       "        NumberRealEstateLoansOrLines_woe  \\\n",
       "28377                             0.2337   \n",
       "6608                             -0.0467   \n",
       "131491                           -0.2403   \n",
       "123275                           -0.0467   \n",
       "27812                             0.2337   \n",
       "\n",
       "        NumberOfTime60_89DaysPastDueNotWorse_woe  NumberOfDependents_woe  \n",
       "28377                                     0.2907                 -0.2980  \n",
       "6608                                     -1.8279                 -0.1094  \n",
       "131491                                    0.2907                 -0.2980  \n",
       "123275                                    0.2907                 -0.2164  \n",
       "27812                                     0.2907                  0.1518  "
      ]
     },
     "execution_count": 76,
     "metadata": {},
     "output_type": "execute_result"
    }
   ],
   "source": [
    "X_test.head()"
   ]
  },
  {
   "cell_type": "markdown",
   "metadata": {},
   "source": [
    "- 根据之前的分卡对象得到测试集分数"
   ]
  },
  {
   "cell_type": "code",
   "execution_count": 77,
   "metadata": {},
   "outputs": [
    {
     "data": {
      "text/html": [
       "<div>\n",
       "<style scoped>\n",
       "    .dataframe tbody tr th:only-of-type {\n",
       "        vertical-align: middle;\n",
       "    }\n",
       "\n",
       "    .dataframe tbody tr th {\n",
       "        vertical-align: top;\n",
       "    }\n",
       "\n",
       "    .dataframe thead th {\n",
       "        text-align: right;\n",
       "    }\n",
       "</style>\n",
       "<table border=\"1\" class=\"dataframe\">\n",
       "  <thead>\n",
       "    <tr style=\"text-align: right;\">\n",
       "      <th></th>\n",
       "      <th>const</th>\n",
       "      <th>RevolvingUtilizationOfUnsecuredLines_woe</th>\n",
       "      <th>age_woe</th>\n",
       "      <th>NumberOfTime30_59DaysPastDueNotWorse_woe</th>\n",
       "      <th>DebtRatio_woe</th>\n",
       "      <th>MonthlyIncome_woe</th>\n",
       "      <th>NumberOfTimes90DaysLate_woe</th>\n",
       "      <th>NumberRealEstateLoansOrLines_woe</th>\n",
       "      <th>NumberOfTime60_89DaysPastDueNotWorse_woe</th>\n",
       "      <th>NumberOfDependents_woe</th>\n",
       "      <th>RevolvingUtilizationOfUnsecuredLines_Score</th>\n",
       "      <th>age_Score</th>\n",
       "      <th>NumberOfTime30_59DaysPastDueNotWorse_Score</th>\n",
       "      <th>DebtRatio_Score</th>\n",
       "      <th>MonthlyIncome_Score</th>\n",
       "      <th>NumberOfTimes90DaysLate_Score</th>\n",
       "      <th>NumberRealEstateLoansOrLines_Score</th>\n",
       "      <th>NumberOfTime60_89DaysPastDueNotWorse_Score</th>\n",
       "      <th>NumberOfDependents_Score</th>\n",
       "      <th>Score</th>\n",
       "    </tr>\n",
       "  </thead>\n",
       "  <tbody>\n",
       "    <tr>\n",
       "      <th>0</th>\n",
       "      <td>1.0</td>\n",
       "      <td>1.3230</td>\n",
       "      <td>-0.1365</td>\n",
       "      <td>-0.9112</td>\n",
       "      <td>0.1318</td>\n",
       "      <td>0.3155</td>\n",
       "      <td>0.3936</td>\n",
       "      <td>0.2337</td>\n",
       "      <td>0.2907</td>\n",
       "      <td>-0.2980</td>\n",
       "      <td>127</td>\n",
       "      <td>75</td>\n",
       "      <td>50</td>\n",
       "      <td>85</td>\n",
       "      <td>80.0</td>\n",
       "      <td>91</td>\n",
       "      <td>87</td>\n",
       "      <td>85</td>\n",
       "      <td>74</td>\n",
       "      <td>754.0</td>\n",
       "    </tr>\n",
       "    <tr>\n",
       "      <th>1</th>\n",
       "      <td>1.0</td>\n",
       "      <td>1.3230</td>\n",
       "      <td>-0.3140</td>\n",
       "      <td>-0.9112</td>\n",
       "      <td>0.1318</td>\n",
       "      <td>0.3155</td>\n",
       "      <td>-1.9754</td>\n",
       "      <td>-0.0467</td>\n",
       "      <td>-1.8279</td>\n",
       "      <td>-0.1094</td>\n",
       "      <td>127</td>\n",
       "      <td>70</td>\n",
       "      <td>50</td>\n",
       "      <td>85</td>\n",
       "      <td>80.0</td>\n",
       "      <td>14</td>\n",
       "      <td>76</td>\n",
       "      <td>37</td>\n",
       "      <td>77</td>\n",
       "      <td>616.0</td>\n",
       "    </tr>\n",
       "    <tr>\n",
       "      <th>2</th>\n",
       "      <td>1.0</td>\n",
       "      <td>1.3230</td>\n",
       "      <td>-0.1365</td>\n",
       "      <td>0.5385</td>\n",
       "      <td>0.1318</td>\n",
       "      <td>0.3155</td>\n",
       "      <td>0.3936</td>\n",
       "      <td>-0.2403</td>\n",
       "      <td>0.2907</td>\n",
       "      <td>-0.2980</td>\n",
       "      <td>127</td>\n",
       "      <td>75</td>\n",
       "      <td>95</td>\n",
       "      <td>85</td>\n",
       "      <td>80.0</td>\n",
       "      <td>91</td>\n",
       "      <td>69</td>\n",
       "      <td>85</td>\n",
       "      <td>74</td>\n",
       "      <td>781.0</td>\n",
       "    </tr>\n",
       "    <tr>\n",
       "      <th>3</th>\n",
       "      <td>1.0</td>\n",
       "      <td>-0.8095</td>\n",
       "      <td>-0.3140</td>\n",
       "      <td>0.5385</td>\n",
       "      <td>-0.5975</td>\n",
       "      <td>0.3155</td>\n",
       "      <td>0.3936</td>\n",
       "      <td>-0.0467</td>\n",
       "      <td>0.2907</td>\n",
       "      <td>-0.2164</td>\n",
       "      <td>48</td>\n",
       "      <td>70</td>\n",
       "      <td>95</td>\n",
       "      <td>47</td>\n",
       "      <td>80.0</td>\n",
       "      <td>91</td>\n",
       "      <td>76</td>\n",
       "      <td>85</td>\n",
       "      <td>75</td>\n",
       "      <td>667.0</td>\n",
       "    </tr>\n",
       "    <tr>\n",
       "      <th>4</th>\n",
       "      <td>1.0</td>\n",
       "      <td>1.3230</td>\n",
       "      <td>1.0216</td>\n",
       "      <td>0.5385</td>\n",
       "      <td>0.1318</td>\n",
       "      <td>-0.1890</td>\n",
       "      <td>0.3936</td>\n",
       "      <td>0.2337</td>\n",
       "      <td>0.2907</td>\n",
       "      <td>0.1518</td>\n",
       "      <td>127</td>\n",
       "      <td>105</td>\n",
       "      <td>95</td>\n",
       "      <td>85</td>\n",
       "      <td>77.0</td>\n",
       "      <td>91</td>\n",
       "      <td>87</td>\n",
       "      <td>85</td>\n",
       "      <td>80</td>\n",
       "      <td>832.0</td>\n",
       "    </tr>\n",
       "  </tbody>\n",
       "</table>\n",
       "</div>"
      ],
      "text/plain": [
       "   const  RevolvingUtilizationOfUnsecuredLines_woe  age_woe  \\\n",
       "0    1.0                                    1.3230  -0.1365   \n",
       "1    1.0                                    1.3230  -0.3140   \n",
       "2    1.0                                    1.3230  -0.1365   \n",
       "3    1.0                                   -0.8095  -0.3140   \n",
       "4    1.0                                    1.3230   1.0216   \n",
       "\n",
       "   NumberOfTime30_59DaysPastDueNotWorse_woe  DebtRatio_woe  MonthlyIncome_woe  \\\n",
       "0                                   -0.9112         0.1318             0.3155   \n",
       "1                                   -0.9112         0.1318             0.3155   \n",
       "2                                    0.5385         0.1318             0.3155   \n",
       "3                                    0.5385        -0.5975             0.3155   \n",
       "4                                    0.5385         0.1318            -0.1890   \n",
       "\n",
       "   NumberOfTimes90DaysLate_woe  NumberRealEstateLoansOrLines_woe  \\\n",
       "0                       0.3936                            0.2337   \n",
       "1                      -1.9754                           -0.0467   \n",
       "2                       0.3936                           -0.2403   \n",
       "3                       0.3936                           -0.0467   \n",
       "4                       0.3936                            0.2337   \n",
       "\n",
       "   NumberOfTime60_89DaysPastDueNotWorse_woe  NumberOfDependents_woe  \\\n",
       "0                                    0.2907                 -0.2980   \n",
       "1                                   -1.8279                 -0.1094   \n",
       "2                                    0.2907                 -0.2980   \n",
       "3                                    0.2907                 -0.2164   \n",
       "4                                    0.2907                  0.1518   \n",
       "\n",
       "   RevolvingUtilizationOfUnsecuredLines_Score  age_Score  \\\n",
       "0                                         127         75   \n",
       "1                                         127         70   \n",
       "2                                         127         75   \n",
       "3                                          48         70   \n",
       "4                                         127        105   \n",
       "\n",
       "   NumberOfTime30_59DaysPastDueNotWorse_Score  DebtRatio_Score  \\\n",
       "0                                          50               85   \n",
       "1                                          50               85   \n",
       "2                                          95               85   \n",
       "3                                          95               47   \n",
       "4                                          95               85   \n",
       "\n",
       "   MonthlyIncome_Score  NumberOfTimes90DaysLate_Score  \\\n",
       "0                 80.0                             91   \n",
       "1                 80.0                             14   \n",
       "2                 80.0                             91   \n",
       "3                 80.0                             91   \n",
       "4                 77.0                             91   \n",
       "\n",
       "   NumberRealEstateLoansOrLines_Score  \\\n",
       "0                                  87   \n",
       "1                                  76   \n",
       "2                                  69   \n",
       "3                                  76   \n",
       "4                                  87   \n",
       "\n",
       "   NumberOfTime60_89DaysPastDueNotWorse_Score  NumberOfDependents_Score  Score  \n",
       "0                                          85                        74  754.0  \n",
       "1                                          37                        77  616.0  \n",
       "2                                          85                        74  781.0  \n",
       "3                                          85                        75  667.0  \n",
       "4                                          85                        80  832.0  "
      ]
     },
     "execution_count": 77,
     "metadata": {},
     "output_type": "execute_result"
    }
   ],
   "source": [
    "testscore=smscoregen(scorecard,X_test)\n",
    "testscore.head()"
   ]
  },
  {
   "cell_type": "markdown",
   "metadata": {},
   "source": [
    "- 通过测试集中真实的y,和预测的分数,绘制ks曲线\n",
    "- 得到对应的最优阈值以及相关度量"
   ]
  },
  {
   "cell_type": "code",
   "execution_count": 78,
   "metadata": {},
   "outputs": [
    {
     "name": "stdout",
     "output_type": "stream",
     "text": [
      "The optimal cutoff(for ks) is 694.0\n",
      "The maximum value of ks is: 0.5498\n",
      "Score          694.000000\n",
      "TP           33171.000000\n",
      "FP             719.000000\n",
      "FN            8685.000000\n",
      "TN            2243.000000\n",
      "rpp              0.756169\n",
      "tpr              0.792503\n",
      "fpr              0.242741\n",
      "ppv              0.978784\n",
      "acc              0.790174\n",
      "f_measure        0.875848\n",
      "ks               0.549761\n",
      "lift             1.048049\n",
      "Name: 33889, dtype: float64\n"
     ]
    },
    {
     "data": {
      "image/png": "[encoded data removed]",
      "text/plain": [
       "<Figure size 432x288 with 1 Axes>"
      ]
     },
     "metadata": {
      "needs_background": "light"
     },
     "output_type": "display_data"
    }
   ],
   "source": [
    "evaluate1=evaluate01(Ytest,testscore['Score'],index='ks',plot_method='ks')"
   ]
  },
  {
   "cell_type": "markdown",
   "metadata": {},
   "source": [
    "- 绘制ROC曲线"
   ]
  },
  {
   "cell_type": "code",
   "execution_count": 79,
   "metadata": {},
   "outputs": [
    {
     "name": "stdout",
     "output_type": "stream",
     "text": [
      "The optimal cutoff(for ks) is 694.0\n",
      "The maximum value of ks is: 0.5498\n",
      "Score          694.000000\n",
      "TP           33171.000000\n",
      "FP             719.000000\n",
      "FN            8685.000000\n",
      "TN            2243.000000\n",
      "rpp              0.756169\n",
      "tpr              0.792503\n",
      "fpr              0.242741\n",
      "ppv              0.978784\n",
      "acc              0.790174\n",
      "f_measure        0.875848\n",
      "ks               0.549761\n",
      "lift             1.048049\n",
      "Name: 33889, dtype: float64\n"
     ]
    },
    {
     "data": {
      "image/png": "[encoded data removed]",
      "text/plain": [
       "<Figure size 432x288 with 1 Axes>"
      ]
     },
     "metadata": {
      "needs_background": "light"
     },
     "output_type": "display_data"
    }
   ],
   "source": [
    "evaluate2=evaluate01(Ytest,testscore['Score'],index='ks',plot_method='ROC')"
   ]
  },
  {
   "cell_type": "markdown",
   "metadata": {},
   "source": [
    "# 新数据预测"
   ]
  },
  {
   "cell_type": "markdown",
   "metadata": {},
   "source": [
    "- 读取待预测的新数据"
   ]
  },
  {
   "cell_type": "code",
   "execution_count": 80,
   "metadata": {},
   "outputs": [],
   "source": [
    "pred_data=pd.read_csv('cs-test.csv',index_col=0)"
   ]
  },
  {
   "cell_type": "code",
   "execution_count": 81,
   "metadata": {},
   "outputs": [
    {
     "data": {
      "text/html": [
       "<div>\n",
       "<style scoped>\n",
       "    .dataframe tbody tr th:only-of-type {\n",
       "        vertical-align: middle;\n",
       "    }\n",
       "\n",
       "    .dataframe tbody tr th {\n",
       "        vertical-align: top;\n",
       "    }\n",
       "\n",
       "    .dataframe thead th {\n",
       "        text-align: right;\n",
       "    }\n",
       "</style>\n",
       "<table border=\"1\" class=\"dataframe\">\n",
       "  <thead>\n",
       "    <tr style=\"text-align: right;\">\n",
       "      <th></th>\n",
       "      <th>SeriousDlqin2yrs</th>\n",
       "      <th>RevolvingUtilizationOfUnsecuredLines</th>\n",
       "      <th>age</th>\n",
       "      <th>NumberOfTime30-59DaysPastDueNotWorse</th>\n",
       "      <th>DebtRatio</th>\n",
       "      <th>MonthlyIncome</th>\n",
       "      <th>NumberOfOpenCreditLinesAndLoans</th>\n",
       "      <th>NumberOfTimes90DaysLate</th>\n",
       "      <th>NumberRealEstateLoansOrLines</th>\n",
       "      <th>NumberOfTime60-89DaysPastDueNotWorse</th>\n",
       "      <th>NumberOfDependents</th>\n",
       "    </tr>\n",
       "  </thead>\n",
       "  <tbody>\n",
       "    <tr>\n",
       "      <th>1</th>\n",
       "      <td>NaN</td>\n",
       "      <td>0.885519</td>\n",
       "      <td>43</td>\n",
       "      <td>0</td>\n",
       "      <td>0.177513</td>\n",
       "      <td>5700.0</td>\n",
       "      <td>4</td>\n",
       "      <td>0</td>\n",
       "      <td>0</td>\n",
       "      <td>0</td>\n",
       "      <td>0.0</td>\n",
       "    </tr>\n",
       "    <tr>\n",
       "      <th>2</th>\n",
       "      <td>NaN</td>\n",
       "      <td>0.463295</td>\n",
       "      <td>57</td>\n",
       "      <td>0</td>\n",
       "      <td>0.527237</td>\n",
       "      <td>9141.0</td>\n",
       "      <td>15</td>\n",
       "      <td>0</td>\n",
       "      <td>4</td>\n",
       "      <td>0</td>\n",
       "      <td>2.0</td>\n",
       "    </tr>\n",
       "    <tr>\n",
       "      <th>3</th>\n",
       "      <td>NaN</td>\n",
       "      <td>0.043275</td>\n",
       "      <td>59</td>\n",
       "      <td>0</td>\n",
       "      <td>0.687648</td>\n",
       "      <td>5083.0</td>\n",
       "      <td>12</td>\n",
       "      <td>0</td>\n",
       "      <td>1</td>\n",
       "      <td>0</td>\n",
       "      <td>2.0</td>\n",
       "    </tr>\n",
       "    <tr>\n",
       "      <th>4</th>\n",
       "      <td>NaN</td>\n",
       "      <td>0.280308</td>\n",
       "      <td>38</td>\n",
       "      <td>1</td>\n",
       "      <td>0.925961</td>\n",
       "      <td>3200.0</td>\n",
       "      <td>7</td>\n",
       "      <td>0</td>\n",
       "      <td>2</td>\n",
       "      <td>0</td>\n",
       "      <td>0.0</td>\n",
       "    </tr>\n",
       "    <tr>\n",
       "      <th>5</th>\n",
       "      <td>NaN</td>\n",
       "      <td>1.000000</td>\n",
       "      <td>27</td>\n",
       "      <td>0</td>\n",
       "      <td>0.019917</td>\n",
       "      <td>3865.0</td>\n",
       "      <td>4</td>\n",
       "      <td>0</td>\n",
       "      <td>0</td>\n",
       "      <td>0</td>\n",
       "      <td>1.0</td>\n",
       "    </tr>\n",
       "  </tbody>\n",
       "</table>\n",
       "</div>"
      ],
      "text/plain": [
       "   SeriousDlqin2yrs  RevolvingUtilizationOfUnsecuredLines  age  \\\n",
       "1               NaN                              0.885519   43   \n",
       "2               NaN                              0.463295   57   \n",
       "3               NaN                              0.043275   59   \n",
       "4               NaN                              0.280308   38   \n",
       "5               NaN                              1.000000   27   \n",
       "\n",
       "   NumberOfTime30-59DaysPastDueNotWorse  DebtRatio  MonthlyIncome  \\\n",
       "1                                     0   0.177513         5700.0   \n",
       "2                                     0   0.527237         9141.0   \n",
       "3                                     0   0.687648         5083.0   \n",
       "4                                     1   0.925961         3200.0   \n",
       "5                                     0   0.019917         3865.0   \n",
       "\n",
       "   NumberOfOpenCreditLinesAndLoans  NumberOfTimes90DaysLate  \\\n",
       "1                                4                        0   \n",
       "2                               15                        0   \n",
       "3                               12                        0   \n",
       "4                                7                        0   \n",
       "5                                4                        0   \n",
       "\n",
       "   NumberRealEstateLoansOrLines  NumberOfTime60-89DaysPastDueNotWorse  \\\n",
       "1                             0                                     0   \n",
       "2                             4                                     0   \n",
       "3                             1                                     0   \n",
       "4                             2                                     0   \n",
       "5                             0                                     0   \n",
       "\n",
       "   NumberOfDependents  \n",
       "1                 0.0  \n",
       "2                 2.0  \n",
       "3                 2.0  \n",
       "4                 0.0  \n",
       "5                 1.0  "
      ]
     },
     "execution_count": 81,
     "metadata": {},
     "output_type": "execute_result"
    }
   ],
   "source": [
    "pred_data.head()"
   ]
  },
  {
   "cell_type": "markdown",
   "metadata": {},
   "source": [
    "- 对数据进行与训练数据相同的清洗,即使用之前定义的清洗函数"
   ]
  },
  {
   "cell_type": "code",
   "execution_count": 82,
   "metadata": {},
   "outputs": [
    {
     "data": {
      "text/plain": [
       "(101503, 11)"
      ]
     },
     "execution_count": 82,
     "metadata": {},
     "output_type": "execute_result"
    }
   ],
   "source": [
    "pred_data.shape"
   ]
  },
  {
   "cell_type": "code",
   "execution_count": 83,
   "metadata": {},
   "outputs": [],
   "source": [
    "pred0=datacleaning(pred_data)"
   ]
  },
  {
   "cell_type": "code",
   "execution_count": 84,
   "metadata": {},
   "outputs": [
    {
     "data": {
      "text/plain": [
       "(101503, 11)"
      ]
     },
     "execution_count": 84,
     "metadata": {},
     "output_type": "execute_result"
    }
   ],
   "source": [
    "pred0.shape"
   ]
  },
  {
   "cell_type": "markdown",
   "metadata": {},
   "source": [
    "- 由之前得到的分箱对象生成包含woe列的数据"
   ]
  },
  {
   "cell_type": "code",
   "execution_count": 85,
   "metadata": {},
   "outputs": [
    {
     "data": {
      "text/html": [
       "<div>\n",
       "<style scoped>\n",
       "    .dataframe tbody tr th:only-of-type {\n",
       "        vertical-align: middle;\n",
       "    }\n",
       "\n",
       "    .dataframe tbody tr th {\n",
       "        vertical-align: top;\n",
       "    }\n",
       "\n",
       "    .dataframe thead th {\n",
       "        text-align: right;\n",
       "    }\n",
       "</style>\n",
       "<table border=\"1\" class=\"dataframe\">\n",
       "  <thead>\n",
       "    <tr style=\"text-align: right;\">\n",
       "      <th></th>\n",
       "      <th>SeriousDlqin2yrs</th>\n",
       "      <th>RevolvingUtilizationOfUnsecuredLines</th>\n",
       "      <th>age</th>\n",
       "      <th>NumberOfTime30_59DaysPastDueNotWorse</th>\n",
       "      <th>DebtRatio</th>\n",
       "      <th>MonthlyIncome</th>\n",
       "      <th>NumberOfOpenCreditLinesAndLoans</th>\n",
       "      <th>NumberOfTimes90DaysLate</th>\n",
       "      <th>NumberRealEstateLoansOrLines</th>\n",
       "      <th>NumberOfTime60_89DaysPastDueNotWorse</th>\n",
       "      <th>NumberOfDependents</th>\n",
       "      <th>RevolvingUtilizationOfUnsecuredLines_woe</th>\n",
       "      <th>age_woe</th>\n",
       "      <th>NumberOfTime30_59DaysPastDueNotWorse_woe</th>\n",
       "      <th>DebtRatio_woe</th>\n",
       "      <th>MonthlyIncome_woe</th>\n",
       "      <th>NumberOfTimes90DaysLate_woe</th>\n",
       "      <th>NumberRealEstateLoansOrLines_woe</th>\n",
       "      <th>NumberOfTime60_89DaysPastDueNotWorse_woe</th>\n",
       "      <th>NumberOfDependents_woe</th>\n",
       "    </tr>\n",
       "  </thead>\n",
       "  <tbody>\n",
       "    <tr>\n",
       "      <th>1</th>\n",
       "      <td>NaN</td>\n",
       "      <td>0.885519</td>\n",
       "      <td>43</td>\n",
       "      <td>0</td>\n",
       "      <td>0.177513</td>\n",
       "      <td>5700.0</td>\n",
       "      <td>4</td>\n",
       "      <td>0</td>\n",
       "      <td>0</td>\n",
       "      <td>0</td>\n",
       "      <td>0.0</td>\n",
       "      <td>-1.1870</td>\n",
       "      <td>-0.3140</td>\n",
       "      <td>0.5385</td>\n",
       "      <td>0.1318</td>\n",
       "      <td>-0.0127</td>\n",
       "      <td>0.3936</td>\n",
       "      <td>-0.2403</td>\n",
       "      <td>0.2907</td>\n",
       "      <td>0.1518</td>\n",
       "    </tr>\n",
       "    <tr>\n",
       "      <th>2</th>\n",
       "      <td>NaN</td>\n",
       "      <td>0.463295</td>\n",
       "      <td>57</td>\n",
       "      <td>0</td>\n",
       "      <td>0.527237</td>\n",
       "      <td>9141.0</td>\n",
       "      <td>15</td>\n",
       "      <td>0</td>\n",
       "      <td>4</td>\n",
       "      <td>0</td>\n",
       "      <td>2.0</td>\n",
       "      <td>0.1510</td>\n",
       "      <td>0.3423</td>\n",
       "      <td>0.5385</td>\n",
       "      <td>-0.2081</td>\n",
       "      <td>0.3155</td>\n",
       "      <td>0.3936</td>\n",
       "      <td>-0.5655</td>\n",
       "      <td>0.2907</td>\n",
       "      <td>-0.2164</td>\n",
       "    </tr>\n",
       "    <tr>\n",
       "      <th>3</th>\n",
       "      <td>NaN</td>\n",
       "      <td>0.043275</td>\n",
       "      <td>59</td>\n",
       "      <td>0</td>\n",
       "      <td>0.687648</td>\n",
       "      <td>5083.0</td>\n",
       "      <td>12</td>\n",
       "      <td>0</td>\n",
       "      <td>1</td>\n",
       "      <td>0</td>\n",
       "      <td>2.0</td>\n",
       "      <td>1.3230</td>\n",
       "      <td>0.3423</td>\n",
       "      <td>0.5385</td>\n",
       "      <td>-0.5975</td>\n",
       "      <td>-0.1890</td>\n",
       "      <td>0.3936</td>\n",
       "      <td>0.2337</td>\n",
       "      <td>0.2907</td>\n",
       "      <td>-0.2164</td>\n",
       "    </tr>\n",
       "    <tr>\n",
       "      <th>4</th>\n",
       "      <td>NaN</td>\n",
       "      <td>0.280308</td>\n",
       "      <td>38</td>\n",
       "      <td>1</td>\n",
       "      <td>0.925961</td>\n",
       "      <td>3200.0</td>\n",
       "      <td>7</td>\n",
       "      <td>0</td>\n",
       "      <td>2</td>\n",
       "      <td>0</td>\n",
       "      <td>0.0</td>\n",
       "      <td>0.6641</td>\n",
       "      <td>-0.3140</td>\n",
       "      <td>-0.9112</td>\n",
       "      <td>-0.5975</td>\n",
       "      <td>-0.4324</td>\n",
       "      <td>0.3936</td>\n",
       "      <td>0.2337</td>\n",
       "      <td>0.2907</td>\n",
       "      <td>0.1518</td>\n",
       "    </tr>\n",
       "    <tr>\n",
       "      <th>5</th>\n",
       "      <td>NaN</td>\n",
       "      <td>1.000000</td>\n",
       "      <td>27</td>\n",
       "      <td>0</td>\n",
       "      <td>0.019917</td>\n",
       "      <td>3865.0</td>\n",
       "      <td>4</td>\n",
       "      <td>0</td>\n",
       "      <td>0</td>\n",
       "      <td>0</td>\n",
       "      <td>1.0</td>\n",
       "      <td>-1.1870</td>\n",
       "      <td>-0.7084</td>\n",
       "      <td>0.5385</td>\n",
       "      <td>0.1318</td>\n",
       "      <td>-0.1890</td>\n",
       "      <td>0.3936</td>\n",
       "      <td>-0.2403</td>\n",
       "      <td>0.2907</td>\n",
       "      <td>-0.1094</td>\n",
       "    </tr>\n",
       "  </tbody>\n",
       "</table>\n",
       "</div>"
      ],
      "text/plain": [
       "   SeriousDlqin2yrs  RevolvingUtilizationOfUnsecuredLines  age  \\\n",
       "1               NaN                              0.885519   43   \n",
       "2               NaN                              0.463295   57   \n",
       "3               NaN                              0.043275   59   \n",
       "4               NaN                              0.280308   38   \n",
       "5               NaN                              1.000000   27   \n",
       "\n",
       "   NumberOfTime30_59DaysPastDueNotWorse  DebtRatio  MonthlyIncome  \\\n",
       "1                                     0   0.177513         5700.0   \n",
       "2                                     0   0.527237         9141.0   \n",
       "3                                     0   0.687648         5083.0   \n",
       "4                                     1   0.925961         3200.0   \n",
       "5                                     0   0.019917         3865.0   \n",
       "\n",
       "   NumberOfOpenCreditLinesAndLoans  NumberOfTimes90DaysLate  \\\n",
       "1                                4                        0   \n",
       "2                               15                        0   \n",
       "3                               12                        0   \n",
       "4                                7                        0   \n",
       "5                                4                        0   \n",
       "\n",
       "   NumberRealEstateLoansOrLines  NumberOfTime60_89DaysPastDueNotWorse  \\\n",
       "1                             0                                     0   \n",
       "2                             4                                     0   \n",
       "3                             1                                     0   \n",
       "4                             2                                     0   \n",
       "5                             0                                     0   \n",
       "\n",
       "   NumberOfDependents  RevolvingUtilizationOfUnsecuredLines_woe  age_woe  \\\n",
       "1                 0.0                                   -1.1870  -0.3140   \n",
       "2                 2.0                                    0.1510   0.3423   \n",
       "3                 2.0                                    1.3230   0.3423   \n",
       "4                 0.0                                    0.6641  -0.3140   \n",
       "5                 1.0                                   -1.1870  -0.7084   \n",
       "\n",
       "   NumberOfTime30_59DaysPastDueNotWorse_woe  DebtRatio_woe  MonthlyIncome_woe  \\\n",
       "1                                    0.5385         0.1318            -0.0127   \n",
       "2                                    0.5385        -0.2081             0.3155   \n",
       "3                                    0.5385        -0.5975            -0.1890   \n",
       "4                                   -0.9112        -0.5975            -0.4324   \n",
       "5                                    0.5385         0.1318            -0.1890   \n",
       "\n",
       "   NumberOfTimes90DaysLate_woe  NumberRealEstateLoansOrLines_woe  \\\n",
       "1                       0.3936                           -0.2403   \n",
       "2                       0.3936                           -0.5655   \n",
       "3                       0.3936                            0.2337   \n",
       "4                       0.3936                            0.2337   \n",
       "5                       0.3936                           -0.2403   \n",
       "\n",
       "   NumberOfTime60_89DaysPastDueNotWorse_woe  NumberOfDependents_woe  \n",
       "1                                    0.2907                  0.1518  \n",
       "2                                    0.2907                 -0.2164  \n",
       "3                                    0.2907                 -0.2164  \n",
       "4                                    0.2907                  0.1518  \n",
       "5                                    0.2907                 -0.1094  "
      ]
     },
     "execution_count": 85,
     "metadata": {},
     "output_type": "execute_result"
    }
   ],
   "source": [
    "pred_woe=smgen(pred0,x_list,isnewdata=True)\n",
    "pred_woe.head()"
   ]
  },
  {
   "cell_type": "markdown",
   "metadata": {},
   "source": [
    "- 抽取WOE数据生成预测用数据\n",
    "- 要加常数项列"
   ]
  },
  {
   "cell_type": "code",
   "execution_count": 86,
   "metadata": {},
   "outputs": [
    {
     "data": {
      "text/html": [
       "<div>\n",
       "<style scoped>\n",
       "    .dataframe tbody tr th:only-of-type {\n",
       "        vertical-align: middle;\n",
       "    }\n",
       "\n",
       "    .dataframe tbody tr th {\n",
       "        vertical-align: top;\n",
       "    }\n",
       "\n",
       "    .dataframe thead th {\n",
       "        text-align: right;\n",
       "    }\n",
       "</style>\n",
       "<table border=\"1\" class=\"dataframe\">\n",
       "  <thead>\n",
       "    <tr style=\"text-align: right;\">\n",
       "      <th></th>\n",
       "      <th>const</th>\n",
       "      <th>RevolvingUtilizationOfUnsecuredLines_woe</th>\n",
       "      <th>age_woe</th>\n",
       "      <th>NumberOfTime30_59DaysPastDueNotWorse_woe</th>\n",
       "      <th>DebtRatio_woe</th>\n",
       "      <th>MonthlyIncome_woe</th>\n",
       "      <th>NumberOfTimes90DaysLate_woe</th>\n",
       "      <th>NumberRealEstateLoansOrLines_woe</th>\n",
       "      <th>NumberOfTime60_89DaysPastDueNotWorse_woe</th>\n",
       "      <th>NumberOfDependents_woe</th>\n",
       "    </tr>\n",
       "  </thead>\n",
       "  <tbody>\n",
       "    <tr>\n",
       "      <th>1</th>\n",
       "      <td>1.0</td>\n",
       "      <td>-1.1870</td>\n",
       "      <td>-0.3140</td>\n",
       "      <td>0.5385</td>\n",
       "      <td>0.1318</td>\n",
       "      <td>-0.0127</td>\n",
       "      <td>0.3936</td>\n",
       "      <td>-0.2403</td>\n",
       "      <td>0.2907</td>\n",
       "      <td>0.1518</td>\n",
       "    </tr>\n",
       "    <tr>\n",
       "      <th>2</th>\n",
       "      <td>1.0</td>\n",
       "      <td>0.1510</td>\n",
       "      <td>0.3423</td>\n",
       "      <td>0.5385</td>\n",
       "      <td>-0.2081</td>\n",
       "      <td>0.3155</td>\n",
       "      <td>0.3936</td>\n",
       "      <td>-0.5655</td>\n",
       "      <td>0.2907</td>\n",
       "      <td>-0.2164</td>\n",
       "    </tr>\n",
       "    <tr>\n",
       "      <th>3</th>\n",
       "      <td>1.0</td>\n",
       "      <td>1.3230</td>\n",
       "      <td>0.3423</td>\n",
       "      <td>0.5385</td>\n",
       "      <td>-0.5975</td>\n",
       "      <td>-0.1890</td>\n",
       "      <td>0.3936</td>\n",
       "      <td>0.2337</td>\n",
       "      <td>0.2907</td>\n",
       "      <td>-0.2164</td>\n",
       "    </tr>\n",
       "    <tr>\n",
       "      <th>4</th>\n",
       "      <td>1.0</td>\n",
       "      <td>0.6641</td>\n",
       "      <td>-0.3140</td>\n",
       "      <td>-0.9112</td>\n",
       "      <td>-0.5975</td>\n",
       "      <td>-0.4324</td>\n",
       "      <td>0.3936</td>\n",
       "      <td>0.2337</td>\n",
       "      <td>0.2907</td>\n",
       "      <td>0.1518</td>\n",
       "    </tr>\n",
       "    <tr>\n",
       "      <th>5</th>\n",
       "      <td>1.0</td>\n",
       "      <td>-1.1870</td>\n",
       "      <td>-0.7084</td>\n",
       "      <td>0.5385</td>\n",
       "      <td>0.1318</td>\n",
       "      <td>-0.1890</td>\n",
       "      <td>0.3936</td>\n",
       "      <td>-0.2403</td>\n",
       "      <td>0.2907</td>\n",
       "      <td>-0.1094</td>\n",
       "    </tr>\n",
       "  </tbody>\n",
       "</table>\n",
       "</div>"
      ],
      "text/plain": [
       "   const  RevolvingUtilizationOfUnsecuredLines_woe  age_woe  \\\n",
       "1    1.0                                   -1.1870  -0.3140   \n",
       "2    1.0                                    0.1510   0.3423   \n",
       "3    1.0                                    1.3230   0.3423   \n",
       "4    1.0                                    0.6641  -0.3140   \n",
       "5    1.0                                   -1.1870  -0.7084   \n",
       "\n",
       "   NumberOfTime30_59DaysPastDueNotWorse_woe  DebtRatio_woe  MonthlyIncome_woe  \\\n",
       "1                                    0.5385         0.1318            -0.0127   \n",
       "2                                    0.5385        -0.2081             0.3155   \n",
       "3                                    0.5385        -0.5975            -0.1890   \n",
       "4                                   -0.9112        -0.5975            -0.4324   \n",
       "5                                    0.5385         0.1318            -0.1890   \n",
       "\n",
       "   NumberOfTimes90DaysLate_woe  NumberRealEstateLoansOrLines_woe  \\\n",
       "1                       0.3936                           -0.2403   \n",
       "2                       0.3936                           -0.5655   \n",
       "3                       0.3936                            0.2337   \n",
       "4                       0.3936                            0.2337   \n",
       "5                       0.3936                           -0.2403   \n",
       "\n",
       "   NumberOfTime60_89DaysPastDueNotWorse_woe  NumberOfDependents_woe  \n",
       "1                                    0.2907                  0.1518  \n",
       "2                                    0.2907                 -0.2164  \n",
       "3                                    0.2907                 -0.2164  \n",
       "4                                    0.2907                  0.1518  \n",
       "5                                    0.2907                 -0.1094  "
      ]
     },
     "execution_count": 86,
     "metadata": {},
     "output_type": "execute_result"
    }
   ],
   "source": [
    "X_pred=pred_woe.iloc[:,-len(x_list):]\n",
    "X_pred=sm.add_constant(X_pred)\n",
    "X_pred.head()"
   ]
  },
  {
   "cell_type": "markdown",
   "metadata": {},
   "source": [
    "- 预测每一行数据是好客户的概率"
   ]
  },
  {
   "cell_type": "code",
   "execution_count": 87,
   "metadata": {},
   "outputs": [
    {
     "data": {
      "text/plain": [
       "1    0.911561\n",
       "2    0.947065\n",
       "3    0.975541\n",
       "4    0.911813\n",
       "5    0.888950\n",
       "dtype: float64"
      ]
     },
     "execution_count": 87,
     "metadata": {},
     "output_type": "execute_result"
    }
   ],
   "source": [
    "y_pred=glmodel.predict(X_pred)\n",
    "y_pred.head()"
   ]
  },
  {
   "cell_type": "markdown",
   "metadata": {},
   "source": [
    "- 预测每行数据的分数,生成总分数和每个特征的分数"
   ]
  },
  {
   "cell_type": "code",
   "execution_count": 88,
   "metadata": {},
   "outputs": [
    {
     "data": {
      "text/html": [
       "<div>\n",
       "<style scoped>\n",
       "    .dataframe tbody tr th:only-of-type {\n",
       "        vertical-align: middle;\n",
       "    }\n",
       "\n",
       "    .dataframe tbody tr th {\n",
       "        vertical-align: top;\n",
       "    }\n",
       "\n",
       "    .dataframe thead th {\n",
       "        text-align: right;\n",
       "    }\n",
       "</style>\n",
       "<table border=\"1\" class=\"dataframe\">\n",
       "  <thead>\n",
       "    <tr style=\"text-align: right;\">\n",
       "      <th></th>\n",
       "      <th>const</th>\n",
       "      <th>RevolvingUtilizationOfUnsecuredLines_woe</th>\n",
       "      <th>age_woe</th>\n",
       "      <th>NumberOfTime30_59DaysPastDueNotWorse_woe</th>\n",
       "      <th>DebtRatio_woe</th>\n",
       "      <th>MonthlyIncome_woe</th>\n",
       "      <th>NumberOfTimes90DaysLate_woe</th>\n",
       "      <th>NumberRealEstateLoansOrLines_woe</th>\n",
       "      <th>NumberOfTime60_89DaysPastDueNotWorse_woe</th>\n",
       "      <th>NumberOfDependents_woe</th>\n",
       "      <th>RevolvingUtilizationOfUnsecuredLines_Score</th>\n",
       "      <th>age_Score</th>\n",
       "      <th>NumberOfTime30_59DaysPastDueNotWorse_Score</th>\n",
       "      <th>DebtRatio_Score</th>\n",
       "      <th>MonthlyIncome_Score</th>\n",
       "      <th>NumberOfTimes90DaysLate_Score</th>\n",
       "      <th>NumberRealEstateLoansOrLines_Score</th>\n",
       "      <th>NumberOfTime60_89DaysPastDueNotWorse_Score</th>\n",
       "      <th>NumberOfDependents_Score</th>\n",
       "      <th>Score</th>\n",
       "    </tr>\n",
       "  </thead>\n",
       "  <tbody>\n",
       "    <tr>\n",
       "      <th>0</th>\n",
       "      <td>1.0</td>\n",
       "      <td>-1.1870</td>\n",
       "      <td>-0.3140</td>\n",
       "      <td>0.5385</td>\n",
       "      <td>0.1318</td>\n",
       "      <td>-0.0127</td>\n",
       "      <td>0.3936</td>\n",
       "      <td>-0.2403</td>\n",
       "      <td>0.2907</td>\n",
       "      <td>0.1518</td>\n",
       "      <td>34</td>\n",
       "      <td>70</td>\n",
       "      <td>95</td>\n",
       "      <td>85</td>\n",
       "      <td>78.0</td>\n",
       "      <td>91</td>\n",
       "      <td>69</td>\n",
       "      <td>85</td>\n",
       "      <td>80</td>\n",
       "      <td>687.0</td>\n",
       "    </tr>\n",
       "    <tr>\n",
       "      <th>1</th>\n",
       "      <td>1.0</td>\n",
       "      <td>0.1510</td>\n",
       "      <td>0.3423</td>\n",
       "      <td>0.5385</td>\n",
       "      <td>-0.2081</td>\n",
       "      <td>0.3155</td>\n",
       "      <td>0.3936</td>\n",
       "      <td>-0.5655</td>\n",
       "      <td>0.2907</td>\n",
       "      <td>-0.2164</td>\n",
       "      <td>84</td>\n",
       "      <td>87</td>\n",
       "      <td>95</td>\n",
       "      <td>67</td>\n",
       "      <td>80.0</td>\n",
       "      <td>91</td>\n",
       "      <td>57</td>\n",
       "      <td>85</td>\n",
       "      <td>75</td>\n",
       "      <td>721.0</td>\n",
       "    </tr>\n",
       "    <tr>\n",
       "      <th>2</th>\n",
       "      <td>1.0</td>\n",
       "      <td>1.3230</td>\n",
       "      <td>0.3423</td>\n",
       "      <td>0.5385</td>\n",
       "      <td>-0.5975</td>\n",
       "      <td>-0.1890</td>\n",
       "      <td>0.3936</td>\n",
       "      <td>0.2337</td>\n",
       "      <td>0.2907</td>\n",
       "      <td>-0.2164</td>\n",
       "      <td>127</td>\n",
       "      <td>87</td>\n",
       "      <td>95</td>\n",
       "      <td>47</td>\n",
       "      <td>77.0</td>\n",
       "      <td>91</td>\n",
       "      <td>87</td>\n",
       "      <td>85</td>\n",
       "      <td>75</td>\n",
       "      <td>771.0</td>\n",
       "    </tr>\n",
       "    <tr>\n",
       "      <th>3</th>\n",
       "      <td>1.0</td>\n",
       "      <td>0.6641</td>\n",
       "      <td>-0.3140</td>\n",
       "      <td>-0.9112</td>\n",
       "      <td>-0.5975</td>\n",
       "      <td>-0.4324</td>\n",
       "      <td>0.3936</td>\n",
       "      <td>0.2337</td>\n",
       "      <td>0.2907</td>\n",
       "      <td>0.1518</td>\n",
       "      <td>103</td>\n",
       "      <td>70</td>\n",
       "      <td>50</td>\n",
       "      <td>47</td>\n",
       "      <td>75.0</td>\n",
       "      <td>91</td>\n",
       "      <td>87</td>\n",
       "      <td>85</td>\n",
       "      <td>80</td>\n",
       "      <td>688.0</td>\n",
       "    </tr>\n",
       "    <tr>\n",
       "      <th>4</th>\n",
       "      <td>1.0</td>\n",
       "      <td>-1.1870</td>\n",
       "      <td>-0.7084</td>\n",
       "      <td>0.5385</td>\n",
       "      <td>0.1318</td>\n",
       "      <td>-0.1890</td>\n",
       "      <td>0.3936</td>\n",
       "      <td>-0.2403</td>\n",
       "      <td>0.2907</td>\n",
       "      <td>-0.1094</td>\n",
       "      <td>34</td>\n",
       "      <td>60</td>\n",
       "      <td>95</td>\n",
       "      <td>85</td>\n",
       "      <td>77.0</td>\n",
       "      <td>91</td>\n",
       "      <td>69</td>\n",
       "      <td>85</td>\n",
       "      <td>77</td>\n",
       "      <td>673.0</td>\n",
       "    </tr>\n",
       "  </tbody>\n",
       "</table>\n",
       "</div>"
      ],
      "text/plain": [
       "   const  RevolvingUtilizationOfUnsecuredLines_woe  age_woe  \\\n",
       "0    1.0                                   -1.1870  -0.3140   \n",
       "1    1.0                                    0.1510   0.3423   \n",
       "2    1.0                                    1.3230   0.3423   \n",
       "3    1.0                                    0.6641  -0.3140   \n",
       "4    1.0                                   -1.1870  -0.7084   \n",
       "\n",
       "   NumberOfTime30_59DaysPastDueNotWorse_woe  DebtRatio_woe  MonthlyIncome_woe  \\\n",
       "0                                    0.5385         0.1318            -0.0127   \n",
       "1                                    0.5385        -0.2081             0.3155   \n",
       "2                                    0.5385        -0.5975            -0.1890   \n",
       "3                                   -0.9112        -0.5975            -0.4324   \n",
       "4                                    0.5385         0.1318            -0.1890   \n",
       "\n",
       "   NumberOfTimes90DaysLate_woe  NumberRealEstateLoansOrLines_woe  \\\n",
       "0                       0.3936                           -0.2403   \n",
       "1                       0.3936                           -0.5655   \n",
       "2                       0.3936                            0.2337   \n",
       "3                       0.3936                            0.2337   \n",
       "4                       0.3936                           -0.2403   \n",
       "\n",
       "   NumberOfTime60_89DaysPastDueNotWorse_woe  NumberOfDependents_woe  \\\n",
       "0                                    0.2907                  0.1518   \n",
       "1                                    0.2907                 -0.2164   \n",
       "2                                    0.2907                 -0.2164   \n",
       "3                                    0.2907                  0.1518   \n",
       "4                                    0.2907                 -0.1094   \n",
       "\n",
       "   RevolvingUtilizationOfUnsecuredLines_Score  age_Score  \\\n",
       "0                                          34         70   \n",
       "1                                          84         87   \n",
       "2                                         127         87   \n",
       "3                                         103         70   \n",
       "4                                          34         60   \n",
       "\n",
       "   NumberOfTime30_59DaysPastDueNotWorse_Score  DebtRatio_Score  \\\n",
       "0                                          95               85   \n",
       "1                                          95               67   \n",
       "2                                          95               47   \n",
       "3                                          50               47   \n",
       "4                                          95               85   \n",
       "\n",
       "   MonthlyIncome_Score  NumberOfTimes90DaysLate_Score  \\\n",
       "0                 78.0                             91   \n",
       "1                 80.0                             91   \n",
       "2                 77.0                             91   \n",
       "3                 75.0                             91   \n",
       "4                 77.0                             91   \n",
       "\n",
       "   NumberRealEstateLoansOrLines_Score  \\\n",
       "0                                  69   \n",
       "1                                  57   \n",
       "2                                  87   \n",
       "3                                  87   \n",
       "4                                  69   \n",
       "\n",
       "   NumberOfTime60_89DaysPastDueNotWorse_Score  NumberOfDependents_Score  Score  \n",
       "0                                          85                        80  687.0  \n",
       "1                                          85                        75  721.0  \n",
       "2                                          85                        75  771.0  \n",
       "3                                          85                        80  688.0  \n",
       "4                                          85                        77  673.0  "
      ]
     },
     "execution_count": 88,
     "metadata": {},
     "output_type": "execute_result"
    }
   ],
   "source": [
    "pred_score=smscoregen(scorecard,X_pred)\n",
    "pred_score.head()"
   ]
  },
  {
   "cell_type": "markdown",
   "metadata": {},
   "source": [
    "- 根据分数和训练得到的阈值判断客户的好坏,好客户是1,坏客户是0"
   ]
  },
  {
   "cell_type": "code",
   "execution_count": 89,
   "metadata": {},
   "outputs": [
    {
     "data": {
      "text/html": [
       "<div>\n",
       "<style scoped>\n",
       "    .dataframe tbody tr th:only-of-type {\n",
       "        vertical-align: middle;\n",
       "    }\n",
       "\n",
       "    .dataframe tbody tr th {\n",
       "        vertical-align: top;\n",
       "    }\n",
       "\n",
       "    .dataframe thead th {\n",
       "        text-align: right;\n",
       "    }\n",
       "</style>\n",
       "<table border=\"1\" class=\"dataframe\">\n",
       "  <thead>\n",
       "    <tr style=\"text-align: right;\">\n",
       "      <th></th>\n",
       "      <th>SeriousDlqin2yrs</th>\n",
       "      <th>RevolvingUtilizationOfUnsecuredLines</th>\n",
       "      <th>age</th>\n",
       "      <th>NumberOfTime30_59DaysPastDueNotWorse</th>\n",
       "      <th>DebtRatio</th>\n",
       "      <th>MonthlyIncome</th>\n",
       "      <th>NumberOfOpenCreditLinesAndLoans</th>\n",
       "      <th>NumberOfTimes90DaysLate</th>\n",
       "      <th>NumberRealEstateLoansOrLines</th>\n",
       "      <th>NumberOfTime60_89DaysPastDueNotWorse</th>\n",
       "      <th>NumberOfDependents</th>\n",
       "    </tr>\n",
       "  </thead>\n",
       "  <tbody>\n",
       "    <tr>\n",
       "      <th>1</th>\n",
       "      <td>1.0</td>\n",
       "      <td>0.885519</td>\n",
       "      <td>43</td>\n",
       "      <td>0</td>\n",
       "      <td>0.177513</td>\n",
       "      <td>5700.0</td>\n",
       "      <td>4</td>\n",
       "      <td>0</td>\n",
       "      <td>0</td>\n",
       "      <td>0</td>\n",
       "      <td>0.0</td>\n",
       "    </tr>\n",
       "    <tr>\n",
       "      <th>2</th>\n",
       "      <td>1.0</td>\n",
       "      <td>0.463295</td>\n",
       "      <td>57</td>\n",
       "      <td>0</td>\n",
       "      <td>0.527237</td>\n",
       "      <td>9141.0</td>\n",
       "      <td>15</td>\n",
       "      <td>0</td>\n",
       "      <td>4</td>\n",
       "      <td>0</td>\n",
       "      <td>2.0</td>\n",
       "    </tr>\n",
       "    <tr>\n",
       "      <th>3</th>\n",
       "      <td>0.0</td>\n",
       "      <td>0.043275</td>\n",
       "      <td>59</td>\n",
       "      <td>0</td>\n",
       "      <td>0.687648</td>\n",
       "      <td>5083.0</td>\n",
       "      <td>12</td>\n",
       "      <td>0</td>\n",
       "      <td>1</td>\n",
       "      <td>0</td>\n",
       "      <td>2.0</td>\n",
       "    </tr>\n",
       "    <tr>\n",
       "      <th>4</th>\n",
       "      <td>0.0</td>\n",
       "      <td>0.280308</td>\n",
       "      <td>38</td>\n",
       "      <td>1</td>\n",
       "      <td>0.925961</td>\n",
       "      <td>3200.0</td>\n",
       "      <td>7</td>\n",
       "      <td>0</td>\n",
       "      <td>2</td>\n",
       "      <td>0</td>\n",
       "      <td>0.0</td>\n",
       "    </tr>\n",
       "    <tr>\n",
       "      <th>5</th>\n",
       "      <td>1.0</td>\n",
       "      <td>1.000000</td>\n",
       "      <td>27</td>\n",
       "      <td>0</td>\n",
       "      <td>0.019917</td>\n",
       "      <td>3865.0</td>\n",
       "      <td>4</td>\n",
       "      <td>0</td>\n",
       "      <td>0</td>\n",
       "      <td>0</td>\n",
       "      <td>1.0</td>\n",
       "    </tr>\n",
       "  </tbody>\n",
       "</table>\n",
       "</div>"
      ],
      "text/plain": [
       "   SeriousDlqin2yrs  RevolvingUtilizationOfUnsecuredLines  age  \\\n",
       "1               1.0                              0.885519   43   \n",
       "2               1.0                              0.463295   57   \n",
       "3               0.0                              0.043275   59   \n",
       "4               0.0                              0.280308   38   \n",
       "5               1.0                              1.000000   27   \n",
       "\n",
       "   NumberOfTime30_59DaysPastDueNotWorse  DebtRatio  MonthlyIncome  \\\n",
       "1                                     0   0.177513         5700.0   \n",
       "2                                     0   0.527237         9141.0   \n",
       "3                                     0   0.687648         5083.0   \n",
       "4                                     1   0.925961         3200.0   \n",
       "5                                     0   0.019917         3865.0   \n",
       "\n",
       "   NumberOfOpenCreditLinesAndLoans  NumberOfTimes90DaysLate  \\\n",
       "1                                4                        0   \n",
       "2                               15                        0   \n",
       "3                               12                        0   \n",
       "4                                7                        0   \n",
       "5                                4                        0   \n",
       "\n",
       "   NumberRealEstateLoansOrLines  NumberOfTime60_89DaysPastDueNotWorse  \\\n",
       "1                             0                                     0   \n",
       "2                             4                                     0   \n",
       "3                             1                                     0   \n",
       "4                             2                                     0   \n",
       "5                             0                                     0   \n",
       "\n",
       "   NumberOfDependents  \n",
       "1                 0.0  \n",
       "2                 2.0  \n",
       "3                 2.0  \n",
       "4                 0.0  \n",
       "5                 1.0  "
      ]
     },
     "execution_count": 89,
     "metadata": {},
     "output_type": "execute_result"
    }
   ],
   "source": [
    "pred0[y]=(pred_score.Score>evaluate1.cutoff)*1\n",
    "pred0.head()"
   ]
  },
  {
   "cell_type": "code",
   "execution_count": 90,
   "metadata": {},
   "outputs": [
    {
     "data": {
      "text/plain": [
       "0.8463365908929003"
      ]
     },
     "execution_count": 90,
     "metadata": {},
     "output_type": "execute_result"
    }
   ],
   "source": [
    "evaluate1.AUC"
   ]
  },
  {
   "cell_type": "code",
   "execution_count": null,
   "metadata": {},
   "outputs": [],
   "source": []
  }
 ],
 "metadata": {
  "kernelspec": {
   "display_name": "Python 3",
   "language": "python",
   "name": "python3"
  },
  "language_info": {
   "codemirror_mode": {
    "name": "ipython",
    "version": 3
   },
   "file_extension": ".py",
   "mimetype": "text/x-python",
   "name": "python",
   "nbconvert_exporter": "python",
   "pygments_lexer": "ipython3",
   "version": "3.8.5"
  },
  "toc": {
   "base_numbering": 1,
   "nav_menu": {},
   "number_sections": true,
   "sideBar": true,
   "skip_h1_title": false,
   "title_cell": "目录",
   "title_sidebar": "Contents",
   "toc_cell": true,
   "toc_position": {
    "height": "calc(100% - 180px)",
    "left": "10px",
    "top": "150px",
    "width": "191.717px"
   },
   "toc_section_display": true,
   "toc_window_display": true
  }
 },
 "nbformat": 4,
 "nbformat_minor": 2
}
